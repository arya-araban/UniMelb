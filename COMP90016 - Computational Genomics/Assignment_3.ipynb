{
  "cells": [
    {
      "cell_type": "markdown",
      "metadata": {
        "deletable": false,
        "editable": false,
        "nbgrader": {
          "cell_type": "markdown",
          "checksum": "d53ae3bb2a28d4af07e4faac9bfc66fb",
          "grade": false,
          "grade_id": "cell-945c701acf87112b",
          "locked": true,
          "schema_version": 3,
          "solution": false,
          "task": false
        },
        "id": "xDxE6AgwiT_H"
      },
      "source": [
        "# COMP90016 - Assignment 3\n",
        "Version 1.3 Last edited 08/05/2023.\n"
      ]
    },
    {
      "cell_type": "code",
      "execution_count": 83,
      "metadata": {
        "id": "y6PSNoeoiT_W"
      },
      "outputs": [],
      "source": [
        "### Fill in your student details here\n",
        "NAME = \"Arya Araban\"\n",
        "\n",
        "ID = \"1439683\""
      ]
    },
    {
      "cell_type": "code",
      "source": [
        "!pip install biopython"
      ],
      "metadata": {
        "id": "rILHMfU1ipxu",
        "colab": {
          "base_uri": "https://localhost:8080/"
        },
        "outputId": "cc4f86b5-e33d-4281-f821-5cc491b134c2"
      },
      "execution_count": 84,
      "outputs": [
        {
          "output_type": "stream",
          "name": "stdout",
          "text": [
            "Looking in indexes: https://pypi.org/simple, https://us-python.pkg.dev/colab-wheels/public/simple/\n",
            "Requirement already satisfied: biopython in /usr/local/lib/python3.10/dist-packages (1.81)\n",
            "Requirement already satisfied: numpy in /usr/local/lib/python3.10/dist-packages (from biopython) (1.22.4)\n"
          ]
        }
      ]
    },
    {
      "cell_type": "markdown",
      "metadata": {
        "deletable": false,
        "editable": false,
        "nbgrader": {
          "cell_type": "markdown",
          "checksum": "27ef356750f0db65421d7e76c35de9c5",
          "grade": false,
          "grade_id": "cell-74b544a996fad338",
          "locked": true,
          "schema_version": 3,
          "solution": false,
          "task": false
        },
        "id": "xE0SMlHDiT_c"
      },
      "source": [
        "## Semester 1, 2023"
      ]
    },
    {
      "cell_type": "markdown",
      "metadata": {
        "deletable": false,
        "editable": false,
        "nbgrader": {
          "cell_type": "markdown",
          "checksum": "65bb100de6e83f18d28941eb183e39c7",
          "grade": false,
          "grade_id": "cell-925c75bea7b7a1ac",
          "locked": true,
          "schema_version": 3,
          "solution": false,
          "task": false
        },
        "id": "VNP-TxeNiT_d"
      },
      "source": [
        "This assignment should be completed by each student individually. Make sure you read this entire document, and ask for help if anything is not clear. Any changes or clarifications to this document will be announced via the LMS.\n",
        "\n",
        "Please make sure you review the University's rules on academic honesty and plagiarism: https://academichonesty.unimelb.edu.au/\n",
        "\n",
        "Do not copy any code from other students or from the internet. This is considered plagiarism.\n",
        "\n",
        "Your completed notebook file containing all your answers will be turned in via LMS. Please also submit an HTML file.\n",
        "\n",
        "To complete the assignment, finish the tasks in this notebook.\n",
        "\n",
        "The tasks are a combination of utilising computational genomics tools, writing your own code, interpreting the results and answering related short-answer questions.\n",
        "\n",
        "In some cases, we have provided test input and test output that you can use to try out your solutions. These tests are just samples and are **not** exhaustive - they may warn you if you've made a mistake, but they are not guaranteed to. It's up to you to decide whether your code is correct.\n",
        "\n",
        "**Remember to save your work early and often.**"
      ]
    },
    {
      "cell_type": "markdown",
      "metadata": {
        "deletable": false,
        "editable": false,
        "nbgrader": {
          "cell_type": "markdown",
          "checksum": "dc985179818fd7a7c9760fe4e08be436",
          "grade": false,
          "grade_id": "cell-d8196ad77ddd5f64",
          "locked": true,
          "schema_version": 3,
          "solution": false,
          "task": false
        },
        "id": "D01liyPwiT_f"
      },
      "source": [
        "## Marking\n",
        "\n",
        "Cells that must be completed to receive marks are clearly labelled. Some cells are code cells, in which you must complete the code to solve a problem. Others are markdown cells, in which you must write your answers to short-answer questions. \n",
        "\n",
        "\n",
        "### Completing code cells\n",
        "\n",
        "Cells that must be completed to receive marks are labelled like this:\n",
        "\n",
        "`# -- GRADED CELL (1 mark) - complete this cell --`\n",
        "\n",
        "- You will see the following text in graded code cells:\n",
        "\n",
        "``` python\n",
        "# YOUR CODE HERE\n",
        "raise NotImplementedError()\n",
        "```\n",
        "\n",
        "- ***You must remove the `raise NotImplementedError()` line from the cell, and replace it with your solution.***\n",
        "\n",
        "\n",
        "- Only add answers to graded cells. If you want to import a library or use a helper function, this must be included in a graded cell.\n",
        "\n",
        "- Run-time limits will be imposed for each coding question. The run-time of a code cell can be calculated by including `%time` at the top of your cell. Cells exceeding the run-time limit **will not be marked**. The run-time limits only apply to thtest cases that are included in this document.\n",
        "\n",
        "- Include code comments in your solutions. Well commented code can help you to receive partial marks even if the final solution is incorrect. \n",
        "\n",
        "\n",
        "### Completing written questions\n",
        "\n",
        "Short answer questions will be followed by a solution cell that looks like this:\n",
        "\n",
        "`-- GRADED CELL (5 marks) - complete this cell --`\n",
        "\n",
        "`YOUR ANSWER HERE`\n",
        "\n",
        "- Only put your responses in these cells.\n",
        "- Word limits, where stated, will be strictly enforced. Answers exceeding the limit **will not be marked**.\n",
        "\n",
        "\n",
        "\n",
        "### Editing the notebook\n",
        "\n",
        "**Only** graded cells will be marked.\n",
        "- Don't enter solutions outside of graded cells\n",
        "- Do **NOT** duplicate or remove cells from the notebook\n",
        "- You may add new cells to test code, but new cells will not be graded.\n",
        "- Word limits, where stated, will be strictly enforced. Answers exceeding the limit **will not be marked**.\n",
        "\n",
        "\n",
        "### Marks\n",
        "\n",
        "No marks are allocated to commenting in your code. We do however, encourage efficient and well commented code.\n",
        "\n",
        "The total marks for the assignment add up to 100, and it will be worth 15% of your overall subject grade.\n",
        "\n",
        "Part 1: 25 marks\n",
        "\n",
        "Part 2: 40 marks\n",
        "\n",
        "Part 3: 35 marks"
      ]
    },
    {
      "cell_type": "markdown",
      "metadata": {
        "deletable": false,
        "editable": false,
        "nbgrader": {
          "cell_type": "markdown",
          "checksum": "06ec3de80a0dbbfc9bb2f52a2a0f1805",
          "grade": false,
          "grade_id": "cell-ce22ffc47f8b8e52",
          "locked": true,
          "schema_version": 3,
          "solution": false,
          "task": false
        },
        "id": "Cujo7avoiT_h"
      },
      "source": [
        "## Submitting\n",
        "\n",
        "Before you turn this assignment in, make sure everything runs as expected. First, **restart the kernel** (in the menubar, select Kernel$\\rightarrow$Restart) and then **run all cells** (in the menubar, select Cell$\\rightarrow$Run All).\n",
        "\n",
        "Make sure you fill in any place that says `YOUR CODE HERE` or \"YOUR ANSWER HERE\", as well as your name and student ID at the top of this notebook.\n",
        "\n",
        "\n",
        "Your completed notebook file containing all your answers must be turned in via LMS in `.ipynb` format.\n",
        "You must also submit a copy of this notebook in `html` format with the output cleared.\n",
        "You can do this by using the `clear all output` option in the menu.\n",
        "\n",
        "Your submission should include **only two** files with names formatted as: **Assignment_3.ipynb** and **Assignment_3.html**"
      ]
    },
    {
      "cell_type": "markdown",
      "metadata": {
        "deletable": false,
        "editable": false,
        "nbgrader": {
          "cell_type": "markdown",
          "checksum": "59f23f78b6b7613bd5525d686e4057ed",
          "grade": false,
          "grade_id": "cell-a93d4b2bae7d34e6",
          "locked": true,
          "schema_version": 3,
          "solution": false,
          "task": false
        },
        "id": "J7ZqQFAEiT_i"
      },
      "source": [
        "## Overview\n",
        "\n",
        "In this assignment, you will answer questions about workflows, phylogenetics and and genome annotation.\n",
        "\n",
        "You will use the `biopython` library in your functions. You may want to refer to sections of the documentation for additional help. Additional to `biopython` and standard Python 3 functions and methods, you may also use any other library we have used in COMP90016 including `collections`, `numpy`, `pandas`, `math`, `itertools`, `seaborn` and `matplotlib`."
      ]
    },
    {
      "cell_type": "markdown",
      "metadata": {
        "id": "BixxNmZeiT_j"
      },
      "source": [
        "# Setup"
      ]
    },
    {
      "cell_type": "code",
      "execution_count": 85,
      "metadata": {
        "id": "oIiuMDgMiT_k"
      },
      "outputs": [],
      "source": [
        "import os\n",
        "import requests\n",
        "from IPython.core.display import HTML\n",
        "\n",
        "# Handy function to fetch our data files\n",
        "def fetch_file(url, outpath='.'):\n",
        "    response = requests.get(url)\n",
        "    if response.status_code == 200:\n",
        "        print('File found!')\n",
        "        # Get the filename from the URL\n",
        "        filename = os.path.basename(url).split('?', 1)[0]\n",
        "        # Construct the filepath using the specified directory and filename\n",
        "        filepath = os.path.join(outpath, filename)\n",
        "        # Create the directory if it doesn't exist\n",
        "        if not os.path.exists(outpath):\n",
        "            print(f'Creating output dir: {outpath}')\n",
        "            os.makedirs(outpath)\n",
        "        # Check if the file already exists in the specified directory\n",
        "        if os.path.exists(filepath):\n",
        "            print(f'{filename} already exists in {outpath}')\n",
        "        else:\n",
        "            with open(filepath, 'wb') as f:\n",
        "                f.write(response.content)\n",
        "                f.close()\n",
        "            print(f'Saved to: {filepath}')\n",
        "    else:\n",
        "        print('File not found')"
      ]
    },
    {
      "cell_type": "code",
      "execution_count": 86,
      "metadata": {
        "id": "JQwZU4DliT_m",
        "colab": {
          "base_uri": "https://localhost:8080/",
          "height": 17
        },
        "outputId": "a2b7ba84-8d64-4806-b4b7-19136fac322e"
      },
      "outputs": [
        {
          "output_type": "execute_result",
          "data": {
            "text/plain": [
              "<IPython.core.display.HTML object>"
            ],
            "text/html": [
              "<style>h1 {\n",
              "    border: 3.0px solid #333;\n",
              "    padding: 12px 18px;\n",
              "    background-color: #C8D3FD;\n",
              "}\n",
              "\n",
              "h2 {\n",
              "    padding: 12px 18px;\n",
              "    background-color: #C8D3FD;\n",
              "}\n",
              "\n",
              ".question {\n",
              "    color: rgb(0, 96, 100);\n",
              "    background: rgb(178, 235, 242);\n",
              "    border: solid 1px rgb(77, 208, 225);\n",
              "    padding: 10px;\n",
              "}\n",
              "\n",
              ".info {\n",
              "    color: rgb(27, 94, 32);\n",
              "    background: rgb(200, 230, 201);\n",
              "    border: solid 1px rgb(129, 199, 132);\n",
              "    padding: 10px;\n",
              "}\n",
              "\n",
              "</style>"
            ]
          },
          "metadata": {},
          "execution_count": 86
        }
      ],
      "source": [
        "# Make the notebook pretty\n",
        "HTML(requests.get('https://raw.githubusercontent.com/melbournebioinformatics/COMP90016/main/data/2023/style/custom.css').text)"
      ]
    },
    {
      "cell_type": "code",
      "execution_count": 87,
      "metadata": {
        "id": "9ijboFafiT_n",
        "colab": {
          "base_uri": "https://localhost:8080/"
        },
        "outputId": "bcede1a7-4d4c-4473-e422-01cd0f3a8f76"
      },
      "outputs": [
        {
          "output_type": "stream",
          "name": "stdout",
          "text": [
            "File found!\n",
            "comp90016_assignment_3_tree.nwk already exists in data\n",
            "File found!\n",
            "comp90016_assignment_3_assembly.fasta.gz already exists in data\n",
            "File found!\n",
            "comp90016_assignment_3_B_luteolus.gff already exists in data\n"
          ]
        }
      ],
      "source": [
        "# Fetch assignment data\n",
        "f_names = [\"comp90016_assignment_3_tree.nwk\",\n",
        "          \"comp90016_assignment_3_assembly.fasta.gz\",\n",
        "          \"comp90016_assignment_3_B_luteolus.gff\"]\n",
        "\n",
        "for filename in f_names:     \n",
        "    url = f'https://github.com/melbournebioinformatics/COMP90016/blob/main/data/2023/Assignment_03/data/{filename}?raw=true'\n",
        "    fetch_file(url,outpath='data')\n",
        "    \n",
        "  "
      ]
    },
    {
      "cell_type": "markdown",
      "metadata": {
        "deletable": false,
        "editable": false,
        "nbgrader": {
          "cell_type": "markdown",
          "checksum": "90e993d412eb5f265819bef882aadf40",
          "grade": false,
          "grade_id": "cell-487e37c841515446",
          "locked": true,
          "schema_version": 3,
          "solution": false,
          "task": false
        },
        "id": "qkB4UOhXiT_o"
      },
      "source": [
        "## Part 1: Workflows"
      ]
    },
    {
      "cell_type": "markdown",
      "metadata": {
        "deletable": false,
        "editable": false,
        "nbgrader": {
          "cell_type": "markdown",
          "checksum": "dc4daeb235c4c356bad9692545280e15",
          "grade": false,
          "grade_id": "cell-0bc8dc5279526c22",
          "locked": true,
          "schema_version": 3,
          "solution": false,
          "task": false
        },
        "tags": [],
        "id": "621w-VSgiT_p"
      },
      "source": [
        "### Questions\n",
        "In the cells below, complete the following tasks:"
      ]
    },
    {
      "cell_type": "markdown",
      "metadata": {
        "deletable": false,
        "editable": false,
        "nbgrader": {
          "cell_type": "markdown",
          "checksum": "c027da283e1eb3644eb2b3673615efc8",
          "grade": false,
          "grade_id": "Q-1-1",
          "locked": true,
          "points": 15,
          "schema_version": 3,
          "solution": false,
          "task": true
        },
        "id": "ZyhpHUEQiT_q"
      },
      "source": [
        "### Question 1.1 \n",
        "\n",
        "(15 marks, max 200 words)\n",
        "\n",
        "<div class=\"alert alert-info\">\n",
        "\n",
        "Describe a workflow that could be used to call germline SNVs and indels from short (Illumina) reads. The starting data consist of FASTQ files containing paired-end Illumina reads from DNA for 100 human patients with a rare disease. The FASTQ files each contain a readset for an individual patient. \n",
        "- Justify why you have chosen to include each step of your workflow. \n",
        "- Include a quality control step. \n",
        "- Include the names of the tools you propose to use and the specific inputs and outputs of each step. \n",
        "- Please use tools that have been used or mentioned in COMP90016 this semester. \n",
        "- Explain the filters you would use to filter the variants so that the number of false positive calls is minimised. \n",
        "- The output of the proposed workflow should be a VCF file. \n",
        "- Choose an appropriate workflow language for your workflow and provide one reason for your choice.\n",
        "    \n",
        "</div>\n",
        "\n",
        "\n"
      ]
    },
    {
      "cell_type": "markdown",
      "metadata": {
        "id": "mJ9Y23V9iT_r"
      },
      "source": [
        "-- GRADED CELL (15 marks) - complete this cell --\n",
        "\n",
        "Quality control: Use FastQC for quality control of reads to ensure adequate quality. Then, trim reads using Python to remove low-quality bases and adapter sequences. (input: FASTQ -- output: HTML)\n",
        "\n",
        "Read alignment: Align the reads to the reference genome using SAMtools. (input: FASTQ -- output: BAM)\n",
        "\n",
        "Sorting and indexing: Sort and index the BAM file using SAMtools to prepare it for downstream analysis. (input: BAM -- output: BAM)\n",
        "\n",
        "Mark duplicates: Mark duplicate reads using SAMtools to remove PCR duplicates.(input: BAM -- output: BAM)\n",
        "\n",
        "Variant calling: Call variants using SAMtools. (input: BAM -- output: VCF)\n",
        "\n",
        "Variant filtering: Filter the variants using Pandas based on quality score, allele frequency, etc.. to minimize false positive calls. (input: VCF -- output: VCF)\n",
        "\n",
        "The workflow language used to implement this workflow could be Nextflow, which allows for easy parallelization of tasks and efficient handling of large datasets.\n",
        "\n",
        "Overall, this workflow is justified because it provides a standard and reliable approach for detecting germline variants using Illumina short-read sequencing data. The quality control step ensures that only high-quality reads are used for downstream analysis, while the read alignment and variant calling steps accurately identify variants. The variant filtering step helps to minimize false positive calls, which is crucial for clinical applications."
      ]
    },
    {
      "cell_type": "markdown",
      "metadata": {
        "deletable": false,
        "editable": false,
        "nbgrader": {
          "cell_type": "markdown",
          "checksum": "84475b055aa25e9aa52a616b074f6f25",
          "grade": false,
          "grade_id": "Q-1-2",
          "locked": true,
          "points": 10,
          "schema_version": 3,
          "solution": false,
          "task": true
        },
        "id": "t6MGQec2iT_s"
      },
      "source": [
        "### Question 1.2 \n",
        "\n",
        "(10 marks, max 100 words)\n",
        "\n",
        "<div class=\"alert alert-info\">\n",
        "\n",
        "Describe the kinds of parallelism that could be used with your workflow. \n",
        "    \n",
        "</div>\n",
        "\n",
        "\n"
      ]
    },
    {
      "cell_type": "markdown",
      "metadata": {
        "id": "_gQeiU5wiT_t"
      },
      "source": [
        "-- GRADED CELL (10 marks) - complete this cell --\n",
        "\n",
        "Parallelism can be used in the given workflow to increase its efficiency and processing speed. \n",
        "\n",
        "Nextflow provides various methods for implementing parallel processing, such as parallel processing of multiple samples, parallel processing of different tasks, parallel processing of different regions of the genome, and parallel processing of different parameters. For example, the read alignment and variant calling steps can be parallelized by splitting the data into smaller chunks and processing them in parallel.\n",
        "\n",
        "By utilizing parallelism, the workflow can be optimized for scalability, throughput, and processing speed, depending on the specific needs and constraints of the analysis. \n"
      ]
    },
    {
      "cell_type": "markdown",
      "metadata": {
        "deletable": false,
        "editable": false,
        "nbgrader": {
          "cell_type": "markdown",
          "checksum": "64374c142cb4da89eb0d4bad7ad760d8",
          "grade": false,
          "grade_id": "cell-82695d9cb875747b",
          "locked": true,
          "schema_version": 3,
          "solution": false,
          "task": false
        },
        "id": "TPdoAHFjiT_u"
      },
      "source": [
        "## Part 2: Phylogenetics"
      ]
    },
    {
      "cell_type": "markdown",
      "metadata": {
        "deletable": false,
        "editable": false,
        "nbgrader": {
          "cell_type": "markdown",
          "checksum": "279a64585533c765b0d226c686fa7879",
          "grade": false,
          "grade_id": "cell-ef1e324129fee11b",
          "locked": true,
          "schema_version": 3,
          "solution": false,
          "task": false
        },
        "tags": [],
        "id": "tJpjuHTKiT_u"
      },
      "source": [
        "### Setup"
      ]
    },
    {
      "cell_type": "markdown",
      "metadata": {
        "deletable": false,
        "editable": false,
        "nbgrader": {
          "cell_type": "markdown",
          "checksum": "f2f5655eea9a810e9f9c19c65212846d",
          "grade": false,
          "grade_id": "cell-aad4a332ad153c33",
          "locked": true,
          "schema_version": 3,
          "solution": false,
          "task": false
        },
        "id": "P8sK9bTxiT_v"
      },
      "source": [
        "The questions in part two relate to [this 2021 paper](https://www.sciencedirect.com/science/article/abs/pii/S1055790321001147)  \n",
        "\n",
        ">Esquerré, D., Donnellan, S. C., Pavón-Vázquez, C. J., Fenker, J. & Keogh, J. S. Phylogeography, historical demography and systematics of the world’s smallest pythons (Pythonidae, Antaresia). Molecular Phylogenetics and Evolution 161, 107181 (2021)."
      ]
    },
    {
      "cell_type": "markdown",
      "metadata": {
        "id": "raNXMt8fiT_x"
      },
      "source": [
        "We will also be using `biopython` to read in phlogenetic trees as `Newick.Tree` objects."
      ]
    },
    {
      "cell_type": "code",
      "execution_count": 88,
      "metadata": {
        "id": "OVM01-CuiT_x"
      },
      "outputs": [],
      "source": [
        "from Bio import Phylo"
      ]
    },
    {
      "cell_type": "markdown",
      "metadata": {
        "deletable": false,
        "editable": false,
        "nbgrader": {
          "cell_type": "markdown",
          "checksum": "be739b6b0cbb76766a4265b0896a069f",
          "grade": false,
          "grade_id": "cell-7e4e7f76625acce3",
          "locked": true,
          "schema_version": 3,
          "solution": false,
          "task": false
        },
        "id": "aKgvc7-LiT_y"
      },
      "source": [
        "The Newick file we will be using includes a phylogenetic tree of the mitochondrial cytochrome b genes from a subset of the  *Antaresia* samples. "
      ]
    },
    {
      "cell_type": "code",
      "execution_count": 89,
      "metadata": {
        "deletable": false,
        "editable": false,
        "nbgrader": {
          "cell_type": "code",
          "checksum": "d1a8e0980b49b28cfdf5939f8d34a606",
          "grade": false,
          "grade_id": "cell-287c293101af5ef5",
          "locked": true,
          "schema_version": 3,
          "solution": false,
          "task": false
        },
        "id": "ocnEc4B1iT_z"
      },
      "outputs": [],
      "source": [
        "# Import the gene tree.\n",
        "cyt_b_tree = Phylo.read(\"data/comp90016_assignment_3_tree.nwk\", \"newick\")\n",
        "cyt_b_tree.root_at_midpoint()\n",
        "\n",
        "# Note: You can visualise this phylogeny at http://etetoolkit.org/treeview/"
      ]
    },
    {
      "cell_type": "markdown",
      "metadata": {
        "deletable": false,
        "editable": false,
        "nbgrader": {
          "cell_type": "markdown",
          "checksum": "4f76a42aaaf124ee8b9b626e0496ff05",
          "grade": false,
          "grade_id": "cell-5f16e254bfa0c7c4",
          "locked": true,
          "schema_version": 3,
          "solution": false,
          "task": false
        },
        "tags": [],
        "id": "BNLEKgt_iT_0"
      },
      "source": [
        "### Questions\n",
        "In the cells below, complete the following tasks:"
      ]
    },
    {
      "cell_type": "markdown",
      "metadata": {
        "deletable": false,
        "editable": false,
        "nbgrader": {
          "cell_type": "markdown",
          "checksum": "b8856f33c362e1fa19a5871b372e426d",
          "grade": false,
          "grade_id": "Q-2-1",
          "locked": true,
          "points": 5,
          "schema_version": 3,
          "solution": false,
          "task": true
        },
        "id": "ZkZOMLjEiT_1"
      },
      "source": [
        "### Question 2.1 \n",
        "\n",
        "(5 marks, max 50 words)\n",
        "\n",
        "<div class=\"alert alert-info\">\n",
        "    \n",
        "Suggest why *Morelia bredli* was used as an outgroup in the phylogenetic analyses. \n",
        "\n",
        "</div>\n"
      ]
    },
    {
      "cell_type": "markdown",
      "metadata": {
        "id": "NdK254REiT_1"
      },
      "source": [
        "-- GRADED CELL (5 marks) - complete this cell --\n",
        "\n",
        "Morelia bredli was used as an outgroup in the phylogenetic analyses because it is a closely related but distinct python species that can help to root the phylogenetic tree and determine the evolutionary relationships among the Antaresia species and populations."
      ]
    },
    {
      "cell_type": "markdown",
      "metadata": {
        "deletable": false,
        "editable": false,
        "nbgrader": {
          "cell_type": "markdown",
          "checksum": "5c6e3d47c7594378e2fcf314b2635001",
          "grade": false,
          "grade_id": "Q-2-2",
          "locked": true,
          "points": 5,
          "schema_version": 3,
          "solution": false,
          "task": true
        },
        "id": "X8d2JUp1iT_2"
      },
      "source": [
        "### Question 2.2 \n",
        "\n",
        "(5 marks, max 50 words)\n",
        "\n",
        "<div class=\"alert alert-info\">\n",
        "Suggest why the mitochondrial cytochrome b gene was selected for the analysis. \n",
        "</div>\n"
      ]
    },
    {
      "cell_type": "markdown",
      "metadata": {
        "id": "xB1L6-a_iT_3"
      },
      "source": [
        "-- GRADED CELL (5 marks) - complete this cell --\n",
        "\n",
        "The mitochondrial cytochrome b gene was chosen for its high variation among organisms, aiding in inferring phylogenetic relationships and evolutionary history among closely related python species and populations, including divergence times and gene flow patterns."
      ]
    },
    {
      "cell_type": "markdown",
      "metadata": {
        "deletable": false,
        "editable": false,
        "nbgrader": {
          "cell_type": "markdown",
          "checksum": "1e2526d047deed97fd63f16e10a44bbe",
          "grade": false,
          "grade_id": "Q-2-3",
          "locked": true,
          "points": 5,
          "schema_version": 3,
          "solution": false,
          "task": true
        },
        "id": "fpcbEG1BiT_3"
      },
      "source": [
        "### Question 2.3 \n",
        "\n",
        "(5 marks, max 100 words)\n",
        "\n",
        "<div class=\"alert alert-info\">\n",
        "Suggest why monomorphic SNPs and SNPs with low read depth were removed. \n",
        "</div>\n"
      ]
    },
    {
      "cell_type": "markdown",
      "metadata": {
        "id": "Kb3rpgGEiT_4"
      },
      "source": [
        "-- GRADED CELL (5 marks) - complete this cell --\n",
        "\n",
        "To ensure the accuracy and reliability of the phylogenetic analysis, monomorphic SNPs and SNPs with low read depth were removed. Monomorphic SNPs only have one allele in the entire dataset causing lack of variation between individuals, thus providing no information about their relationships. SNPs with low read depth may be unreliable due to sequencing errors. Removing these SNPs allowed the researchers to focus on informative and reliable SNPs."
      ]
    },
    {
      "cell_type": "markdown",
      "metadata": {
        "deletable": false,
        "editable": false,
        "nbgrader": {
          "cell_type": "markdown",
          "checksum": "e13939efaccb496b78f20570cc6db208",
          "grade": false,
          "grade_id": "Q-2-4",
          "locked": true,
          "points": 5,
          "schema_version": 3,
          "solution": false,
          "task": true
        },
        "id": "CZvQSfJKiT_4"
      },
      "source": [
        "### Question 2.4 \n",
        "\n",
        "(5 marks, max 100 words)\n",
        "\n",
        "<div class=\"alert alert-info\">\n",
        "    \n",
        "`IQ-tree` was used for treebuilding with the cytochrome b sequences. Many computational genomics tools including `IQ-tree` use algorithms that are not deterministic; they can produce different outputs on repeated runs with the same input. \n",
        "\n",
        "Explain why this is a challenge for reproducibility and how this can be addressed by users. \n",
        "\n",
        "</div>\n"
      ]
    },
    {
      "cell_type": "markdown",
      "metadata": {
        "id": "OAa88gEoiT_5"
      },
      "source": [
        "-- GRADED CELL (5 marks) - complete this cell --\n",
        "\n",
        "Non-deterministic algorithms like IQ-tree can produce different outputs for the same input, posing a challenge for reproducibility. This affects the consistency and reliability of results, depending on factors like the order of data, random seed, or hardware used. To address this, users can set a fixed random seed, control sources of randomness, document hardware and software specifications, create reproducible environments using tools like Docker or Conda, and specify dependencies in a portable and structured way using workflow languages like WDL or CWL."
      ]
    },
    {
      "cell_type": "markdown",
      "metadata": {
        "deletable": false,
        "editable": false,
        "nbgrader": {
          "cell_type": "markdown",
          "checksum": "fedaae4b47e96da440612a9899b00ed4",
          "grade": false,
          "grade_id": "cell-ea373fc9996fb6d7",
          "locked": true,
          "schema_version": 3,
          "solution": false,
          "task": false
        },
        "id": "de7OJMFkiT_6"
      },
      "source": [
        "### Question 2.5 \n",
        "\n",
        "(10 marks, max 1 min run-time)\n",
        "\n",
        "Colless’ imbalance ($I_{c}$) is a metric that relates to the shape (or balance) of phylogenetic trees. It is calculated according to the following formula:\n",
        "\n",
        "\n",
        "# <center>$I_{c}=\\frac{ \\sum_{InteriorNodes} |T_{R}-T_{L}| }{ \\frac{(n-1)(n-2)}{2} }$</center>\n",
        "\n",
        "Where: \n",
        "* $T_{R}$ and $T_{L}$ are the number of taxa descended from the right and left branches respectively, of an interior node. \n",
        "* The interior nodes are all nodes (including the root) that are not tips. \n",
        "* *n* is the total number of taxa in the tree (including tips). \n",
        "* *(n-1)(n-2)/2* is the maximum possible value of the numerator, therefore the value of $I_{c}$ ranges from 0 to 1.\n",
        "\n",
        "<div class=\"alert alert-success\">\n",
        "Write a Python function to calculate the Colless’ imbalance of a phylogenetic tree. \n",
        "    \n",
        "- [ ] Assume tree is a Newick.Tree object containing a rooted binary tree. \n",
        "- [ ] Assume every node in tree has either 0 children or 2 children. \n",
        "- [ ] Return a floating-point number. \n",
        "- [ ] If tree contains fewer than 3 nodes, return None.\n",
        "</div>"
      ]
    },
    {
      "cell_type": "code",
      "source": [
        "# GRADED CELL 2.5 (10 marks, max 1 min run-time)\n",
        "\n",
        "def colless_imbalance(tree):\n",
        "    \"\"\"\n",
        "    Calculate the Colless imbalance of a phylogenetic tree.\n",
        "    Assume tree is a Newick.Tree object containing a rooted binary tree.\n",
        "    Assume every node in tree has a unique name and has either 0 children or 2 children.\n",
        "    Return a floating-point number.\n",
        "    If tree contains fewer than 3 nodes, return None.\n",
        "    \"\"\"\n",
        "    n = len(tree.get_terminals()) + len(list(filter(lambda x: not x.is_terminal(), tree.find_clades())))\n",
        "\n",
        "    if n < 3:\n",
        "        return None\n",
        "\n",
        "    imbalance = 0\n",
        "\n",
        "    for node in tree.find_clades(order=\"level\"):\n",
        "        if not node.is_terminal():\n",
        "            tr_tree = node.clades[1]\n",
        "            tl_tree = node.clades[0]\n",
        "            \n",
        "            tr = len(list(tr_tree.get_terminals())) + len(list(filter(lambda x: not x.is_terminal(), tr_tree.find_clades())))\n",
        "            tl = len(list(tl_tree.get_terminals())) + len(list(filter(lambda x: not x.is_terminal(), tl_tree.find_clades())))\n",
        "\n",
        "            imbalance += abs(tr - tl)\n",
        "\n",
        "    max_imbalance = (n - 1) * (n - 2) / 2\n",
        "    return imbalance / max_imbalance\n"
      ],
      "metadata": {
        "id": "dhYlag0jUydn"
      },
      "execution_count": 90,
      "outputs": []
    },
    {
      "cell_type": "code",
      "execution_count": 91,
      "metadata": {
        "id": "KkSNaZZJiT_9",
        "colab": {
          "base_uri": "https://localhost:8080/",
          "height": 536
        },
        "outputId": "2c35067f-4fc3-44d9-f4fe-23b657836dd9"
      },
      "outputs": [
        {
          "output_type": "stream",
          "name": "stdout",
          "text": [
            "demo_tree_a\n"
          ]
        },
        {
          "output_type": "display_data",
          "data": {
            "text/plain": [
              "<Figure size 640x480 with 1 Axes>"
            ],
            "image/png": "[encoded data removed]"
          },
          "metadata": {}
        },
        {
          "output_type": "stream",
          "name": "stdout",
          "text": [
            "This tree has 5 taxa (including root) and 2 internal nodes.\n",
            "\n",
            "Colless Imbalance for demo_tree_a is: 0.3333333333333333\n",
            "139 µs ± 34.8 µs per loop (mean ± std. dev. of 7 runs, 10000 loops each)\n"
          ]
        }
      ],
      "source": [
        "# Test your function in this cell\n",
        "\n",
        "# Create a demo tree\n",
        "from io import StringIO\n",
        "demo_tree_a = Phylo.read(StringIO(\"((c,d)a,b)root;\"), \"newick\")\n",
        "\n",
        "# Inspect the tree\n",
        "print(\"demo_tree_a\")\n",
        "Phylo.draw(demo_tree_a)\n",
        "print(\"This tree has 5 taxa (including root) and 2 internal nodes.\\n\")\n",
        "\n",
        "# Check expected output on demo data\n",
        "print(f'Colless Imbalance for demo_tree_a is: {colless_imbalance(demo_tree_a)}') # Should output 0.3333...\n",
        "\n",
        "# Test the function run time\n",
        "%timeit colless_imbalance(demo_tree_a) \n",
        "\n",
        "# Write your own tests here:"
      ]
    },
    {
      "cell_type": "code",
      "execution_count": 92,
      "metadata": {
        "deletable": false,
        "editable": false,
        "nbgrader": {
          "cell_type": "code",
          "checksum": "012d7c5eef09b0c51ac039b51ef5294e",
          "grade": true,
          "grade_id": "Q-2-5-T1",
          "locked": true,
          "points": 10,
          "schema_version": 3,
          "solution": false,
          "task": false
        },
        "id": "gv3HKd6QiT__"
      },
      "outputs": [],
      "source": [
        "# --- AUTOGRADING CELL DO NOT EDIT ----\n"
      ]
    },
    {
      "cell_type": "markdown",
      "metadata": {
        "deletable": false,
        "editable": false,
        "nbgrader": {
          "cell_type": "markdown",
          "checksum": "bc906aafafe70b3b90dfcb3e0c97ea2a",
          "grade": false,
          "grade_id": "cell-f7f9827872742975",
          "locked": true,
          "schema_version": 3,
          "solution": false,
          "task": false
        },
        "id": "ILk0yu1fiUAB"
      },
      "source": [
        "### Question 2.6 \n",
        "\n",
        "(10 marks, max 1 min run-time)\n",
        "\n",
        "A phylogenetic tree can be stored in Newick format in several non-unique arrangements. Aside from topology, Newick files can also store branch length and branch support information. \n",
        "\n",
        "<div class=\"alert alert-success\">\n",
        "Write a Python function that determines whether a group of phylogenetic trees has a common, identical topology. \n",
        "\n",
        "- [ ] Assume tree_list is a list of Newick.Tree objects. \n",
        "- [ ] Assume the trees are rooted binary trees where every node in tree has either 0 children or 2 children. \n",
        "- [ ] Return the Boolean value True if all the trees in tree_list share an identical topology. \n",
        "- [ ] Return the Boolean value False if they do not. \n",
        "- [ ] If tree_list contains fewer than 2 Newick.Tree objects, return None. \n",
        "</div>"
      ]
    },
    {
      "cell_type": "code",
      "execution_count": 93,
      "metadata": {
        "deletable": false,
        "nbgrader": {
          "cell_type": "code",
          "checksum": "afe4f052b13ca45c3a8133b1f63078cf",
          "grade": false,
          "grade_id": "Q-2-6",
          "locked": false,
          "schema_version": 3,
          "solution": true,
          "task": false
        },
        "id": "mv2Dz5wTiUAC"
      },
      "outputs": [],
      "source": [
        "# GRADED CELL 2.6 (10 marks, max 1 min run-time)\n",
        "\n",
        "# Optional import\n",
        "from itertools import combinations\n",
        "\n",
        "def common_topology(tree_list):\n",
        "    \"\"\"\n",
        "    Determine whether a group of phylogenetic trees has a common, identical topology. \n",
        "    Assume tree_list is a list of Newick.Tree objects. \n",
        "    Assume the trees are rooted binary trees where every node in tree has either 0 children or 2 children. \n",
        "    Return the Boolean value True if all the trees in tree_list share an identical topology.\n",
        "    Return the Boolean value False if they do not.\n",
        "    If tree_list contains fewer than 2 Newick.Tree objects, return None.\n",
        "    \"\"\"\n",
        "    if len(tree_list) < 2:\n",
        "        return None\n",
        "    \n",
        "    def get_tree_structure(tree):\n",
        "        def get_structure_recursive(clade):\n",
        "\n",
        "            if clade.is_terminal():\n",
        "                return str(clade)\n",
        "            else:\n",
        "                return tuple(get_structure_recursive(child) for child in sorted(clade, key=lambda x: str(x)))\n",
        "                \n",
        "        return get_structure_recursive(tree.root)\n",
        "    \n",
        "    tree_structures = [get_tree_structure(tree) for tree in tree_list]\n",
        "    \n",
        "    first_tree_structure = tree_structures[0] # we wont use itertools since less effecient. \n",
        "    for i in range(1,len(tree_structures)):\n",
        "        cur_tree_structure = tree_structures[i]\n",
        "        if first_tree_structure != cur_tree_structure:\n",
        "            return False\n",
        "            \n",
        "    return True"
      ]
    },
    {
      "cell_type": "code",
      "execution_count": 94,
      "metadata": {
        "tags": [],
        "id": "TIjB0WTZiUAG",
        "colab": {
          "base_uri": "https://localhost:8080/",
          "height": 1000
        },
        "outputId": "3576b0b0-dbd7-413c-fff5-08d409c191fa"
      },
      "outputs": [
        {
          "output_type": "stream",
          "name": "stdout",
          "text": [
            "demo_tree_a\n"
          ]
        },
        {
          "output_type": "display_data",
          "data": {
            "text/plain": [
              "<Figure size 800x300 with 1 Axes>"
            ],
            "image/png": "[encoded data removed]"
          },
          "metadata": {}
        },
        {
          "output_type": "stream",
          "name": "stdout",
          "text": [
            "demo_tree_b\n"
          ]
        },
        {
          "output_type": "display_data",
          "data": {
            "text/plain": [
              "<Figure size 800x300 with 1 Axes>"
            ],
            "image/png": "[encoded data removed]"
          },
          "metadata": {}
        },
        {
          "output_type": "stream",
          "name": "stdout",
          "text": [
            "demo_tree_c\n"
          ]
        },
        {
          "output_type": "display_data",
          "data": {
            "text/plain": [
              "<Figure size 800x300 with 1 Axes>"
            ],
            "image/png": "[encoded data removed]"
          },
          "metadata": {}
        },
        {
          "output_type": "stream",
          "name": "stdout",
          "text": [
            "True\n",
            "False\n",
            "15.3 µs ± 7.91 µs per loop (mean ± std. dev. of 7 runs, 100000 loops each)\n"
          ]
        }
      ],
      "source": [
        "# Test your function in this cell\n",
        "\n",
        "# Create some more demo trees\n",
        "demo_tree_b = Phylo.read(StringIO(\"(b,(c,d)a)root;\"), \"newick\")\n",
        "demo_tree_c = Phylo.read(StringIO(\"(c,(b,d)a)root;\"), \"newick\")\n",
        "\n",
        "# Inspect the trees\n",
        "import matplotlib.pyplot as plt\n",
        "plt.rcParams[\"figure.figsize\"] = (8, 3)\n",
        "\n",
        "print(\"demo_tree_a\")\n",
        "Phylo.draw(demo_tree_a)\n",
        "\n",
        "print(\"demo_tree_b\")\n",
        "Phylo.draw(demo_tree_b)\n",
        "\n",
        "print(\"demo_tree_c\")\n",
        "Phylo.draw(demo_tree_c)\n",
        "\n",
        "# Check expected output on demo data\n",
        "print(common_topology([demo_tree_a, demo_tree_b])) # should output True\n",
        "print(common_topology([demo_tree_a, demo_tree_c])) # should output False\n",
        "\n",
        "# Test the function run time\n",
        "%timeit common_topology([demo_tree_a, demo_tree_b])\n",
        "\n",
        "# Write your own tests here:\n"
      ]
    },
    {
      "cell_type": "code",
      "execution_count": 95,
      "metadata": {
        "deletable": false,
        "editable": false,
        "nbgrader": {
          "cell_type": "code",
          "checksum": "f5455cd48c635f94416861c9106ce340",
          "grade": true,
          "grade_id": "Q-2-6-T1",
          "locked": true,
          "points": 10,
          "schema_version": 3,
          "solution": false,
          "task": false
        },
        "id": "8wMbOXNriUAH"
      },
      "outputs": [],
      "source": [
        "# --- AUTOGRADING CELL DO NOT EDIT ----\n"
      ]
    },
    {
      "cell_type": "markdown",
      "metadata": {
        "deletable": false,
        "editable": false,
        "nbgrader": {
          "cell_type": "markdown",
          "checksum": "7c4962d9709cf1bbb1d5f5a03f79fabb",
          "grade": false,
          "grade_id": "cell-8a1209ec5d7b9d5d",
          "locked": true,
          "schema_version": 3,
          "solution": false,
          "task": false
        },
        "id": "Trf0xeieiUAI"
      },
      "source": [
        "## Part 3: Genome annotation"
      ]
    },
    {
      "cell_type": "markdown",
      "metadata": {
        "deletable": false,
        "editable": false,
        "nbgrader": {
          "cell_type": "markdown",
          "checksum": "be8b9ca5839e3c8c3193e395149cd90e",
          "grade": false,
          "grade_id": "cell-7d81f8a488f35871",
          "locked": true,
          "schema_version": 3,
          "solution": false,
          "task": false
        },
        "tags": [],
        "id": "KJYDPBdPiUAJ"
      },
      "source": [
        "### Setup"
      ]
    },
    {
      "cell_type": "markdown",
      "metadata": {
        "deletable": false,
        "editable": false,
        "nbgrader": {
          "cell_type": "markdown",
          "checksum": "6c0b891849641ed4bd37e8812c80e440",
          "grade": false,
          "grade_id": "cell-3e6373d1036240a4",
          "locked": true,
          "schema_version": 3,
          "solution": false,
          "task": false
        },
        "id": "0dDGEmKLiUAK"
      },
      "source": [
        "Some organisms use different variations of the genetic code. This must be taken into account when annotating a genome. You can see the differences in the alternative genetic codes at the site below. Note that some genetic codes have multiple initiation codons, some are more commonly used than others. The first amino acid of any coding sequence is always methionine, even when an alternative initiation codon is used. In any other position, that codon may encode a different amino acid but, as a start codon, it will always code for methionine.\n",
        "\n",
        ">https://www.ncbi.nlm.nih.gov/Taxonomy/Utils/wprintgc.cgi \n",
        "\n",
        "These genetic codes can be referred to by a number. For example, the standard genetic code is genetic code 1.\n",
        "\n",
        "Fortunately, some `biopython` functions can interpret alternate genetic codes.\n",
        "\n",
        "The [CodonTable](https://biopython.org/docs/1.75/api/Bio.Data.CodonTable.html)\n",
        " module can also be used to help you incorporate the genetic codes into your functions. \n"
      ]
    },
    {
      "cell_type": "code",
      "execution_count": 96,
      "metadata": {
        "id": "OkJRXywIiUAL",
        "colab": {
          "base_uri": "https://localhost:8080/"
        },
        "outputId": "5945e4d4-0cf0-40b2-b2ab-d713ccae3bea"
      },
      "outputs": [
        {
          "output_type": "stream",
          "name": "stdout",
          "text": [
            "Table 1 Standard, SGC0\n",
            "\n",
            "  |  U      |  C      |  A      |  G      |\n",
            "--+---------+---------+---------+---------+--\n",
            "U | UUU F   | UCU S   | UAU Y   | UGU C   | U\n",
            "U | UUC F   | UCC S   | UAC Y   | UGC C   | C\n",
            "U | UUA L   | UCA S   | UAA Stop| UGA Stop| A\n",
            "U | UUG L(s)| UCG S   | UAG Stop| UGG W   | G\n",
            "--+---------+---------+---------+---------+--\n",
            "C | CUU L   | CCU P   | CAU H   | CGU R   | U\n",
            "C | CUC L   | CCC P   | CAC H   | CGC R   | C\n",
            "C | CUA L   | CCA P   | CAA Q   | CGA R   | A\n",
            "C | CUG L(s)| CCG P   | CAG Q   | CGG R   | G\n",
            "--+---------+---------+---------+---------+--\n",
            "A | AUU I   | ACU T   | AAU N   | AGU S   | U\n",
            "A | AUC I   | ACC T   | AAC N   | AGC S   | C\n",
            "A | AUA I   | ACA T   | AAA K   | AGA R   | A\n",
            "A | AUG M(s)| ACG T   | AAG K   | AGG R   | G\n",
            "--+---------+---------+---------+---------+--\n",
            "G | GUU V   | GCU A   | GAU D   | GGU G   | U\n",
            "G | GUC V   | GCC A   | GAC D   | GGC G   | C\n",
            "G | GUA V   | GCA A   | GAA E   | GGA G   | A\n",
            "G | GUG V   | GCG A   | GAG E   | GGG G   | G\n",
            "--+---------+---------+---------+---------+--\n"
          ]
        }
      ],
      "source": [
        "import Bio.Data.CodonTable\n",
        "from Bio.Data.CodonTable import register_ncbi_table\n",
        "\n",
        "\n",
        "# Display the standard genetic code. Try changing the number to view a different code.\n",
        "print(Bio.Data.CodonTable.generic_by_id[1])"
      ]
    },
    {
      "cell_type": "markdown",
      "metadata": {
        "id": "ID2FnF2-iUAO"
      },
      "source": [
        "We can use the integer id to to access different attributes for each codon table, such as species `names` or `protein_alphabet`."
      ]
    },
    {
      "cell_type": "code",
      "execution_count": 97,
      "metadata": {
        "id": "vA0h2EJBiUAP",
        "colab": {
          "base_uri": "https://localhost:8080/"
        },
        "outputId": "9a2088a2-2fa7-4269-fc2a-7a8a10aa9bc2"
      },
      "outputs": [
        {
          "output_type": "execute_result",
          "data": {
            "text/plain": [
              "NCBICodonTable(id=9, names=['Echinoderm Mitochondrial', 'Flatworm Mitochondrial', 'SGC8'], ...)"
            ]
          },
          "metadata": {},
          "execution_count": 97
        }
      ],
      "source": [
        "Bio.Data.CodonTable.generic_by_id[9]"
      ]
    },
    {
      "cell_type": "code",
      "execution_count": 98,
      "metadata": {
        "id": "8EXK-MKViUAR",
        "colab": {
          "base_uri": "https://localhost:8080/",
          "height": 36
        },
        "outputId": "96d03068-ff64-4dd8-b52f-0ef8abed0039"
      },
      "outputs": [
        {
          "output_type": "execute_result",
          "data": {
            "text/plain": [
              "'ACDEFGHIKLMNPQRSTVWY'"
            ],
            "application/vnd.google.colaboratory.intrinsic+json": {
              "type": "string"
            }
          },
          "metadata": {},
          "execution_count": 98
        }
      ],
      "source": [
        "Bio.Data.CodonTable.generic_by_id[9].protein_alphabet"
      ]
    },
    {
      "cell_type": "markdown",
      "metadata": {
        "id": "WONfcUfGiUAT"
      },
      "source": [
        "And we can specific a codon table when translating DNA sequences."
      ]
    },
    {
      "cell_type": "code",
      "execution_count": 99,
      "metadata": {
        "id": "CROw5n8niUAU",
        "colab": {
          "base_uri": "https://localhost:8080/"
        },
        "outputId": "ad0cdeca-9ac0-4d8d-d106-654403752db6"
      },
      "outputs": [
        {
          "output_type": "execute_result",
          "data": {
            "text/plain": [
              "Seq('MAIVMGRWKGAR*')"
            ]
          },
          "metadata": {},
          "execution_count": 99
        }
      ],
      "source": [
        "from Bio.Seq import Seq\n",
        "dna_test = Seq(\"ATGGCCATTGTAATGGGCCGCTGAAAGGGTGCCCGATAG\")\n",
        "dna_test.translate(table=9)"
      ]
    },
    {
      "cell_type": "markdown",
      "metadata": {
        "deletable": false,
        "editable": false,
        "nbgrader": {
          "cell_type": "markdown",
          "checksum": "b3e1cafd1b441cd082c5be75ff9f9e59",
          "grade": false,
          "grade_id": "cell-3e6373d1036240a5",
          "locked": true,
          "schema_version": 3,
          "solution": false,
          "task": false
        },
        "id": "XPAbH9DYiUAV"
      },
      "source": [
        "<br>\n",
        "\n",
        "Now, we read in a read set from the `comp90016_assignment_3_assembly.fasta.gz` file. \n",
        "\n",
        "Note that converting a readset into a list of `biopython` objects makes it easier to handle. We also convert our SeqRecord objects into Seq objects in preparation for the next task."
      ]
    },
    {
      "cell_type": "code",
      "execution_count": 100,
      "metadata": {
        "deletable": false,
        "editable": false,
        "nbgrader": {
          "cell_type": "code",
          "checksum": "e7ccc4de803901b98329b2f2f104230e",
          "grade": false,
          "grade_id": "cell-eb116fdda9f99105",
          "locked": true,
          "schema_version": 3,
          "solution": false,
          "task": false
        },
        "id": "k4V3A5QziUAV"
      },
      "outputs": [],
      "source": [
        "import gzip\n",
        "from Bio import SeqIO\n",
        "from Bio.Seq import Seq"
      ]
    },
    {
      "cell_type": "code",
      "execution_count": 101,
      "metadata": {
        "deletable": false,
        "editable": false,
        "nbgrader": {
          "cell_type": "code",
          "checksum": "f6944388abdf34357cae06dfcdc4ff82",
          "grade": false,
          "grade_id": "cell-eb116fdda9f99106",
          "locked": true,
          "schema_version": 3,
          "solution": false,
          "task": false
        },
        "id": "_lK5fm0WiUAW",
        "colab": {
          "base_uri": "https://localhost:8080/"
        },
        "outputId": "7fd458c8-de8f-4af7-8478-d6d5d456d585"
      },
      "outputs": [
        {
          "output_type": "execute_result",
          "data": {
            "text/plain": [
              "[Seq('CCCTTCCCCGGGAATTAATCGAGTCCTCTTTCATATCACACGGATGGGGACCTA...CCG'),\n",
              " Seq('AGATCTTTGCTCACGCGTCTAGTCGGCCCACGCTTGGTTTTTAAGATCCAATGA...AGG'),\n",
              " Seq('GCCTAATCTGACCGTTTTAGATACGGCACTGTGGGCAATACGAGGTAATGGCAG...TTG')]"
            ]
          },
          "metadata": {},
          "execution_count": 101
        }
      ],
      "source": [
        "fname = 'data/comp90016_assignment_3_assembly.fasta.gz'\n",
        "\n",
        "# Our fasta file is compressed using gzip. \n",
        "# We must open it before SeqIO can read the contents\n",
        "with gzip.open(fname, \"rt\") as handle:\n",
        "    fasta_sequences = list(SeqIO.parse(handle, \"fasta\"))\n",
        "    \n",
        "# We only want the Bio.Seq.Seq objects\n",
        "assembly_contigs = [SeqRecord.seq for SeqRecord in fasta_sequences]\n",
        "assembly_contigs"
      ]
    },
    {
      "cell_type": "markdown",
      "metadata": {
        "deletable": false,
        "editable": false,
        "nbgrader": {
          "cell_type": "markdown",
          "checksum": "4ed0cdd3863ada18596e7f174ee253fc",
          "grade": false,
          "grade_id": "cell-9557d76be3c60fe8",
          "locked": true,
          "schema_version": 3,
          "solution": false,
          "task": false
        },
        "tags": [],
        "id": "XDHgRazziUAX"
      },
      "source": [
        "### Questions\n",
        "In the cells below, complete the following tasks:"
      ]
    },
    {
      "cell_type": "markdown",
      "metadata": {
        "deletable": false,
        "editable": false,
        "nbgrader": {
          "cell_type": "markdown",
          "checksum": "d264c2dbe65ff9e409ade3e7f737d052",
          "grade": false,
          "grade_id": "cell-ea373fc9996fb6d8",
          "locked": true,
          "schema_version": 3,
          "solution": false,
          "task": false
        },
        "id": "YsASg2eYiUAY"
      },
      "source": [
        "### Question 3.1 \n",
        "\n",
        "(15 marks, max 1 min run-time)\n",
        "\n",
        "Many genome annotation tools predict coding sequences (CDSs) by detecting start and stop codons. In this question, a CDS is defined as a continuous sequence of DNA that begins with a start codon and ends in an in-frame stop codon. A CDS must not have an in-frame stop codon in the middle, only at the end. CDSs can be in any reading frame on the positive or negative strand, can be overlapping or can be nested within another CDS.\n",
        "\n",
        "<div class=\"alert alert-success\">\n",
        "    \n",
        "Write a Python function to annotate a DNA sequence assembly with CDSs. \n",
        "- [ ] Assume assembly is a list of Bio.Seq.Seq  objects representing the contigs of an assembly. \n",
        "- [ ] Assume genetic_code is an integer between 1 and 6. \n",
        "- [ ] Assume min_len is an integer.\n",
        "- [ ] Use the genetic code encoded by genetic_code.\n",
        "- [ ] Assume CDSs can start with any of the initiation codons and finish with any of the stop codons specified in the genetic code. \n",
        "- [ ] Assume min_len is an integer. \n",
        "- [ ] Only consider CDSs wholly contained within a contig (including the start and stop codons). \n",
        "- [ ] Only consider CDSs that are equal to or longer than min_len bases. \n",
        "- [ ] If assembly is an empty list, return None. \n",
        "- [ ] If no CDSs are found, return an empty Pandas dataframe. \n",
        "- [ ] Return a Pandas dataframe following this GTF-like specification. \n",
        "    - Include one row for every CDS identified. \n",
        "    - Include the following labelled columns: seqname, source, feature, start, end, strand, frame \n",
        "    - Set seqname to the string “contig_x”, where x is an integer representing the position of the contig in assembly. The first contig would have the seqname “contig_1”.\n",
        "    - Set source to the string “y_CDS_annotator”, where y your student number. \n",
        "    - Set feature to the string “predicted_CDS”\n",
        "    - Set start to an integer representing the 1-based index of the first base of the start codon in the contig. \n",
        "    - Set end to an integer representing the 1-based index of the final base of the stop codon in the contig. \n",
        "    - Set strand to the string “+” if the CDS is on the positive strand and “–“ if the string is on the negative strand. \n",
        "    - Set frame to the integer representing the reading frame, either 0, 1 or 2. The integer represents the number of bases offset from the start of the strand.\n",
        "    - Note that the start, end and frame of an CDS on the negative strand is counted from the 5' end of the negative strand.\n",
        "</div>"
      ]
    },
    {
      "cell_type": "code",
      "execution_count": 102,
      "metadata": {
        "deletable": false,
        "nbgrader": {
          "cell_type": "code",
          "checksum": "f5d45453028f748e194046e027a69c74",
          "grade": false,
          "grade_id": "Q-3-1",
          "locked": false,
          "schema_version": 3,
          "solution": true,
          "task": false
        },
        "id": "JeOOjQDniUAZ"
      },
      "outputs": [],
      "source": [
        "# GRADED CELL 3.1 (15 marks, max 1 min run-time)\n",
        "\n",
        "from collections import defaultdict\n",
        "import pandas as pd\n",
        "\n",
        "def annotate_CDSs(assembly, min_len, genetic_code):\n",
        "    \"\"\"\n",
        "    Write a Python function to annotate a DNA sequence assembly with CDSs. \n",
        "    Assume assembly is a list of Bio.Seq.Seq objects representing the contigs of an assembly. \n",
        "    Assume genetic_code is an integer corresponding to a valid codon table, use this genetic code to translate the input DNA.\n",
        "    Assume min_len is an integer.\n",
        "    Assume CDSs can start with any of the start codons specified in the genetic code.\n",
        "    Assume CDSs can stop with any of the stop codons specified in the genetic code (stop will always encode \"*\").\n",
        "    Only consider CDSs wholly contained within a contig (including the start and stop codons). \n",
        "    Only consider CDSs that are equal to or longer than min_len bases. \n",
        "    If assembly is an empty list, return None. \n",
        "    If no CDSs are found, return an empty Pandas dataframe. \n",
        "    Return a Pandas dataframe following this GTF-like specification. \n",
        "        - Include one row for every CDS identified. \n",
        "        - Include the following labelled columns: seqname, source, feature, start, end, strand, frame \n",
        "        - Set seqname to the string “contig_x”, where x is an integer representing the position of the contig in assembly. The first contig would have the seqname “contig_1”.\n",
        "        - Set source to the string “y_CDS_annotator”, where y your student number. \n",
        "        - Set feature to the string “predicted_CDS”\n",
        "        - Set start to an integer representing the 1-based index of the first base of the start codon in the contig. \n",
        "        - Set end to an integer representing the 1-based index of the final base of the stop codon in the contig. \n",
        "        - Set strand to the string “+” if the CDS is on the positive strand and “–“ if the string is on the negative strand. \n",
        "        - Set frame to the integer representing the reading frame, either 0, 1 or 2. The integer represents the number of bases offset from the start of the strand.\n",
        "        - Note that the start, end and frame of an CDS on the negative strand is counted from the 5' end of the negative strand.\n",
        "    \"\"\"\n",
        "    if not assembly:\n",
        "        return None\n",
        "\n",
        "    cds_list = []\n",
        "\n",
        "    for idx, seq in enumerate(assembly, start=1):\n",
        "        for strand, dna_seq in [(1, seq), (-1, seq.reverse_complement())]: #either positive or negative strand\n",
        "            for frame in range(3):\n",
        "                for i in range(frame, len(dna_seq), 3):\n",
        "                    codon = dna_seq[i:i+3]\n",
        "                    if (codon in Bio.Data.CodonTable.generic_by_id[genetic_code].start_codons) and (i + min_len <= len(dna_seq)):\n",
        "                        for j in range(i + 3, len(dna_seq), 3):\n",
        "                            next_codon = dna_seq[j:j+3]\n",
        "                            if next_codon in Bio.Data.CodonTable.generic_by_id[genetic_code].stop_codons:\n",
        "                                if j + 3 - i >= min_len:\n",
        "                                    cds_list.append({\n",
        "                                        'seqname': f\"contig_{idx}\",\n",
        "                                        'source': f\"{ID}_CDS_annotator\",\n",
        "                                        'feature': 'predicted_CDS',\n",
        "                                        'start': i + 1,\n",
        "                                        'end': j + 3,\n",
        "                                        'strand': '+' if strand == 1 else '-',\n",
        "                                        'frame': frame\n",
        "                                    })\n",
        "                                break\n",
        "\n",
        "    return pd.DataFrame(cds_list)\n"
      ]
    },
    {
      "cell_type": "code",
      "execution_count": 103,
      "metadata": {
        "tags": [],
        "id": "Z6xGmAWGiUAa",
        "colab": {
          "base_uri": "https://localhost:8080/"
        },
        "outputId": "9584b14a-d754-44f5-c812-a01e44a0301f"
      },
      "outputs": [
        {
          "output_type": "stream",
          "name": "stdout",
          "text": [
            "    seqname                 source        feature  start  end strand  frame\n",
            "0  contig_1  1439683_CDS_annotator  predicted_CDS      2   13      -      1\n",
            "\n",
            "\n",
            "    seqname                 source        feature  start  end strand  frame\n",
            "0  contig_1  1439683_CDS_annotator  predicted_CDS      6   17      -      2\n",
            "\n",
            "\n",
            "     seqname                 source        feature  start  end strand  frame\n",
            "0   contig_1  1439683_CDS_annotator  predicted_CDS    487  756      -      0\n",
            "1   contig_1  1439683_CDS_annotator  predicted_CDS    547  756      -      0\n",
            "2   contig_1  1439683_CDS_annotator  predicted_CDS    568  756      -      0\n",
            "3   contig_2  1439683_CDS_annotator  predicted_CDS    422  610      +      1\n",
            "4   contig_2  1439683_CDS_annotator  predicted_CDS     51  260      +      2\n",
            "5   contig_2  1439683_CDS_annotator  predicted_CDS     66  260      +      2\n",
            "6   contig_2  1439683_CDS_annotator  predicted_CDS    428  634      -      1\n",
            "7   contig_2  1439683_CDS_annotator  predicted_CDS     69  311      -      2\n",
            "8   contig_2  1439683_CDS_annotator  predicted_CDS    129  311      -      2\n",
            "9   contig_2  1439683_CDS_annotator  predicted_CDS    396  578      -      2\n",
            "10  contig_3  1439683_CDS_annotator  predicted_CDS     48  239      +      2\n"
          ]
        }
      ],
      "source": [
        "# Test your function in this cell\n",
        "\n",
        "demo_assembly = [Seq(\"TCTTTCATGAATCCAAC\"), Seq(\"ATGAAATGAATGTCTTGA\")]\n",
        "\n",
        "print(annotate_CDSs(demo_assembly, 12, 1)) # should identify a single CDS in contig_1, start = 2, end = 13, strand = -, frame = 1\n",
        "print(\"\\n\")\n",
        "print(annotate_CDSs(demo_assembly, 12, 2)) # should identify a single CDS in contig_1, start = 6, end = 17, strand = -, frame = 2\n",
        "print(\"\\n\")\n",
        "print(annotate_CDSs(assembly_contigs, 180, 1))\n",
        "\n",
        "\n",
        "# Write your own tests here:\n"
      ]
    },
    {
      "cell_type": "code",
      "execution_count": 104,
      "metadata": {
        "deletable": false,
        "editable": false,
        "nbgrader": {
          "cell_type": "code",
          "checksum": "9ab33beeef965b1d1a71dc66ffc79500",
          "grade": true,
          "grade_id": "Q-3-1-T1",
          "locked": true,
          "points": 15,
          "schema_version": 3,
          "solution": false,
          "task": false
        },
        "id": "7SzxXvcHiUAb",
        "colab": {
          "base_uri": "https://localhost:8080/"
        },
        "outputId": "4179b134-01b4-478c-ad1d-eba63f0f2430"
      },
      "outputs": [
        {
          "output_type": "stream",
          "name": "stdout",
          "text": [
            "File not found\n",
            "File not found\n",
            "File not found\n"
          ]
        }
      ],
      "source": [
        "# --- AUTOGRADING CELL DO NOT EDIT ----\n",
        "\n",
        "# Get testing data\n",
        "f_names = [\"comp90016_assignment_3_assembly_contigs_output.csv\",\n",
        "           \"comp90016_assignment_3_test.fastq\",\n",
        "           \"comp90016_assignment_3_test_output.csv\"]\n",
        "\n",
        "for filename in f_names:     \n",
        "    url = f'https://github.com/melbournebioinformatics/COMP90016/blob/main/data/2023/Assignment_03/data/testing/{filename}?raw=true'\n",
        "    fetch_file(url,outpath='data/testing')\n",
        "\n",
        "from collections import defaultdict\n",
        "import pandas as pd\n",
        "import numpy as np\n",
        "\n",
        "test_output_one = annotate_CDSs(demo_assembly, 12, 1)\n",
        "test_output_two = annotate_CDSs(demo_assembly, 12, 2)\n",
        "test_output_three = annotate_CDSs(assembly_contigs, 180, 1)\n"
      ]
    },
    {
      "cell_type": "markdown",
      "metadata": {
        "deletable": false,
        "editable": false,
        "nbgrader": {
          "cell_type": "markdown",
          "checksum": "411a8fe3ba81a953c69795403f4120b9",
          "grade": false,
          "grade_id": "Q-3-2",
          "locked": true,
          "points": 5,
          "schema_version": 3,
          "solution": false,
          "task": true
        },
        "id": "2rBqNSGWiUAc"
      },
      "source": [
        "### Question 3.2 \n",
        "\n",
        "(5 marks, max 100 words)\n",
        "\n",
        "<div class=\"alert alert-info\">\n",
        "Is annotating CDSs in a genome assembly a good candidate use-case for data parallelism? Explain your answer. \n",
        "</div>\n"
      ]
    },
    {
      "cell_type": "markdown",
      "metadata": {
        "id": "tCLiwx39iUAe"
      },
      "source": [
        "-- GRADED CELL (5 marks) - complete this cell --\n",
        "\n",
        "Yes, Annotating CDSs in a genome assembly is a suitable application for data parallelism, as this task can be executed independently for each contig in the assembly. By breaking the assembly into smaller subsets of contigs, each subset can be processed by a separate worker in parallel, leading to a considerable acceleration in the annotation process, especially for larger assemblies with numerous contigs. Furthermore, since the communication between workers is minimal (only the final results need to be combined), the overhead of parallelization is low."
      ]
    },
    {
      "cell_type": "markdown",
      "metadata": {
        "deletable": false,
        "editable": false,
        "nbgrader": {
          "cell_type": "markdown",
          "checksum": "a56b4023f75bd4c826eb9f96b3a59e89",
          "grade": false,
          "grade_id": "Q-3-3",
          "locked": true,
          "points": 10,
          "schema_version": 3,
          "solution": false,
          "task": true
        },
        "id": "99t85I5hiUAf"
      },
      "source": [
        "### Question 3.3 \n",
        "\n",
        "(10 marks, max 100 words)\n",
        "\n",
        "<div class=\"alert alert-info\">\n",
        "A researcher aims to identify genes in an assembly of a newly discovered species that does not have a reference genome. Aside from start and stop codons, explain what other features are useful for gene prediction. Describe what information could be used to differentiate genes from pseudogenes.\n",
        "</div>\n"
      ]
    },
    {
      "cell_type": "markdown",
      "metadata": {
        "id": "U_iwZrKBiUAg"
      },
      "source": [
        "-- GRADED CELL (5 marks) - complete this cell --\n",
        "\n",
        "other useful features include Splice sites, promoter regions, and conserved gene sequences. Splice sites mark exon-intron boundaries and can help identify the structure of a gene, promoter regions regulate gene expression and help locate genes, and conserved gene sequences aid in identifying homologous genes. To distinguish genes from pseudogenes, researchers can look for evidence of transcription or translation, such as mRNA or protein products. Pseudogenes lack functional mRNA or protein products due to mutations or other disruptions in their sequence."
      ]
    },
    {
      "cell_type": "markdown",
      "metadata": {
        "deletable": false,
        "editable": false,
        "nbgrader": {
          "cell_type": "markdown",
          "checksum": "f6ea3e6d1803a1f4527411e4ebc99ef2",
          "grade": false,
          "grade_id": "Q-3-4-info",
          "locked": true,
          "points": 5,
          "schema_version": 3,
          "solution": false,
          "task": true
        },
        "id": "ccr9nMTEiUAh"
      },
      "source": [
        "### Question 3.4\n",
        "\n",
        "(5 marks, max 1 min run-time)\n",
        "\n",
        "You have been provided with a genome annotation file from the species *Bacillus luteolus*: `comp90016_assignment_3_B_luteolus.gff`\n",
        "\n",
        "<div class=\"alert alert-success\">\n",
        "    \n",
        "Write Python code to produce two parallel boxplots, one of the length distribution of genes and one of the length distribution of tRNAs in the *Bacillus luteolus* genome. \n",
        "    \n",
        "- [ ] Assume genes have the type \"gene\" and tRNAs have the type \"tRNA\". \n",
        "- [ ] The length of a feature is defined as the start position subtracted from the end position. \n",
        "- [ ] The plot should be produced inline, in the Jupyter notebook. \n",
        "- [ ] Your boxplots should share a scale. \n",
        "- [ ] Label both axes appropriately.\n",
        "</div>\n",
        "\n",
        "Your code does not have to include a function.\n"
      ]
    },
    {
      "cell_type": "code",
      "execution_count": 105,
      "metadata": {
        "id": "EonLBhIviUAh"
      },
      "outputs": [],
      "source": [
        "# Here's some Jupyter magic to render plots in the notebook\n",
        "%matplotlib inline\n",
        "\n",
        "# You may want to import some additional packages for building and formatting your plot (non-essential)\n",
        "# Un-comment as reqired\n",
        "import numpy as np\n",
        "import matplotlib.pyplot as plt\n",
        "#import seaborn\n",
        "from collections import Counter"
      ]
    },
    {
      "cell_type": "code",
      "execution_count": 106,
      "metadata": {
        "deletable": false,
        "nbgrader": {
          "cell_type": "code",
          "checksum": "d1e9d59d9fe6cd63d01e45522c88c799",
          "grade": false,
          "grade_id": "Q-3-4",
          "locked": false,
          "schema_version": 3,
          "solution": true,
          "task": false
        },
        "id": "eFJFPOXziUAi",
        "colab": {
          "base_uri": "https://localhost:8080/",
          "height": 545
        },
        "outputId": "db5dfde3-e192-4e4c-b008-16e94eba6870"
      },
      "outputs": [
        {
          "output_type": "display_data",
          "data": {
            "text/plain": [
              "<Figure size 1000x600 with 2 Axes>"
            ],
            "image/png": "[encoded data removed]"
          },
          "metadata": {}
        }
      ],
      "source": [
        "# GRADED CELL 3.4 (5 marks, max 1 min run-time)\n",
        "\n",
        "# Use this cell to make your plot.\n",
        "\n",
        "\n",
        "\n",
        "df = pd.read_csv('data/comp90016_assignment_3_B_luteolus.gff', sep='\\t', header=None, comment='#')\n",
        "df.columns = ['seqid', 'source', 'type', 'start', 'end', 'score', 'strand', 'phase', 'attributes']\n",
        "\n",
        "\n",
        "df['length'] = df['end'] - df['start'] # length of each feature \n",
        "\n",
        "# Filter the dataframe by type: gene or tRNA\n",
        "gene_df = df[df[\"type\"] == \"gene\"]\n",
        "trna_df = df[df[\"type\"] == \"tRNA\"]\n",
        "\n",
        "# Plot two boxplots side by side, sharing the same y-axis scale\n",
        "plt.figure(figsize=(10, 6)) \n",
        "\n",
        "plt.subplot(1, 2, 1) \n",
        "plt.boxplot(gene_df[\"length\"]) \n",
        "plt.title(\"Gene length distribution\")\n",
        "plt.ylabel(\"Length (bp)\") \n",
        "\n",
        "plt.subplot(1, 2, 2) \n",
        "plt.boxplot(trna_df[\"length\"]) \n",
        "plt.title(\"tRNA length distribution\") \n",
        "plt.ylabel(\"Length (bp)\") \n",
        "\n",
        "plt.show() "
      ]
    },
    {
      "cell_type": "markdown",
      "metadata": {
        "id": "yjbW4HgtiUAj"
      },
      "source": [
        "# END OF ASSIGNMENT"
      ]
    },
    {
      "cell_type": "markdown",
      "metadata": {
        "id": "Mhhl8o9iiUAk"
      },
      "source": [
        "## Submitting\n",
        "\n",
        "Follow these steps to submit your assignment\n",
        "\n",
        "1) Before you turn this assignment in, make sure everything runs as expected. First, **restart the kernel** (in the menubar, select Kernel$\\rightarrow$Restart) and then **run all cells** (in the menubar, select Cell$\\rightarrow$Run All).\n",
        "\n",
        "2) Make sure you have filled in any place that says `YOUR CODE HERE` or \"YOUR ANSWER HERE\"\n",
        "\n",
        "3) **Clear all output** (in the menubar, select Kernel$\\rightarrow$Restart & Clear Output)\n",
        "\n",
        "4) Your completed notebook file containing all your answers must be turned in via LMS in `.ipynb` format.\n",
        "\n",
        "5) You must also submit a copy of this notebook in `html` format with the output cleared (see step 3).\n",
        "\n",
        "\n",
        "Your submission should include **only two** files with names formatted as: **Assignment_3.ipynb** and **Assignment_3.html**"
      ]
    }
  ],
  "metadata": {
    "kernelspec": {
      "display_name": "Python 3 (ipykernel)",
      "language": "python",
      "name": "python3"
    },
    "language_info": {
      "codemirror_mode": {
        "name": "ipython",
        "version": 3
      },
      "file_extension": ".py",
      "mimetype": "text/x-python",
      "name": "python",
      "nbconvert_exporter": "python",
      "pygments_lexer": "ipython3",
      "version": "3.11.0"
    },
    "colab": {
      "provenance": []
    }
  },
  "nbformat": 4,
  "nbformat_minor": 0
}