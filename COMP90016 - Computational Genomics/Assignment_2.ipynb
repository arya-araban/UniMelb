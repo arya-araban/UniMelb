{
 "cells": [
  {
   "cell_type": "markdown",
   "metadata": {
    "deletable": false,
    "editable": false,
    "nbgrader": {
     "cell_type": "markdown",
     "checksum": "d66161f594f461907e493cb43706607d",
     "grade": false,
     "grade_id": "cell-5cd566ae8d583383",
     "locked": true,
     "schema_version": 3,
     "solution": false,
     "task": false
    }
   },
   "source": [
    "# COMP90016 - Assignment 2\n",
    "Version 1. Last edited 17/04/2023.\n"
   ]
  },
  {
   "cell_type": "code",
   "execution_count": 2,
   "metadata": {},
   "outputs": [],
   "source": [
    "### Fill in your student details here\n",
    "NAME = \"Arya Araban\"\n",
    "\n",
    "ID = \"1439683\""
   ]
  },
  {
   "cell_type": "markdown",
   "metadata": {
    "deletable": false,
    "editable": false,
    "nbgrader": {
     "cell_type": "markdown",
     "checksum": "7e0957f2857442768e4149de0bd00217",
     "grade": false,
     "grade_id": "cell-cd032d6f7b941211",
     "locked": true,
     "schema_version": 3,
     "solution": false,
     "task": false
    }
   },
   "source": [
    "## Semester 1, 2023"
   ]
  },
  {
   "cell_type": "markdown",
   "metadata": {
    "deletable": false,
    "editable": false,
    "nbgrader": {
     "cell_type": "markdown",
     "checksum": "018aab12a54fb10fb669824f7b930ce1",
     "grade": false,
     "grade_id": "cell-ea0e1a6df37e43f5",
     "locked": true,
     "schema_version": 3,
     "solution": false,
     "task": false
    }
   },
   "source": [
    "\n",
    "This assignment should be completed by each student individually. Make sure you read this entire document, and ask for help if anything is not clear. Any changes or clarifications to this document will be announced via the LMS.\n",
    "\n",
    "Please make sure you review the University's rules on academic honesty and plagiarism: https://academichonesty.unimelb.edu.au/\n",
    "\n",
    "Do not copy any code from other students or from the internet. This is considered plagiarism.\n",
    "\n",
    "Your completed notebook file containing all your answers will be turned in via LMS. Please also submit an HTML file.\n",
    "\n",
    "To complete the assignment, finish the tasks in this notebook.\n",
    "\n",
    "The tasks are a combination of utilising computational genomics tools, writing your own code, interpreting the results and answering related short-answer questions.\n",
    "\n",
    "In some cases, we have provided test input and test output that you can use to try out your solutions. These tests are just samples and are **not** exhaustive - they may warn you if you've made a mistake, but they are not guaranteed to. It's up to you to decide whether your code is correct.\n",
    "\n",
    "**Remember to save your work early and often.**"
   ]
  },
  {
   "cell_type": "markdown",
   "metadata": {
    "deletable": false,
    "editable": false,
    "nbgrader": {
     "cell_type": "markdown",
     "checksum": "951cb81776fca30cdb7b192279bd5fed",
     "grade": false,
     "grade_id": "cell-a654a22c19fdefbe",
     "locked": true,
     "schema_version": 3,
     "solution": false,
     "task": false
    }
   },
   "source": [
    "## Marking\n",
    "\n",
    "Cells that must be completed to receive marks are clearly labelled. Some cells are code cells, in which you must complete the code to solve a problem. Others are markdown cells, in which you must write your answers to short-answer questions. \n",
    "\n",
    "\n",
    "### Completing code cells\n",
    "\n",
    "Cells that must be completed to receive marks are labelled like this:\n",
    "\n",
    "`# -- GRADED CELL (1 mark) - complete this cell --`\n",
    "\n",
    "- You will see the following text in graded code cells:\n",
    "\n",
    "``` python\n",
    "# YOUR CODE HERE\n",
    "raise NotImplementedError()\n",
    "```\n",
    "\n",
    "- ***You must remove the `raise NotImplementedError()` line from the cell, and replace it with your solution.***\n",
    "\n",
    "\n",
    "- Only add answers to graded cells. If you want to import a library or use a helper function, this must be included in a graded cell.\n",
    "\n",
    "- Run-time limits will be imposed for each coding question. The run-time of a code cell can be calculated by including `%time` at the top of your cell. Cells exceeding the run-time limit **will not be marked**. The run-time limits only apply to thtest cases that are included in this document.\n",
    "\n",
    "- Include code comments in your solutions. Well commented code can help you to receive partial marks even if the final solution is incorrect. \n",
    "\n",
    "\n",
    "### Completing written questions\n",
    "\n",
    "Short answer questions will be followed by a solution cell that looks like this:\n",
    "\n",
    "`-- GRADED CELL (5 marks) - complete this cell --`\n",
    "\n",
    "`YOUR ANSWER HERE`\n",
    "\n",
    "- Only put your responses in these cells.\n",
    "- Word limits, where stated, will be strictly enforced. Answers exceeding the limit **will not be marked**.\n",
    "\n",
    "\n",
    "\n",
    "### Editing the notebook\n",
    "\n",
    "**Only** graded cells will be marked.\n",
    "- Don't enter solutions outside of graded cells\n",
    "- Do **NOT** duplicate or remove cells from the notebook\n",
    "- You may add new cells to test code, but new cells will not be graded.\n",
    "- Word limits, where stated, will be strictly enforced. Answers exceeding the limit **will not be marked**.\n",
    "\n",
    "\n",
    "### Marks\n",
    "\n",
    "The total marks for the assignment add up to 100, and it will be worth 15% of your overall subject grade.\n",
    "\n",
    "Part 1: 20 marks\n",
    "\n",
    "Part 2: 35 marks\n",
    "\n",
    "Part 3: 30 marks\n",
    "\n",
    "Part 4: 15 marks"
   ]
  },
  {
   "cell_type": "markdown",
   "metadata": {
    "deletable": false,
    "editable": false,
    "nbgrader": {
     "cell_type": "markdown",
     "checksum": "3aaed7e89af84c07ff25bb32364b91b1",
     "grade": false,
     "grade_id": "cell-a8f3f9ddb8997b46",
     "locked": true,
     "schema_version": 3,
     "solution": false,
     "task": false
    }
   },
   "source": [
    "## Submitting\n",
    "\n",
    "Before you turn this assignment in, make sure everything runs as expected. First, **restart the kernel** (in the menubar, select Kernel$\\rightarrow$Restart) and then **run all cells** (in the menubar, select Cell$\\rightarrow$Run All).\n",
    "\n",
    "Make sure you fill in any place that says `YOUR CODE HERE` or \"YOUR ANSWER HERE\", as well as your name and student ID at the top of this notebook.\n",
    "\n",
    "\n",
    "Your completed notebook file containing all your answers must be turned in via LMS in `.ipynb` format.\n",
    "You must also submit a copy of this notebook in `html` format with the output cleared.\n",
    "You can do this by using the `clear all output` option in the menu.\n",
    "\n",
    "Your submission should include **only two** files with names formatted as: **Assignment_2.ipynb** and **Assignment_2.html**\n"
   ]
  },
  {
   "cell_type": "markdown",
   "metadata": {
    "deletable": false,
    "editable": false,
    "nbgrader": {
     "cell_type": "markdown",
     "checksum": "d50c0a0bc14209ca116b1ed4e08db64f",
     "grade": false,
     "grade_id": "cell-231ce2cdcc452d8d",
     "locked": true,
     "schema_version": 3,
     "solution": false,
     "task": false
    }
   },
   "source": [
    "## Overview\n",
    "\n",
    "In this assignment, you will answer questions about sequence alignment and variant calling.\n",
    "\n",
    "You will use the `pysam` and `biopython` libraries in your functions. You may want to refer to sections of the documentation for these tools for additional help. Additional to `pysam`, `biopython` and standard Python 3 functions and methods, you may also use any other library we have used in Computational Genomics including `collections`, `numpy`, `pandas`, `math`, `itertools`, `seaborn` and `matplotlib`.\n",
    "\n",
    "You will also use the following command-line tools: `BLAST`, `BWA` and `Samtools`. "
   ]
  },
  {
   "cell_type": "markdown",
   "metadata": {
    "deletable": false,
    "editable": false,
    "nbgrader": {
     "cell_type": "markdown",
     "checksum": "b1e9aace2837e55c85c9be2b30a0c389",
     "grade": false,
     "grade_id": "cell-cb61bd3dd20d0831",
     "locked": true,
     "schema_version": 3,
     "solution": false,
     "task": false
    }
   },
   "source": [
    "## Setup"
   ]
  },
  {
   "cell_type": "code",
   "execution_count": 3,
   "metadata": {
    "deletable": false,
    "editable": false,
    "nbgrader": {
     "cell_type": "code",
     "checksum": "a8c9f2236e5b7a84aa1ccc7401cd050e",
     "grade": false,
     "grade_id": "cell-eca7f6df2f0e77fc",
     "locked": true,
     "schema_version": 3,
     "solution": false,
     "task": false
    }
   },
   "outputs": [],
   "source": [
    "import os\n",
    "import requests\n",
    "from IPython.core.display import HTML\n",
    "\n",
    "# Handy function to fetch our data files\n",
    "def fetch_file(url, outpath='data'):\n",
    "    response = requests.get(url)\n",
    "    if response.status_code == 200:\n",
    "        print('File found!')\n",
    "        # Get the filename from the URL\n",
    "        filename = os.path.basename(url).split('?', 1)[0]\n",
    "        # Construct the filepath using the specified directory and filename\n",
    "        filepath = os.path.join(outpath, filename)\n",
    "        # Create the directory if it doesn't exist\n",
    "        if not os.path.exists(outpath):\n",
    "            print(f'Creating output dir: {outpath}')\n",
    "            os.makedirs(outpath)\n",
    "        # Check if the file already exists in the specified directory\n",
    "        if os.path.exists(filepath):\n",
    "            print(f'{filename} already exists in {outpath}')\n",
    "        else:\n",
    "            with open(filepath, 'wb') as f:\n",
    "                f.write(response.content)\n",
    "                f.close()\n",
    "            print(f'Saved to: {filepath}')\n",
    "    else:\n",
    "        print('File not found')"
   ]
  },
  {
   "cell_type": "code",
   "execution_count": 4,
   "metadata": {},
   "outputs": [
    {
     "data": {
      "text/html": [
       "<style>h1 {\n",
       "    border: 3.0px solid #333;\n",
       "    padding: 12px 18px;\n",
       "    background-color: #C8D3FD;\n",
       "}\n",
       "\n",
       "h2 {\n",
       "    padding: 12px 18px;\n",
       "    background-color: #C8D3FD;\n",
       "}\n",
       "\n",
       ".question {\n",
       "    color: rgb(0, 96, 100);\n",
       "    background: rgb(178, 235, 242);\n",
       "    border: solid 1px rgb(77, 208, 225);\n",
       "    padding: 10px;\n",
       "}\n",
       "\n",
       ".info {\n",
       "    color: rgb(27, 94, 32);\n",
       "    background: rgb(200, 230, 201);\n",
       "    border: solid 1px rgb(129, 199, 132);\n",
       "    padding: 10px;\n",
       "}\n",
       "\n",
       "</style>"
      ],
      "text/plain": [
       "<IPython.core.display.HTML object>"
      ]
     },
     "execution_count": 4,
     "metadata": {},
     "output_type": "execute_result"
    }
   ],
   "source": [
    "# Make the notebook pretty\n",
    "HTML(requests.get('https://raw.githubusercontent.com/melbournebioinformatics/COMP90016/main/data/2023/style/custom.css').text)"
   ]
  },
  {
   "cell_type": "code",
   "execution_count": 5,
   "metadata": {
    "deletable": false,
    "editable": false,
    "nbgrader": {
     "cell_type": "code",
     "checksum": "722bdc05440531f7da23533740824d22",
     "grade": false,
     "grade_id": "cell-0664141ba25828c7",
     "locked": true,
     "schema_version": 3,
     "solution": false,
     "task": false
    }
   },
   "outputs": [
    {
     "name": "stdout",
     "output_type": "stream",
     "text": [
      "File found!\n",
      "comp90016_assignment_2_S_harrisii_y.fasta already exists in data\n",
      "File found!\n",
      "comp90016_assignment_2_database.fasta already exists in data\n",
      "File found!\n",
      "comp90016_assignment_2_dnaA.bam already exists in data\n",
      "File found!\n",
      "comp90016_assignment_2_dnaA.bam.bai already exists in data\n",
      "File found!\n",
      "comp90016_assignment_2_dnaA_ref.fasta already exists in data\n",
      "File found!\n",
      "comp90016_assignment_2_dnaA_ref.fasta.fai already exists in data\n",
      "File found!\n",
      "comp90016_assignment_2_query.fasta already exists in data\n",
      "File found!\n",
      "comp90016_assignment_2_reads_R1.fastq.gz already exists in data\n",
      "File found!\n",
      "comp90016_assignment_2_reads_R2.fastq.gz already exists in data\n"
     ]
    }
   ],
   "source": [
    "# Fetch assignment data\n",
    "f_names = [\"comp90016_assignment_2_S_harrisii_y.fasta\",\n",
    "\"comp90016_assignment_2_database.fasta\",\n",
    "\"comp90016_assignment_2_dnaA.bam\",\n",
    "\"comp90016_assignment_2_dnaA.bam.bai\",\n",
    "\"comp90016_assignment_2_dnaA_ref.fasta\",\n",
    "\"comp90016_assignment_2_dnaA_ref.fasta.fai\",\n",
    "\"comp90016_assignment_2_query.fasta\",\n",
    "\"comp90016_assignment_2_reads_R1.fastq.gz\",\n",
    "\"comp90016_assignment_2_reads_R2.fastq.gz\"]\n",
    "\n",
    "for filename in f_names:     \n",
    "    url = f'https://github.com/melbournebioinformatics/COMP90016/blob/main/data/2023/Assignment_02/data/{filename}?raw=true'\n",
    "    fetch_file(url)"
   ]
  },
  {
   "cell_type": "markdown",
   "metadata": {
    "deletable": false,
    "editable": false,
    "nbgrader": {
     "cell_type": "markdown",
     "checksum": "3290207b18030dc1eaf5132425408f0b",
     "grade": false,
     "grade_id": "cell-364cd6139bcc3f74",
     "locked": true,
     "schema_version": 3,
     "solution": false,
     "task": false
    }
   },
   "source": [
    "## Part 1: BLAST"
   ]
  },
  {
   "cell_type": "markdown",
   "metadata": {
    "deletable": false,
    "editable": false,
    "nbgrader": {
     "cell_type": "markdown",
     "checksum": "7db14284183089f6564b2e55eb5852a6",
     "grade": false,
     "grade_id": "cell-7bb9f56fdeefa80e",
     "locked": true,
     "schema_version": 3,
     "solution": false,
     "task": false
    }
   },
   "source": [
    "### Setup"
   ]
  },
  {
   "cell_type": "markdown",
   "metadata": {
    "deletable": false,
    "editable": false,
    "nbgrader": {
     "cell_type": "markdown",
     "checksum": "db2ef842da9efa33027f31032c3def86",
     "grade": false,
     "grade_id": "cell-9ed8653a6f115a66",
     "locked": true,
     "schema_version": 3,
     "solution": false,
     "task": false
    }
   },
   "source": [
    "Histamine receptors are a class of evolutionarily-related proteins that bind to histamine and trigger cellular responses. There are four histamine receptor proteins that are found across multiple species. These are referred to as HRH1, HRH2, HRH3 and HRH4.\n",
    "\n",
    "**comp90016_assignment_2_database.fasta** is a multi-FASTA file containing histamine receptor protein sequences from several species.\n",
    "\n",
    "**comp90016_assignment_2_query.fasta** is a FASTA file containing a protein sequence of a fragment of an unknown histamine receptor."
   ]
  },
  {
   "cell_type": "markdown",
   "metadata": {
    "deletable": false,
    "editable": false,
    "nbgrader": {
     "cell_type": "markdown",
     "checksum": "370541714943a9d2b76ba04098150a36",
     "grade": false,
     "grade_id": "cell-f53aec2e1fb97108",
     "locked": true,
     "schema_version": 3,
     "solution": false,
     "task": false
    }
   },
   "source": [
    "We will be using command line BLAST to execute a search for matches to the query sequence in the database of histamine receptor sequences.\n",
    "\n",
    "If you would like to use your personal computer, BLAST can be installed via [bioconda](https://anaconda.org/bioconda/blast) or downloaded [here](https://www.ncbi.nlm.nih.gov/books/NBK279671/). Otherwise, BLAST is pre-installed on the subject Binder. \n",
    "\n",
    "Execute the following code block to complete the search. Note that `%%bash` signifies that the code block contains Unix commands."
   ]
  },
  {
   "cell_type": "code",
   "execution_count": 6,
   "metadata": {
    "deletable": false,
    "editable": false,
    "nbgrader": {
     "cell_type": "code",
     "checksum": "539ef7c6b3efaebf1d0bff544eb99934",
     "grade": false,
     "grade_id": "cell-e537f8ff195f3be5",
     "locked": true,
     "schema_version": 3,
     "solution": false,
     "task": false
    }
   },
   "outputs": [
    {
     "name": "stdout",
     "output_type": "stream",
     "text": [
      "\n",
      "\n",
      "Building a new DB, current time: 04/30/2023 02:51:51\n",
      "New DB name:   /home/jovyan/data/comp90016_assignment_2_database.fasta\n",
      "New DB title:  data/comp90016_assignment_2_database.fasta\n",
      "Sequence type: Protein\n",
      "Deleted existing Protein BLAST database named /home/jovyan/data/comp90016_assignment_2_database.fasta\n",
      "Keep MBits: T\n",
      "Maximum file size: 3000000000B\n",
      "Adding sequences from FASTA; added 23 sequences in 0.00150394 seconds.\n",
      "\n",
      "\n",
      "# BLASTP 2.13.0+\n",
      "# Query: unknown_HRH\n",
      "# Database: data/comp90016_assignment_2_database.fasta\n",
      "# Fields: query acc.ver, subject acc.ver, % identity, alignment length, mismatches, gap opens, q. start, q. end, s. start, s. end, evalue, bit score, % positives\n",
      "# 10 hits found\n",
      "unknown_HRH\tsp|Q9JI35|HRH3_CAVPO\t92.000\t50\t3\t1\t1\t49\t235\t284\t3.49e-23\t82.0\t96.00\n",
      "unknown_HRH\tsp|P58406|HRH3_MOUSE\t82.692\t52\t9\t0\t1\t52\t234\t285\t6.77e-20\t72.8\t84.62\n",
      "unknown_HRH\tsp|Q9QYN8|HRH3_RAT\t82.353\t51\t9\t0\t1\t51\t234\t284\t3.84e-19\t70.9\t84.31\n",
      "unknown_HRH\tsp|Q9Y5N1|HRH3_HUMAN\t82.258\t62\t8\t1\t24\t82\t257\t318\t3.49e-12\t50.8\t83.87\n",
      "unknown_HRH\tsp|Q91ZY2|HRH4_MOUSE\t22.807\t57\t43\t1\t26\t82\t201\t256\t0.089\t21.6\t33.33\n",
      "unknown_HRH\tsp|Q91ZY1|HRH4_RAT\t24.138\t58\t41\t2\t26\t82\t201\t256\t0.64\t18.9\t37.93\n",
      "unknown_HRH\tsp|Q9N2B1|HRH1_GORGO\t50.000\t12\t6\t0\t59\t70\t268\t279\t1.4\t18.1\t66.67\n",
      "unknown_HRH\tsp|P35367|HRH1_HUMAN\t50.000\t12\t6\t0\t59\t70\t268\t279\t1.4\t18.1\t66.67\n",
      "unknown_HRH\tsp|Q9N2B2|HRH1_PANTR\t50.000\t12\t6\t0\t59\t70\t268\t279\t1.4\t18.1\t66.67\n",
      "unknown_HRH\tsp|Q9N2B0|HRH1_PONPY\t50.000\t12\t6\t0\t59\t70\t268\t279\t1.4\t18.1\t66.67\n",
      "# BLAST processed 1 queries\n"
     ]
    }
   ],
   "source": [
    "%%bash\n",
    "\n",
    "# Build a custom BLAST database using the histamine receptor protein sequences.\n",
    "makeblastdb -dbtype prot -in data/comp90016_assignment_2_database.fasta\n",
    "\n",
    "# Execute a BLAST search against the custom database with the unknown protein sequence as the query.\n",
    "blastp -query data/comp90016_assignment_2_query.fasta -db data/comp90016_assignment_2_database.fasta -outfmt \"7 std ppos\""
   ]
  },
  {
   "cell_type": "markdown",
   "metadata": {
    "deletable": false,
    "editable": false,
    "nbgrader": {
     "cell_type": "markdown",
     "checksum": "8c82ed427b3cf37a1849734c15a252da",
     "grade": false,
     "grade_id": "Q-1-1",
     "locked": true,
     "points": 5,
     "schema_version": 3,
     "solution": false,
     "task": true
    }
   },
   "source": [
    "<div class=\"question\">\n",
    "\n",
    "<h3> Question 1.1 </h3>\n",
    "\n",
    "(5 marks, max 50 words)\n",
    "\n",
    "Based on the results of the BLAST search, predict which type of histamine receptor the query protein sequence fragment originated from (HRH1, HRH2, HRH3 or HRH4). Justify your choice.\n",
    "    \n",
    "</div>\n",
    "\n"
   ]
  },
  {
   "cell_type": "markdown",
   "metadata": {},
   "source": [
    "-- GRADED CELL (5 marks) - complete this cell --\n",
    "\n",
    "Apparently the query protein sequence fragment originated from HRH3. The top hits (hits containing the highest percentage identity and bit scores) are HRH3 proteins from different species, with the percentage identity for the hits ranging between 82% to 92%, indicating high similarity between the query sequence and these HRH3 proteins."
   ]
  },
  {
   "cell_type": "markdown",
   "metadata": {
    "deletable": false,
    "editable": false,
    "nbgrader": {
     "cell_type": "markdown",
     "checksum": "77537257d1dde036a421ae70e6d25cd8",
     "grade": false,
     "grade_id": "Q-1-2",
     "locked": true,
     "points": 5,
     "schema_version": 3,
     "solution": false,
     "task": true
    }
   },
   "source": [
    "<div class=\"question\">\n",
    "\n",
    "<h3> Question 1.2 </h3>\n",
    "\n",
    "(5 marks, max 50 words)\n",
    "\n",
    "Interpret the E-value of the top scoring BLAST hit. How confident are you in your BLAST results?\n",
    "    \n",
    "</div>\n",
    "\n"
   ]
  },
  {
   "cell_type": "markdown",
   "metadata": {},
   "source": [
    "-- GRADED CELL (5 marks) - complete this cell --\n",
    "\n",
    "The E-value of the top scoring BLAST hit is 3.49e-23. This is a very low value, indicating that the match between the query sequence and the top hit in the database is highly significant and unlikely to have occurred by chance. This allows for high confidence in the results."
   ]
  },
  {
   "cell_type": "markdown",
   "metadata": {
    "deletable": false,
    "editable": false,
    "nbgrader": {
     "cell_type": "markdown",
     "checksum": "e1a2b535d5740b3307a7b877732ed2a2",
     "grade": false,
     "grade_id": "Q-1-3",
     "locked": true,
     "points": 5,
     "schema_version": 3,
     "solution": false,
     "task": true
    }
   },
   "source": [
    "<div class=\"question\">\n",
    "\n",
    "<h3> Question 1.3 </h3>\n",
    "\n",
    "(5 marks, max 50 words)\n",
    "\n",
    "Suppose you were provided with a nucleotide query sequence as a FASTA file (filename: comp90016_assignment_2_query_nucleotide.fasta). Modify the BLAST command provided above so that it would take the nucleotide query sequence as an input. Use the BLOSUM-80 substitution matrix. Please use the same output format and the same custom database used previously. Note that you are not required to execute this command.\n",
    "    \n",
    "</div>\n",
    "\n"
   ]
  },
  {
   "cell_type": "markdown",
   "metadata": {},
   "source": [
    "-- GRADED CELL (5 marks) - complete this cell --\n",
    "\n",
    "blastx -query data/comp90016_assignment_2_query_nucleotide.fasta -db data/comp90016_assignment_2_database.fasta -outfmt \"7 std ppos\" -matrix BLOSUM80"
   ]
  },
  {
   "cell_type": "markdown",
   "metadata": {
    "deletable": false,
    "editable": false,
    "nbgrader": {
     "cell_type": "markdown",
     "checksum": "d3168680b4e9eb7090a05b3a2bc9ea99",
     "grade": false,
     "grade_id": "Q-1-4",
     "locked": true,
     "points": 5,
     "schema_version": 3,
     "solution": false,
     "task": true
    }
   },
   "source": [
    "<div class=\"question\">\n",
    "\n",
    "<h3> Question 1.4 </h3>\n",
    "\n",
    "(5 marks, max 50 words)\n",
    "\n",
    "Suppose you execute a BLAST search and the top-scoring result is a match with 100% identity and 100% query coverage.\n",
    "    \n",
    "The initial search was repeated using the same parameters but sequences were added to the database so that it was twice the original size. Would the E-value of the top scoring hit increase, decrease or would it remain the same? Would the run-time of the search increase, decrease or would it remain the same?\n",
    "    \n",
    "</div>\n",
    "\n"
   ]
  },
  {
   "cell_type": "markdown",
   "metadata": {},
   "source": [
    "-- GRADED CELL (5 marks) - complete this cell --\n",
    "\n",
    "The E-value of the top scoring hit would increase because it is dependent on the size of the database being searched. The run-time of the search would also increase because BLAST has to search through more sequences in the larger database."
   ]
  },
  {
   "cell_type": "markdown",
   "metadata": {
    "deletable": false,
    "editable": false,
    "nbgrader": {
     "cell_type": "markdown",
     "checksum": "af856c7e6630c86c6dbf973def98cc96",
     "grade": false,
     "grade_id": "cell-460c38f0afe64b68",
     "locked": true,
     "schema_version": 3,
     "solution": false,
     "task": false
    }
   },
   "source": [
    "## Part 2: Sequence Alignment"
   ]
  },
  {
   "cell_type": "markdown",
   "metadata": {
    "deletable": false,
    "editable": false,
    "nbgrader": {
     "cell_type": "markdown",
     "checksum": "7436a85fa5f7c4294da8fba6901373fb",
     "grade": false,
     "grade_id": "cell-fc5904f49fa3959c",
     "locked": true,
     "schema_version": 3,
     "solution": false,
     "task": false
    }
   },
   "source": [
    "### Setup"
   ]
  },
  {
   "cell_type": "markdown",
   "metadata": {},
   "source": [
    "We begin by importing `Biopython` so that we can take advantage of Bio.Align objects for storing and accessing sequence alignments."
   ]
  },
  {
   "cell_type": "code",
   "execution_count": 7,
   "metadata": {},
   "outputs": [],
   "source": [
    "from Bio import Align, Seq, SeqRecord"
   ]
  },
  {
   "cell_type": "markdown",
   "metadata": {
    "deletable": false,
    "editable": false,
    "nbgrader": {
     "cell_type": "markdown",
     "checksum": "5a88951401a742a1c136dcd362378d54",
     "grade": false,
     "grade_id": "cell-d73ed6f61136388d",
     "locked": true,
     "schema_version": 3,
     "solution": false,
     "task": false
    }
   },
   "source": [
    "In this section, we will be using amino-acid substitution matrices, encoded as 2D dictionaries. The cell below stores the BLOSUM-62 substitution matrix as a dictionary. The protein sequences used to test your code will only contain the one-letter codes of the 20 standard amino-acids."
   ]
  },
  {
   "cell_type": "code",
   "execution_count": 8,
   "metadata": {
    "deletable": false,
    "editable": false,
    "nbgrader": {
     "cell_type": "code",
     "checksum": "3b97ce67723874b2eaed1c0e34c6abb5",
     "grade": false,
     "grade_id": "cell-84eff1f1350a2427",
     "locked": true,
     "schema_version": 3,
     "solution": false,
     "task": false
    }
   },
   "outputs": [],
   "source": [
    "BLOSUM_62 = {\n",
    "    '*':{'*':1,'A':-4,'C':-4,'B':-4,'E':-4,'D':-4,'G':-4,'F':-4,'I':-4,'H':-4,'K':-4,'M':-4,'L':-4,'N':-4,'Q':-4,'P':-4,'S':-4,'R':-4,'T':-4,'W':-4,'V':-4,'Y':-4,'X':-4,'Z':-4},\n",
    "    'A':{'*':-4,'A':4,'C':0,'B':-2,'E':-1,'D':-2,'G':0,'F':-2,'I':-1,'H':-2,'K':-1,'M':-1,'L':-1,'N':-2,'Q':-1,'P':-1,'S':1,'R':-1,'T':0,'W':-3,'V':0,'Y':-2,'X':-1,'Z':-1},\n",
    "    'C':{'*':-4,'A':0,'C':9,'B':-3,'E':-4,'D':-3,'G':-3,'F':-2,'I':-1,'H':-3,'K':-3,'M':-1,'L':-1,'N':-3,'Q':-3,'P':-3,'S':-1,'R':-3,'T':-1,'W':-2,'V':-1,'Y':-2,'X':-1,'Z':-3},\n",
    "    'B':{'*':-4,'A':-2,'C':-3,'B':4,'E':1,'D':4,'G':-1,'F':-3,'I':-3,'H':0,'K':0,'M':-3,'L':-4,'N':3,'Q':0,'P':-2,'S':0,'R':-1,'T':-1,'W':-4,'V':-3,'Y':-3,'X':-1,'Z':1},\n",
    "    'E':{'*':-4,'A':-1,'C':-4,'B':1,'E':5,'D':2,'G':-2,'F':-3,'I':-3,'H':0,'K':1,'M':-2,'L':-3,'N':0,'Q':2,'P':-1,'S':0,'R':0,'T':-1,'W':-3,'V':-2,'Y':-2,'X':-1,'Z':4},\n",
    "    'D':{'*':-4,'A':-2,'C':-3,'B':4,'E':2,'D':6,'G':-1,'F':-3,'I':-3,'H':-1,'K':-1,'M':-3,'L':-4,'N':1,'Q':0,'P':-1,'S':0,'R':-2,'T':-1,'W':-4,'V':-3,'Y':-3,'X':-1,'Z':1},\n",
    "    'G':{'*':-4,'A':0,'C':-3,'B':-1,'E':-2,'D':-1,'G':6,'F':-3,'I':-4,'H':-2,'K':-2,'M':-3,'L':-4,'N':0,'Q':-2,'P':-2,'S':0,'R':-2,'T':-2,'W':-2,'V':-3,'Y':-3,'X':-1,'Z':-2},\n",
    "    'F':{'*':-4,'A':-2,'C':-2,'B':-3,'E':-3,'D':-3,'G':-3,'F':6,'I':0,'H':-1,'K':-3,'M':0,'L':0,'N':-3,'Q':-3,'P':-4,'S':-2,'R':-3,'T':-2,'W':1,'V':-1,'Y':3,'X':-1,'Z':-3},\n",
    "    'I':{'*':-4,'A':-1,'C':-1,'B':-3,'E':-3,'D':-3,'G':-4,'F':0,'I':4,'H':-3,'K':-3,'M':1,'L':2,'N':-3,'Q':-3,'P':-3,'S':-2,'R':-3,'T':-1,'W':-3,'V':3,'Y':-1,'X':-1,'Z':-3},\n",
    "    'H':{'*':-4,'A':-2,'C':-3,'B':0,'E':0,'D':-1,'G':-2,'F':-1,'I':-3,'H':8,'K':-1,'M':-2,'L':-3,'N':1,'Q':0,'P':-2,'S':-1,'R':0,'T':-2,'W':-2,'V':-3,'Y':2,'X':-1,'Z':0},\n",
    "    'K':{'*':-4,'A':-1,'C':-3,'B':0,'E':1,'D':-1,'G':-2,'F':-3,'I':-3,'H':-1,'K':5,'M':-1,'L':-2,'N':0,'Q':1,'P':-1,'S':0,'R':2,'T':-1,'W':-3,'V':-2,'Y':-2,'X':-1,'Z':1},\n",
    "    'M':{'*':-4,'A':-1,'C':-1,'B':-3,'E':-2,'D':-3,'G':-3,'F':0,'I':1,'H':-2,'K':-1,'M':5,'L':2,'N':-2,'Q':0,'P':-2,'S':-1,'R':-1,'T':-1,'W':-1,'V':1,'Y':-1,'X':-1,'Z':-1},\n",
    "    'L':{'*':-4,'A':-1,'C':-1,'B':-4,'E':-3,'D':-4,'G':-4,'F':0,'I':2,'H':-3,'K':-2,'M':2,'L':4,'N':-3,'Q':-2,'P':-3,'S':-2,'R':-2,'T':-1,'W':-2,'V':1,'Y':-1,'X':-1,'Z':-3},\n",
    "    'N':{'*':-4,'A':-2,'C':-3,'B':3,'E':0,'D':1,'G':0,'F':-3,'I':-3,'H':1,'K':0,'M':-2,'L':-3,'N':6,'Q':0,'P':-2,'S':1,'R':0,'T':0,'W':-4,'V':-3,'Y':-2,'X':-1,'Z':0},\n",
    "    'Q':{'*':-4,'A':-1,'C':-3,'B':0,'E':2,'D':0,'G':-2,'F':-3,'I':-3,'H':0,'K':1,'M':0,'L':-2,'N':0,'Q':5,'P':-1,'S':0,'R':1,'T':-1,'W':-2,'V':-2,'Y':-1,'X':-1,'Z':3},\n",
    "    'P':{'*':-4,'A':-1,'C':-3,'B':-2,'E':-1,'D':-1,'G':-2,'F':-4,'I':-3,'H':-2,'K':-1,'M':-2,'L':-3,'N':-2,'Q':-1,'P':7,'S':-1,'R':-2,'T':-1,'W':-4,'V':-2,'Y':-3,'X':-1,'Z':-1},\n",
    "    'S':{'*':-4,'A':1,'C':-1,'B':0,'E':0,'D':0,'G':0,'F':-2,'I':-2,'H':-1,'K':0,'M':-1,'L':-2,'N':1,'Q':0,'P':-1,'S':4,'R':-1,'T':1,'W':-3,'V':-2,'Y':-2,'X':-1,'Z':0},\n",
    "    'R':{'*':-4,'A':-1,'C':-3,'B':-1,'E':0,'D':-2,'G':-2,'F':-3,'I':-3,'H':0,'K':2,'M':-1,'L':-2,'N':0,'Q':1,'P':-2,'S':-1,'R':5,'T':-1,'W':-3,'V':-3,'Y':-2,'X':-1,'Z':0},\n",
    "    'T':{'*':-4,'A':0,'C':-1,'B':-1,'E':-1,'D':-1,'G':-2,'F':-2,'I':-1,'H':-2,'K':-1,'M':-1,'L':-1,'N':0,'Q':-1,'P':-1,'S':1,'R':-1,'T':5,'W':-2,'V':0,'Y':-2,'X':-1,'Z':-1},\n",
    "    'W':{'*':-4,'A':-3,'C':-2,'B':-4,'E':-3,'D':-4,'G':-2,'F':1,'I':-3,'H':-2,'K':-3,'M':-1,'L':-2,'N':-4,'Q':-2,'P':-4,'S':-3,'R':-3,'T':-2,'W':11,'V':-3,'Y':2,'X':-1,'Z':-3},\n",
    "    'V':{'*':-4,'A':0,'C':-1,'B':-3,'E':-2,'D':-3,'G':-3,'F':-1,'I':3,'H':-3,'K':-2,'M':1,'L':1,'N':-3,'Q':-2,'P':-2,'S':-2,'R':-3,'T':0,'W':-3,'V':4,'Y':-1,'X':-1,'Z':-2},\n",
    "    'Y':{'*':-4,'A':-2,'C':-2,'B':-3,'E':-2,'D':-3,'G':-3,'F':3,'I':-1,'H':2,'K':-2,'M':-1,'L':-1,'N':-2,'Q':-1,'P':-3,'S':-2,'R':-2,'T':-2,'W':2,'V':-1,'Y':7,'X':-1,'Z':-2},\n",
    "    'X':{'*':-4,'A':-1,'C':-1,'B':-1,'E':-1,'D':-1,'G':-1,'F':-1,'I':-1,'H':-1,'K':-1,'M':-1,'L':-1,'N':-1,'Q':-1,'P':-1,'S':-1,'R':-1,'T':-1,'W':-1,'V':-1,'Y':-1,'X':-1,'Z':-1},\n",
    "    'Z':{'*':-4,'A':-1,'C':-3,'B':1,'E':4,'D':1,'G':-2,'F':-3,'I':-3,'H':0,'K':1,'M':-1,'L':-3,'N':0,'Q':3,'P':-1,'S':0,'R':0,'T':-1,'W':-3,'V':-2,'Y':-2,'X':-1,'Z':4}}"
   ]
  },
  {
   "cell_type": "markdown",
   "metadata": {
    "deletable": false,
    "editable": false,
    "nbgrader": {
     "cell_type": "markdown",
     "checksum": "653e19465c0f51f5c4b05ede70f5eeb2",
     "grade": false,
     "grade_id": "Q-2-1-info",
     "locked": true,
     "schema_version": 3,
     "solution": false,
     "task": false
    }
   },
   "source": [
    "<div class=\"info\">\n",
    "<h3> Question 2.1 </h3>\n",
    "\n",
    "(5 marks)\n",
    "\n",
    "<b>Challenge:</b> Write a Python function to calculate the percentage sequence similarity between two aligned protein sequences. The percentage similarity is defined as the number of positions with similar amino acid residues as a percentage of the total number of positions in the alignment. \n",
    "    \n",
    "Two amino acid residues are considered similar based on the input substitution matrix. If two amino acids have a value greater than 0 in their corresponding cell of the input matrix, they are similar. \n",
    "\n",
    "- Assume that pairwise_aln is an `Bio.Align.MultipleSeqAlignment` object. \n",
    "- Assume sub_matrix is a 2D dictionary encoding an amino-acid substitution matrix, such as the BLOSUM-62 matrix above.\n",
    "- Return a floating-point number between 0 and 100. \n",
    "- Round the output to 4 decimal places.\n",
    "- If pairwise_aln does not contain 2 sequences, return None.\n",
    "\n",
    "</div>"
   ]
  },
  {
   "cell_type": "code",
   "execution_count": 9,
   "metadata": {
    "deletable": false,
    "nbgrader": {
     "cell_type": "code",
     "checksum": "eee76e03233245bba66562417abe4d00",
     "grade": false,
     "grade_id": "Q-2-1",
     "locked": false,
     "schema_version": 3,
     "solution": true,
     "task": false
    }
   },
   "outputs": [],
   "source": [
    "# GRADED CELL 2.1 (5 marks, max 1 min run-time)\n",
    "\n",
    "def percentage_similarity(pairwise_aln, sub_matrix):\n",
    "    \"\"\"\n",
    "    Calculate the percentage sequence similarity between two aligned protein sequences. \n",
    "    Assume that pairwise_aln is an Bio.Align.MultipleSeqAlignment object. \n",
    "    Assume sub_matrix is a 2D dictionary encoding an amino-acid substitution matrix. \n",
    "    Two amino acid residues are similar if there is a value greater than 0 in the corresponding cell of sub_matrix. \n",
    "    The percentage similarity is defined as the number of positions with similar amino acid residues as a percentage of the total number of positions in the alignment.\n",
    "    Return a floating point number between 0 and 100.\n",
    "    Round the output to 4 decimal places.\n",
    "    If pairwise_aln does not contain 2 sequences, return None.\n",
    "    \"\"\"\n",
    "    \n",
    "    if len(pairwise_aln) != 2:\n",
    "        return None\n",
    "    seq1, seq2 = pairwise_aln[0], pairwise_aln[1]\n",
    "    total_positions = len(seq1)\n",
    "    \n",
    "    num_similar_positions = 0 # total number of similar positions. \n",
    "    \n",
    "    for i in range(total_positions): \n",
    "        try:\n",
    "            if sub_matrix[seq1[i]][seq2[i]] > 0:\n",
    "                num_similar_positions += 1\n",
    "                \n",
    "        except KeyError: \n",
    "            if seq1[i] == '-' or seq2[i] == '-': #to handle case for missing AA. \n",
    "                pass\n",
    "            else:\n",
    "                print(f\"Invalid amino acid pair: {seq1[i]}, {seq2[i]}\")\n",
    "    \n",
    "    return round(num_similar_positions / total_positions * 100, 4)"
   ]
  },
  {
   "cell_type": "code",
   "execution_count": 10,
   "metadata": {},
   "outputs": [
    {
     "name": "stdout",
     "output_type": "stream",
     "text": [
      "60.0\n",
      "81.8182\n"
     ]
    }
   ],
   "source": [
    "# ~~ Test your function in this cell ~~\n",
    "demo_sequence_a = SeqRecord.SeqRecord(Seq.Seq(\"MYWIW\"))\n",
    "demo_sequence_b = SeqRecord.SeqRecord(Seq.Seq(\"IYW--\"))\n",
    "demo_pairwise_prot_aln = Align.MultipleSeqAlignment([demo_sequence_a, demo_sequence_b])\n",
    "\n",
    "sequence_a = SeqRecord.SeqRecord(Seq.Seq(\"MYGEGEPGGWQDHVTVLATRRHPKWAQAWVSTMPWGYECGFSRAWVHQTPWINV-----VSLSSHEAYGVVAVRHPWEIFSPYEVYAPYVQDTQHHGNPGQFTTSCYPDE\"))\n",
    "sequence_b = SeqRecord.SeqRecord(Seq.Seq(\"MYADGEPGAWQDHMTVLAIYWHHKWAHAWVSTMPWSYECGFSRAWVHQTPWINVIRFTQVSLSSRAWYGILAVRHPWEIFSPYDVYAPYVAATQHHGNPGQFSTSCYP--\"))\n",
    "pairwise_prot_aln = Align.MultipleSeqAlignment([sequence_a, sequence_b])\n",
    "\n",
    "print(percentage_similarity(demo_pairwise_prot_aln, BLOSUM_62)) # should return 60.0\n",
    "\n",
    "print(percentage_similarity(pairwise_prot_aln, BLOSUM_62))"
   ]
  },
  {
   "cell_type": "code",
   "execution_count": 11,
   "metadata": {
    "deletable": false,
    "editable": false,
    "nbgrader": {
     "cell_type": "code",
     "checksum": "45aff9300ccd1986093dfcf1464c5f74",
     "grade": true,
     "grade_id": "T-2-1a",
     "locked": true,
     "points": 4,
     "schema_version": 3,
     "solution": false,
     "task": false
    }
   },
   "outputs": [],
   "source": [
    "# --- AUTOGRADING CELL DO NOT EDIT ----\n"
   ]
  },
  {
   "cell_type": "code",
   "execution_count": 12,
   "metadata": {
    "deletable": false,
    "editable": false,
    "nbgrader": {
     "cell_type": "code",
     "checksum": "7fd89eb6194957e6cea8eccc63adb560",
     "grade": true,
     "grade_id": "T-2-1b",
     "locked": true,
     "points": 1,
     "schema_version": 3,
     "solution": false,
     "task": false
    }
   },
   "outputs": [],
   "source": [
    "# --- AUTOGRADING CELL DO NOT EDIT ----\n"
   ]
  },
  {
   "cell_type": "markdown",
   "metadata": {
    "deletable": false,
    "editable": false,
    "nbgrader": {
     "cell_type": "markdown",
     "checksum": "404e0d92c9d6e7c2b8bf48d80c56c317",
     "grade": false,
     "grade_id": "Q-2-2-info",
     "locked": true,
     "schema_version": 3,
     "solution": false,
     "task": false
    }
   },
   "source": [
    "<div class=\"info\">\n",
    "<h3> Question 2.2 </h3>\n",
    "\n",
    "(10 marks)\n",
    "\n",
    "<b>Challenge:</b> A new scoring system for pairwise protein sequence alignments has been proposed. The score for an alignment is the sum of the scores at each position in the alignment. The score from a match or a mismatch is taken from a given substitution matrix. Gaps are penalised with a gap open and a gap extend penalty. Terminal gaps are treated the same as internal gaps.\n",
    " \n",
    "Write a Python function to compute this score from a pairwise protein alignment. \n",
    "- Assume that pairwise_aln is an `Bio.Align.MultipleSeqAlignment` object. \n",
    "- Assume sub_matrix is a 2D dictionary encoding an amino-acid substitution matrix. \n",
    "- Assume gap_open and gap_extend are **negative** integers. \n",
    "- Return the score as an integer. \n",
    "- If pairwise_aln does not contain 2 sequences, return None.\n",
    "\n",
    "</div>"
   ]
  },
  {
   "cell_type": "code",
   "execution_count": 13,
   "metadata": {
    "deletable": false,
    "nbgrader": {
     "cell_type": "code",
     "checksum": "706ccfde015585608e355866f48245bb",
     "grade": false,
     "grade_id": "Q-2-2",
     "locked": false,
     "schema_version": 3,
     "solution": true,
     "task": false
    }
   },
   "outputs": [],
   "source": [
    "# GRADED CELL 2.2 (10 marks, max 1 min run-time)\n",
    "\n",
    "def alignment_score(pairwise_aln, sub_matrix, gap_open, gap_extend):\n",
    "    \"\"\"\n",
    "    Compute the alignment score described above from a pairwise protein alignment. \n",
    "    Assume that pairwise_aln is an Bio.Align.MultipleSeqAlignment object. \n",
    "    Assume sub_matrix is a 2D dictionary encoding an amino-acid substitution matrix. \n",
    "    Assume gap_open and gap_extend are negative integers.\n",
    "    Terminal gaps are treated the same as internal gaps.\n",
    "    Return the score as an integer. \n",
    "    If pairwise_aln does not contain 2 sequences, return None.\n",
    "    \"\"\"\n",
    "   \n",
    "    if len(pairwise_aln) != 2:\n",
    "        return None\n",
    "\n",
    "    seq1, seq2 = pairwise_aln[0], pairwise_aln[1]\n",
    "    total_positions = len(seq1)\n",
    "    \n",
    "    score = 0\n",
    "    gap_opened = False\n",
    "    \n",
    "    for i in range(total_positions):\n",
    "        if seq1[i] == '-' or seq2[i] == '-':\n",
    "            if gap_opened:\n",
    "                score += gap_extend\n",
    "            else:\n",
    "                score += gap_open\n",
    "                gap_opened = True\n",
    "        else:\n",
    "            score += sub_matrix[seq1[i]][seq2[i]]\n",
    "            gap_opened = False\n",
    "            \n",
    "    return score"
   ]
  },
  {
   "cell_type": "code",
   "execution_count": 14,
   "metadata": {},
   "outputs": [
    {
     "name": "stdout",
     "output_type": "stream",
     "text": [
      "4\n",
      "461\n"
     ]
    }
   ],
   "source": [
    "# ~~ Test your function in this cell ~~\n",
    "print(alignment_score(demo_pairwise_prot_aln, BLOSUM_62, -12, -3)) # should return 4\n",
    "\n",
    "print(alignment_score(pairwise_prot_aln, BLOSUM_62, -12, -3))"
   ]
  },
  {
   "cell_type": "code",
   "execution_count": 15,
   "metadata": {
    "deletable": false,
    "editable": false,
    "nbgrader": {
     "cell_type": "code",
     "checksum": "19214b9717049c0b339d812849d742c9",
     "grade": true,
     "grade_id": "T-2-2a",
     "locked": true,
     "points": 4,
     "schema_version": 3,
     "solution": false,
     "task": false
    }
   },
   "outputs": [],
   "source": [
    "# --- AUTOGRADING CELL DO NOT EDIT ----\n",
    "\n"
   ]
  },
  {
   "cell_type": "code",
   "execution_count": 16,
   "metadata": {
    "deletable": false,
    "editable": false,
    "nbgrader": {
     "cell_type": "code",
     "checksum": "449582f9c97c43e212090a3d31cbf3a0",
     "grade": true,
     "grade_id": "T-2-2b",
     "locked": true,
     "points": 4,
     "schema_version": 3,
     "solution": false,
     "task": false
    }
   },
   "outputs": [],
   "source": [
    "# --- AUTOGRADING CELL DO NOT EDIT ----\n",
    "\n"
   ]
  },
  {
   "cell_type": "code",
   "execution_count": 17,
   "metadata": {
    "deletable": false,
    "editable": false,
    "nbgrader": {
     "cell_type": "code",
     "checksum": "a0a24efcb5755fcdcb8ea2f0b2910c9d",
     "grade": true,
     "grade_id": "T-2-2c",
     "locked": true,
     "points": 2,
     "schema_version": 3,
     "solution": false,
     "task": false
    }
   },
   "outputs": [],
   "source": [
    "# --- AUTOGRADING CELL DO NOT EDIT ----\n"
   ]
  },
  {
   "cell_type": "markdown",
   "metadata": {
    "deletable": false,
    "editable": false,
    "nbgrader": {
     "cell_type": "markdown",
     "checksum": "a41ce9865e229bcd0459f79f51ab6226",
     "grade": false,
     "grade_id": "Q-2-3-info",
     "locked": true,
     "schema_version": 3,
     "solution": false,
     "task": false
    }
   },
   "source": [
    "<div class=\"info\">\n",
    "<h3> Question 2.3 </h3>\n",
    "\n",
    "(10 marks)\n",
    "\n",
    "The sum-of-pairs score considers all pairs of characters at each position in an alignment and sums the scores of every pair. For each pair of characters, please score according to the following scoring system:\n",
    " \n",
    "- Match (A|A) = 0\n",
    "- Mismatch (A|T or A|-) = 1\n",
    "- Aligned gaps (-|-) = 0\n",
    " \n",
    "<b>Challenge:</b> The higher the score, the more variability at that position. The most variable region is defined as the continuous region of length reg_len with the highest sum-of-pairs score across all positions in the region. \n",
    "\n",
    "Write a Python function to identify the most variable region in a multiple sequence alignment. \n",
    "- Assume msa is an `Bio.Align.MultipleSeqAlignment` object. \n",
    "- Assume reg_len is a positive integer. \n",
    "- Return a tuple containing the zero-based indices of the first and last position of the most variable region of length reg_len in the MSA. \n",
    "- msa could contain DNA, RNA or protein sequences. \n",
    "- Treat gaps the same as other characters. \n",
    "- If there is a tie, return the indices of the region that occurs first in the MSA. \n",
    "- If msa contains fewer than 3 sequences, return None. \n",
    "- If reg_len is greater than the alignment length, return None.\n",
    "\n",
    "</div>"
   ]
  },
  {
   "cell_type": "code",
   "execution_count": 18,
   "metadata": {
    "deletable": false,
    "nbgrader": {
     "cell_type": "code",
     "checksum": "bf232bcab47eebd25df52c30a62b5a8f",
     "grade": false,
     "grade_id": "Q-2-3",
     "locked": false,
     "schema_version": 3,
     "solution": true,
     "task": false
    }
   },
   "outputs": [],
   "source": [
    "# GRADED CELL 2.3 (10 marks, max 1 min run-time)\n",
    "\n",
    "def variable_region(msa, reg_len):\n",
    "    \"\"\"\n",
    "    Identify the most variable region in a multiple sequence alignment. \n",
    "    The most variable region is defined as the continuous region of length reg_len with the highest sum-of-pairs score across all positions in the region. \n",
    "    Treat gaps the same as other characters. \n",
    "    Assume msa is an Bio.Align.MultipleSeqAlignment object. \n",
    "    Assume reg_len is a positive integer. \n",
    "    Return a tuple containing the zero-based indices of the first and last position of the most variable region of length reg_len in the MSA. \n",
    "    msa could contain DNA, RNA or protein sequences. \n",
    "    If there is a tie, return the indices of the region that occurs first in the MSA. \n",
    "    If msa contains fewer than 3 sequences, return None. \n",
    "    If reg_len is greater than the alignment length, return None.\n",
    "    \"\"\"\n",
    "   \n",
    "    if len(msa) < 3 or reg_len > msa.get_alignment_length():\n",
    "        return None\n",
    "    \n",
    "    scores = []\n",
    "    \n",
    "    for i in range(msa.get_alignment_length()): # Calculating the sum-of-pairs score for each position in the alignment\n",
    "        score = 0\n",
    "        \n",
    "        for j in range(len(msa)):\n",
    "            for k in range(len(msa)): # getting the possible combinations \n",
    "                \n",
    "                seq1 = msa[j].seq\n",
    "                seq2 = msa[k].seq\n",
    "                \n",
    "                if seq1 != seq2 and seq1[i] != seq2[i]: # only checking for mismatch, since in other cases score += 0 \n",
    "                        score += 1\n",
    "                        \n",
    "        scores.append(score)\n",
    "        \n",
    "    \n",
    "    max_score = 0\n",
    "    max_index = 0\n",
    "    \n",
    "    for i in range(len(scores) - reg_len + 1): # Finding the continuous region of length reg_len with the highest sum-of-pairs score\n",
    "        score = sum(scores[i:i+reg_len])\n",
    "        if score > max_score:\n",
    "            max_score = score\n",
    "            max_index = i\n",
    "            \n",
    "    return (max_index, max_index + reg_len - 1)"
   ]
  },
  {
   "cell_type": "code",
   "execution_count": 19,
   "metadata": {},
   "outputs": [
    {
     "name": "stdout",
     "output_type": "stream",
     "text": [
      "(0, 1)\n",
      "(2, 11)\n"
     ]
    }
   ],
   "source": [
    "# ~~ Test your function in this cell ~~\n",
    "demo_sequence_c = SeqRecord.SeqRecord(Seq.Seq(\"CACGAG\"))\n",
    "demo_sequence_d = SeqRecord.SeqRecord(Seq.Seq(\"GCCGAG\"))\n",
    "demo_sequence_e = SeqRecord.SeqRecord(Seq.Seq(\"CGCG-G\"))\n",
    "demo_msa_rna = Align.MultipleSeqAlignment([demo_sequence_c, demo_sequence_d, demo_sequence_e])\n",
    "\n",
    "sequence_c = SeqRecord.SeqRecord(Seq.Seq(\"AACCCCAUGGUGAAAGCAAUCACAAUGACAUGGUAACCAGGGCUUCUUUUCUUAUUGGACCGCUACGCGUUUUAAGUGAUUAUUUUUAGAGCACUCUGGUAGAACUCUUC\"))\n",
    "sequence_d = SeqRecord.SeqRecord(Seq.Seq(\"AACCCC------AAAGCAAUCACAAUGACAUGGUUACCAGUGCUUCUUUUCUUAUUGGAGCGCUACGCGCCUUAAGUGAUUAUUUAAAGAGCACUCUGGUAGAACUCU--\"))\n",
    "sequence_e = SeqRecord.SeqRecord(Seq.Seq(\"AAGCCCAUGGUGAAAGCAAUCACAAUGACUAGGUAACCAGUGCUUCUUUUCUUAAUGGAU-GCUACGCGUUUUAAGUGAUUAUUUAGAGAGCACUCUGGUAGAACUCU--\"))\n",
    "msa_rna = Align.MultipleSeqAlignment([sequence_c, sequence_d, sequence_e])\n",
    "\n",
    "print(variable_region(demo_msa_rna, 2)) # should return (0,1)\n",
    "\n",
    "print(variable_region(msa_rna, 10))"
   ]
  },
  {
   "cell_type": "code",
   "execution_count": 20,
   "metadata": {
    "deletable": false,
    "editable": false,
    "nbgrader": {
     "cell_type": "code",
     "checksum": "26e2907fd6d5cb83539ff591e3de59b8",
     "grade": true,
     "grade_id": "T-2-3a",
     "locked": true,
     "points": 5,
     "schema_version": 3,
     "solution": false,
     "task": false
    }
   },
   "outputs": [],
   "source": [
    "# --- AUTOGRADING CELL DO NOT EDIT ----\n"
   ]
  },
  {
   "cell_type": "code",
   "execution_count": 21,
   "metadata": {
    "deletable": false,
    "editable": false,
    "nbgrader": {
     "cell_type": "code",
     "checksum": "28446cd4c2cc1ecff8f83be916ee50c2",
     "grade": true,
     "grade_id": "T-2-3b",
     "locked": true,
     "points": 3,
     "schema_version": 3,
     "solution": false,
     "task": false
    }
   },
   "outputs": [],
   "source": [
    "# --- AUTOGRADING CELL DO NOT EDIT ----\n"
   ]
  },
  {
   "cell_type": "code",
   "execution_count": 22,
   "metadata": {
    "deletable": false,
    "editable": false,
    "nbgrader": {
     "cell_type": "code",
     "checksum": "8834e358b2d9f6f8d2d6fc8c56e65467",
     "grade": true,
     "grade_id": "T-2-3c",
     "locked": true,
     "points": 2,
     "schema_version": 3,
     "solution": false,
     "task": false
    }
   },
   "outputs": [],
   "source": [
    "# --- AUTOGRADING CELL DO NOT EDIT ----\n"
   ]
  },
  {
   "cell_type": "markdown",
   "metadata": {
    "deletable": false,
    "editable": false,
    "nbgrader": {
     "cell_type": "markdown",
     "checksum": "395c7073d60c47c23a6cdaa4d6b0cad7",
     "grade": false,
     "grade_id": "Q-2-4",
     "locked": true,
     "points": 5,
     "schema_version": 3,
     "solution": false,
     "task": true
    }
   },
   "source": [
    "<div class=\"question\">\n",
    "\n",
    "<h3> Question 2.4 </h3>\n",
    "\n",
    "(5 marks, max 100 words)\n",
    "\n",
    "Describe a potential application for the variable_region function. Explain why it would be useful to identify the most variable region in an MSA.\n",
    "    \n",
    "</div>\n",
    "\n"
   ]
  },
  {
   "cell_type": "markdown",
   "metadata": {},
   "source": [
    "-- GRADED CELL (5 marks) - complete this cell --\n",
    "\n",
    "A potential application for this function is in the field of immunology. By identifying the most variable region in an MSA of viral sequences from different strains of a virus, insights into the evolution of the virus and its ability to evade the host immune system can be gathered. For example, a high degree of variability in a region encoding an antigenic site may indicate that the virus is evolving to escape recognition by host antibodies. Identifying the most variable region can help researchers design vaccines that target conserved regions of the virus and are effective against multiple strains."
   ]
  },
  {
   "cell_type": "markdown",
   "metadata": {
    "deletable": false,
    "editable": false,
    "nbgrader": {
     "cell_type": "markdown",
     "checksum": "c9922b4ffef19f5c0aee383d6170f06e",
     "grade": false,
     "grade_id": "Q-2-5",
     "locked": true,
     "points": 5,
     "schema_version": 3,
     "solution": false,
     "task": true
    }
   },
   "source": [
    "<div class=\"question\">\n",
    "\n",
    "<h3> Question 2.5 </h3>\n",
    "\n",
    "(5 marks, max 100 words)\n",
    "\n",
    "Use the online EMBL-EBI implementation of the MUSCLE MSA algorithm to align the sequences found in `comp90016_assignment_2_database.fasta`. Visualise the resulting MSA using a tool of your choice.\n",
    "\n",
    "Describe the distribution of the regions of similarity across the length of the alignment. Explain how the distribution of regions of similarity can be biologically relevant.\n",
    "    \n",
    "</div>\n",
    "\n"
   ]
  },
  {
   "cell_type": "markdown",
   "metadata": {},
   "source": [
    "-- GRADED CELL (5 marks) - complete this cell --\n",
    "\n",
    "The file was analyzed using MUSCLE MSA and visualized with MView. Useful information can be gathered. For example, The top 4 HRH3 proteins from different species have high similarity throughout most regions, while the next 3 HRH4 proteins are also similar, but only in specific regions. The distribution of similarity between proteins from different species can provide biological insights. High similarity in a particular region may suggest that this region is important for the protein’s function and has been conserved through evolution. Conversely, low similarity may indicate divergence and adaptation to perform different functions."
   ]
  },
  {
   "cell_type": "markdown",
   "metadata": {
    "deletable": false,
    "editable": false,
    "nbgrader": {
     "cell_type": "markdown",
     "checksum": "0b3c17eeff44cc0d3fa86604ae1b20d4",
     "grade": false,
     "grade_id": "cell-3b92b603957fa0ab",
     "locked": true,
     "schema_version": 3,
     "solution": false,
     "task": false
    }
   },
   "source": [
    "## Part 3: Read alignment"
   ]
  },
  {
   "cell_type": "markdown",
   "metadata": {
    "deletable": false,
    "editable": false,
    "nbgrader": {
     "cell_type": "markdown",
     "checksum": "f3e82a269b7a39e28541a3c8ab644f47",
     "grade": false,
     "grade_id": "cell-5b5bfcde7169cdf2",
     "locked": true,
     "schema_version": 3,
     "solution": false,
     "task": false
    }
   },
   "source": [
    "### Setup"
   ]
  },
  {
   "cell_type": "markdown",
   "metadata": {
    "deletable": false,
    "editable": false,
    "nbgrader": {
     "cell_type": "markdown",
     "checksum": "82f51ffdce0fc15d76eed20e1471798b",
     "grade": false,
     "grade_id": "cell-ce97d3c79c7d25e9",
     "locked": true,
     "schema_version": 3,
     "solution": false,
     "task": false
    }
   },
   "source": [
    "We begin by importing `pysam` so that we can use it to explore read alignments."
   ]
  },
  {
   "cell_type": "code",
   "execution_count": 23,
   "metadata": {
    "deletable": false,
    "editable": false,
    "nbgrader": {
     "cell_type": "code",
     "checksum": "41621fc92254c0e49cec16ede49efe7c",
     "grade": false,
     "grade_id": "cell-d9be56a9b0c81404",
     "locked": true,
     "schema_version": 3,
     "solution": false,
     "task": false
    }
   },
   "outputs": [],
   "source": [
    "import pysam"
   ]
  },
  {
   "cell_type": "markdown",
   "metadata": {
    "deletable": false,
    "editable": false,
    "nbgrader": {
     "cell_type": "markdown",
     "checksum": "88c15da516172451434afe6f1bc076d1",
     "grade": false,
     "grade_id": "cell-c771806902cdf0c5",
     "locked": true,
     "schema_version": 3,
     "solution": false,
     "task": false
    }
   },
   "source": [
    "**comp90016_assignment_2_S_harrisii_y.fasta** is a FASTA file containing the reference sequence for the Y chromosome of the the Tasmanian Devil (*Sarcophilus harrisii*).\n",
    "\n",
    "**comp90016_assignment_2_reads_R1.fastq.gz** and **comp90016_assignment_2_reads_R2.fastq.gz** are compressed FASTQ files containing short reads."
   ]
  },
  {
   "cell_type": "markdown",
   "metadata": {
    "deletable": false,
    "editable": false,
    "nbgrader": {
     "cell_type": "markdown",
     "checksum": "3a3549dd29734d2aa772d069148b9186",
     "grade": false,
     "grade_id": "cell-99ddabe2d88cd0c7",
     "locked": true,
     "schema_version": 3,
     "solution": false,
     "task": false
    }
   },
   "source": [
    "We will be using the command-line tools `BWA` and `SAMtools` to align the reads to the reference genome and perform some procesing.\n",
    "\n",
    "If you would like to use your personal computer, you can download them using the following links: [BWA installation](https://github.com/lh3/bwa), [SAMtools installation](http://www.htslib.org/download/).\n",
    "\n",
    "Or install via bioconda: [BWA](https://anaconda.org/bioconda/bwa) and [samtools](https://anaconda.org/bioconda/samtools).\n",
    "\n",
    "These tools are pre-installed on the subject Binder.\n",
    "\n",
    "Execute the following code block."
   ]
  },
  {
   "cell_type": "code",
   "execution_count": 41,
   "metadata": {
    "deletable": false,
    "editable": false,
    "nbgrader": {
     "cell_type": "code",
     "checksum": "8f6c07f1567fa4cf76eca2d6b4d83708",
     "grade": false,
     "grade_id": "cell-28a4ccd43c35b161",
     "locked": true,
     "schema_version": 3,
     "solution": false,
     "task": false
    }
   },
   "outputs": [
    {
     "name": "stderr",
     "output_type": "stream",
     "text": [
      "[bwa_index] Pack FASTA... 0.00 sec\n",
      "[bwa_index] Construct BWT for the packed sequence...\n",
      "[bwa_index] 0.03 seconds elapse.\n",
      "[bwa_index] Update BWT... 0.00 sec\n",
      "[bwa_index] Pack forward-only FASTA... 0.00 sec\n",
      "[bwa_index] Construct SA from BWT and Occ... 0.02 sec\n",
      "[main] Version: 0.7.17-r1188\n",
      "[main] CMD: bwa index -a is data/comp90016_assignment_2_S_harrisii_y.fasta\n",
      "[main] Real time: 0.080 sec; CPU: 0.053 sec\n",
      "[M::bwa_idx_load_from_disk] read 0 ALT contigs\n",
      "[M::process] read 8638 sequences (1295700 bp)...\n",
      "[M::mem_pestat] # candidate unique pairs for (FF, FR, RF, RR): (0, 4307, 0, 0)\n",
      "[M::mem_pestat] skip orientation FF as there are not enough pairs\n",
      "[M::mem_pestat] analyzing insert size distribution for orientation FR...\n",
      "[M::mem_pestat] (25, 50, 75) percentile: (492, 499, 506)\n",
      "[M::mem_pestat] low and high boundaries for computing mean and std.dev: (464, 534)\n",
      "[M::mem_pestat] mean and std.dev: (498.86, 10.00)\n",
      "[M::mem_pestat] low and high boundaries for proper pairs: (450, 548)\n",
      "[M::mem_pestat] skip orientation RF as there are not enough pairs\n",
      "[M::mem_pestat] skip orientation RR as there are not enough pairs\n",
      "[M::mem_process_seqs] Processed 8638 reads in 0.365 CPU sec, 0.417 real sec\n",
      "[main] Version: 0.7.17-r1188\n",
      "[main] CMD: bwa mem data/comp90016_assignment_2_S_harrisii_y.fasta data/comp90016_assignment_2_reads_R1.fastq.gz data/comp90016_assignment_2_reads_R2.fastq.gz\n",
      "[main] Real time: 0.499 sec; CPU: 0.433 sec\n",
      "samtools: /srv/conda/envs/notebook/bin/../lib/libtinfow.so.6: no version information available (required by samtools)\n",
      "samtools: /srv/conda/envs/notebook/bin/../lib/libncursesw.so.6: no version information available (required by samtools)\n",
      "samtools: /srv/conda/envs/notebook/bin/../lib/libncursesw.so.6: no version information available (required by samtools)\n",
      "samtools: /srv/conda/envs/notebook/bin/../lib/libtinfow.so.6: no version information available (required by samtools)\n",
      "samtools: /srv/conda/envs/notebook/bin/../lib/libncursesw.so.6: no version information available (required by samtools)\n",
      "samtools: /srv/conda/envs/notebook/bin/../lib/libncursesw.so.6: no version information available (required by samtools)\n"
     ]
    }
   ],
   "source": [
    "%%bash\n",
    "\n",
    "# Index the reference sequence.\n",
    "bwa index -a is data/comp90016_assignment_2_S_harrisii_y.fasta\n",
    "\n",
    "# Align the reads to the reference\n",
    "bwa mem data/comp90016_assignment_2_S_harrisii_y.fasta data/comp90016_assignment_2_reads_R1.fastq.gz data/comp90016_assignment_2_reads_R2.fastq.gz > data/alignment.sam\n",
    "\n",
    "# Sort the aligned reads and convert to BAM.\n",
    "samtools sort data/alignment.sam > data/alignment.bam\n",
    "\n",
    "# Index the BAM file.\n",
    "samtools index data/alignment.bam > data/alignment.bam.bai"
   ]
  },
  {
   "cell_type": "markdown",
   "metadata": {
    "deletable": false,
    "editable": false,
    "nbgrader": {
     "cell_type": "markdown",
     "checksum": "14cd5ccedbc92c2e72cee8d8d31b7bba",
     "grade": false,
     "grade_id": "Q-3-1",
     "locked": true,
     "points": 5,
     "schema_version": 3,
     "solution": false,
     "task": true
    }
   },
   "source": [
    "<div class=\"question\">\n",
    "\n",
    "<h3> Question 3.1 </h3>\n",
    "\n",
    "(5 marks, max 50 words)\n",
    "\n",
    "A colleague suggests using the following one line of code instead for the alignment, sorting and compression. \n",
    "    \n",
    "Note: There is no need to execute this code.\n",
    "\n",
    "`bwa mem data/comp90016_assignment_3_S_harrisii_y.fasta data/comp90016_assignment_3_reads_R1.fastq.gz data/comp90016_assignment_3_reads_R2.fastq.gz | samtools sort > data/alignment.bam`\n",
    "\n",
    "Explain the difference between these commands and the commands you used previously. Is this a better approach? Explain with reference to the files created.\n",
    "    \n",
    "</div>\n",
    "\n"
   ]
  },
  {
   "cell_type": "markdown",
   "metadata": {},
   "source": [
    "-- GRADED CELL (5 marks) - complete this cell --\n",
    "\n",
    "The first set of commands performs alignment, sorting and conversion to BAM in separate steps. The second command performs these steps in one line by piping the output of bwa mem into SAMtools sort. This can be more memory efficient as it avoids writing an intermediate SAM file to disk."
   ]
  },
  {
   "cell_type": "markdown",
   "metadata": {
    "deletable": false,
    "editable": false,
    "nbgrader": {
     "cell_type": "markdown",
     "checksum": "a9eb556a43665f738f1bf13db886f4ad",
     "grade": false,
     "grade_id": "Q-3-2",
     "locked": true,
     "points": 5,
     "schema_version": 3,
     "solution": false,
     "task": true
    }
   },
   "source": [
    "<div class=\"question\">\n",
    "\n",
    "<h3> Question 3.2 </h3>\n",
    "\n",
    "(5 marks, max 50 words)\n",
    "\n",
    "Use SAMtools to determine how many of the input reads were aligned to the reference genome. Give the total number of aligned reads and the percentage of the total reads that were aligned. Include any commands you used.\n",
    "    \n",
    "</div>\n",
    "\n"
   ]
  },
  {
   "cell_type": "code",
   "execution_count": 25,
   "metadata": {},
   "outputs": [
    {
     "name": "stderr",
     "output_type": "stream",
     "text": [
      "samtools: /srv/conda/envs/notebook/bin/../lib/libtinfow.so.6: no version information available (required by samtools)\n",
      "samtools: /srv/conda/envs/notebook/bin/../lib/libncursesw.so.6: no version information available (required by samtools)\n",
      "samtools: /srv/conda/envs/notebook/bin/../lib/libncursesw.so.6: no version information available (required by samtools)\n"
     ]
    },
    {
     "name": "stdout",
     "output_type": "stream",
     "text": [
      "8638 + 0 in total (QC-passed reads + QC-failed reads)\n",
      "8638 + 0 primary\n",
      "0 + 0 secondary\n",
      "0 + 0 supplementary\n",
      "0 + 0 duplicates\n",
      "0 + 0 primary duplicates\n",
      "8614 + 0 mapped (99.72% : N/A)\n",
      "8614 + 0 primary mapped (99.72% : N/A)\n",
      "8638 + 0 paired in sequencing\n",
      "4319 + 0 read1\n",
      "4319 + 0 read2\n",
      "8614 + 0 properly paired (99.72% : N/A)\n",
      "8614 + 0 with itself and mate mapped\n",
      "0 + 0 singletons (0.00% : N/A)\n",
      "0 + 0 with mate mapped to a different chr\n",
      "0 + 0 with mate mapped to a different chr (mapQ>=5)\n"
     ]
    }
   ],
   "source": [
    "%%bash\n",
    "samtools flagstat data/alignment.bam"
   ]
  },
  {
   "cell_type": "markdown",
   "metadata": {},
   "source": [
    "-- GRADED CELL (5 marks) - complete this cell --\n",
    "\n",
    "The `flagstat` command provides summaries of the alignment statistics, including the total number of reads and the number of reads that were mapped to the reference genome. According to the output, 8614 out of 8638 total reads were mapped to the reference genome, which is 99.72% of the total reads."
   ]
  },
  {
   "cell_type": "markdown",
   "metadata": {
    "deletable": false,
    "editable": false,
    "nbgrader": {
     "cell_type": "markdown",
     "checksum": "1b1f08a4a7281c4c4057f9ce668887cf",
     "grade": false,
     "grade_id": "Q-3-3",
     "locked": true,
     "points": 10,
     "schema_version": 3,
     "solution": false,
     "task": true
    }
   },
   "source": [
    "<div class=\"question\">\n",
    "\n",
    "<h3> Question 3.3 </h3>\n",
    "\n",
    "(10 marks, max 100 words)\n",
    "    \n",
    "Suggest a reason why there are reads in this readset that did not align to the reference genome. Provide supporting evidence using tools and approaches you have learnt during this subject.\n",
    "    \n",
    "</div>\n",
    "\n"
   ]
  },
  {
   "cell_type": "code",
   "execution_count": 26,
   "metadata": {},
   "outputs": [
    {
     "name": "stdout",
     "output_type": "stream",
     "text": [
      "application/gzip\n",
      "application/gzip\n"
     ]
    },
    {
     "name": "stderr",
     "output_type": "stream",
     "text": [
      "Started analysis of comp90016_assignment_2_reads_R1.fastq.gz\n",
      "Approx 20% complete for comp90016_assignment_2_reads_R1.fastq.gz\n",
      "Approx 45% complete for comp90016_assignment_2_reads_R1.fastq.gz\n",
      "Approx 65% complete for comp90016_assignment_2_reads_R1.fastq.gz\n",
      "Approx 90% complete for comp90016_assignment_2_reads_R1.fastq.gz\n"
     ]
    },
    {
     "name": "stdout",
     "output_type": "stream",
     "text": [
      "Analysis complete for comp90016_assignment_2_reads_R1.fastq.gz\n"
     ]
    },
    {
     "name": "stderr",
     "output_type": "stream",
     "text": [
      "Started analysis of comp90016_assignment_2_reads_R2.fastq.gz\n",
      "Approx 20% complete for comp90016_assignment_2_reads_R2.fastq.gz\n",
      "Approx 45% complete for comp90016_assignment_2_reads_R2.fastq.gz\n",
      "Approx 65% complete for comp90016_assignment_2_reads_R2.fastq.gz\n",
      "Approx 90% complete for comp90016_assignment_2_reads_R2.fastq.gz\n"
     ]
    },
    {
     "name": "stdout",
     "output_type": "stream",
     "text": [
      "Analysis complete for comp90016_assignment_2_reads_R2.fastq.gz\n"
     ]
    }
   ],
   "source": [
    "%%bash\n",
    "\n",
    "fastqc data/comp90016_assignment_2_reads_R1.fastq.gz data/comp90016_assignment_2_reads_R2.fastq.gz\n",
    "\n",
    "#You can open the reports to see the result: \"data/comp90016_assignment_2_reads_R2_fastqc.html\", \"comp90016_assignment_2_reads_R1_fastqc.html\""
   ]
  },
  {
   "cell_type": "markdown",
   "metadata": {},
   "source": [
    "-- GRADED CELL (10 marks) - complete this cell --\n",
    "\n",
    "The executed command provides FastQC reports which allow us to analyize the quality of the reads. By analyzing the HTML files of the reports, It can be seen that the distribution of GC content in the reads differs from the expected normal distribution.\n",
    "GC content is the percentage of guanine (G) and cytosine (C) nucleotides in DNA or RNA. If the distribution of GC content is unusual, it could indicate contamination from foreign DNA. This can affect the data and cause some reads to not align to the reference genome."
   ]
  },
  {
   "cell_type": "markdown",
   "metadata": {
    "deletable": false,
    "editable": false,
    "nbgrader": {
     "cell_type": "markdown",
     "checksum": "84c29c99ae9c00c41a751618586c2502",
     "grade": false,
     "grade_id": "cell-569c82a1c890bcb6",
     "locked": true,
     "schema_version": 3,
     "solution": false,
     "task": false
    }
   },
   "source": [
    "\n",
    "### Setup\n",
    "\n",
    "The following code blocks relates to questions 3.4 and 3.5"
   ]
  },
  {
   "cell_type": "code",
   "execution_count": 27,
   "metadata": {
    "deletable": false,
    "editable": false,
    "nbgrader": {
     "cell_type": "code",
     "checksum": "fc1a273ce77d9fce2309fcaa2188cfb4",
     "grade": false,
     "grade_id": "cell-de2dddfa934c7204",
     "locked": true,
     "schema_version": 3,
     "solution": false,
     "task": false
    }
   },
   "outputs": [],
   "source": [
    "# Import your bam file into a pysam.AlignmentFile object\n",
    "aln = pysam.AlignmentFile('data/alignment.bam','rb')"
   ]
  },
  {
   "cell_type": "code",
   "execution_count": 28,
   "metadata": {
    "deletable": false,
    "editable": false,
    "nbgrader": {
     "cell_type": "code",
     "checksum": "870949f0336d5b02360dc1c3dfad5452",
     "grade": false,
     "grade_id": "cell-eaa2a8fa8de791c8",
     "locked": true,
     "schema_version": 3,
     "solution": false,
     "task": false
    }
   },
   "outputs": [
    {
     "name": "stdout",
     "output_type": "stream",
     "text": [
      "s_harrisii_sample-5050\t163\t#0\t65\t60\t150M\t#0\t393\t478\tGGGAGGGCTGAGCTAATTTGCTCCCTTCCTACCTTTTTTTGATGGCAAGCCTGATTCATCAATTTTTTTCTTTCTCTGTTTTAGTCAAGTAGGCCTCTAGAGAGGGGAACATCCCACACCCCTTGGTATGTCGTCTCATGATTGTCATTC\tarray('B', [34, 34, 34, 38, 38, 38, 38, 38, 38, 38, 38, 38, 16, 38, 41, 41, 38, 38, 38, 38, 41, 38, 38, 41, 41, 41, 41, 41, 38, 41, 38, 38, 16, 38, 38, 7, 41, 41, 38, 41, 41, 38, 38, 38, 41, 38, 41, 38, 38, 41, 38, 41, 38, 38, 41, 34, 34, 38, 41, 38, 41, 41, 41, 38, 38, 38, 38, 34, 34, 34, 41, 41, 38, 41, 38, 38, 34, 38, 34, 38, 34, 34, 38, 38, 38, 38, 38, 38, 16, 34, 38, 38, 38, 34, 38, 38, 34, 34, 38, 16, 34, 38, 41, 41, 41, 34, 41, 38, 38, 23, 38, 38, 28, 38, 23, 34, 38, 38, 28, 28, 38, 28, 34, 34, 23, 38, 34, 34, 38, 34, 38, 38, 34, 38, 34, 34, 34, 38, 34, 34, 23, 16, 38, 38, 34, 38, 34, 38, 38, 38])\t[('NM', 0), ('MD', '150'), ('MC', '150M'), ('AS', 150), ('XS', 0)]\n"
     ]
    }
   ],
   "source": [
    "# You can use fetch() to access individual aligned reads. For example:\n",
    "for read in aln.fetch('s_harrisii_sample', 64, 65):\n",
    "     print(read)"
   ]
  },
  {
   "cell_type": "code",
   "execution_count": 29,
   "metadata": {
    "deletable": false,
    "editable": false,
    "nbgrader": {
     "cell_type": "code",
     "checksum": "954a351e2f3cef892951acf52d321048",
     "grade": false,
     "grade_id": "cell-4c64423e628bbf45",
     "locked": true,
     "schema_version": 3,
     "solution": false,
     "task": false
    }
   },
   "outputs": [
    {
     "name": "stdout",
     "output_type": "stream",
     "text": [
      "Reference:  64\n",
      "Read:  0\n",
      "Reference:  65\n",
      "Read:  1\n",
      "Reference:  66\n",
      "Read:  2\n",
      "Reference:  67\n",
      "Read:  3\n",
      "Reference:  68\n",
      "Read:  4\n",
      "Reference:  69\n",
      "Read:  5\n",
      "Reference:  70\n",
      "Read:  6\n",
      "Reference:  71\n",
      "Read:  7\n",
      "Reference:  72\n",
      "Read:  8\n",
      "Reference:  73\n",
      "Read:  9\n",
      "Reference:  74\n",
      "Read:  10\n",
      "Reference:  75\n",
      "Read:  11\n",
      "Reference:  76\n",
      "Read:  12\n",
      "Reference:  77\n",
      "Read:  13\n",
      "Reference:  78\n",
      "Read:  14\n",
      "Reference:  79\n",
      "Read:  15\n",
      "Reference:  80\n",
      "Read:  16\n",
      "Reference:  81\n",
      "Read:  17\n",
      "Reference:  82\n",
      "Read:  18\n",
      "Reference:  83\n",
      "Read:  19\n",
      "Reference:  84\n",
      "Read:  20\n",
      "Reference:  85\n",
      "Read:  21\n",
      "Reference:  86\n",
      "Read:  22\n",
      "Reference:  87\n",
      "Read:  23\n",
      "Reference:  88\n",
      "Read:  24\n",
      "Reference:  89\n",
      "Read:  25\n",
      "Reference:  90\n",
      "Read:  26\n",
      "Reference:  91\n",
      "Read:  27\n",
      "Reference:  92\n",
      "Read:  28\n",
      "Reference:  93\n",
      "Read:  29\n",
      "Reference:  94\n",
      "Read:  30\n",
      "Reference:  95\n",
      "Read:  31\n",
      "Reference:  96\n",
      "Read:  32\n",
      "Reference:  97\n",
      "Read:  33\n",
      "Reference:  98\n",
      "Read:  34\n",
      "Reference:  99\n",
      "Reference:  100\n",
      "Read:  36\n",
      "Reference:  101\n",
      "Read:  37\n",
      "Reference:  102\n",
      "Read:  38\n",
      "Reference:  103\n",
      "Read:  39\n",
      "Reference:  104\n",
      "Read:  40\n",
      "Reference:  105\n",
      "Read:  41\n",
      "Reference:  106\n",
      "Read:  42\n",
      "Reference:  107\n",
      "Read:  43\n",
      "Reference:  108\n",
      "Read:  44\n",
      "Reference:  109\n",
      "Read:  45\n",
      "Reference:  110\n",
      "Read:  46\n",
      "Reference:  111\n",
      "Read:  47\n",
      "Reference:  112\n",
      "Read:  48\n",
      "Reference:  113\n",
      "Read:  49\n",
      "Reference:  114\n",
      "Read:  50\n",
      "Reference:  115\n",
      "Read:  51\n",
      "Reference:  116\n",
      "Read:  52\n",
      "Reference:  117\n",
      "Read:  53\n",
      "Reference:  118\n",
      "Read:  54\n",
      "Reference:  119\n",
      "Read:  55\n",
      "Reference:  120\n",
      "Read:  56\n",
      "Reference:  121\n",
      "Read:  57\n",
      "Reference:  122\n",
      "Read:  58\n",
      "Reference:  123\n",
      "Read:  59\n",
      "Reference:  124\n",
      "Read:  60\n",
      "Reference:  125\n",
      "Read:  61\n",
      "Reference:  126\n",
      "Read:  62\n",
      "Reference:  127\n",
      "Read:  63\n",
      "Reference:  128\n",
      "Read:  64\n",
      "Reference:  129\n",
      "Read:  65\n",
      "Reference:  130\n",
      "Read:  66\n",
      "Reference:  131\n",
      "Read:  67\n",
      "Reference:  132\n",
      "Read:  68\n",
      "Reference:  133\n",
      "Read:  69\n",
      "Reference:  134\n",
      "Read:  70\n",
      "Reference:  135\n",
      "Read:  71\n",
      "Reference:  136\n",
      "Read:  72\n",
      "Reference:  137\n",
      "Read:  73\n",
      "Reference:  138\n",
      "Read:  74\n",
      "Reference:  139\n",
      "Read:  75\n",
      "Reference:  140\n",
      "Read:  76\n",
      "Reference:  141\n",
      "Read:  77\n",
      "Reference:  142\n",
      "Read:  78\n",
      "Reference:  143\n",
      "Read:  79\n",
      "Reference:  144\n",
      "Read:  80\n",
      "Reference:  145\n",
      "Read:  81\n",
      "Reference:  146\n",
      "Read:  82\n",
      "Reference:  147\n",
      "Read:  83\n",
      "Reference:  148\n",
      "Read:  84\n",
      "Reference:  149\n",
      "Read:  85\n",
      "Reference:  150\n",
      "Read:  86\n",
      "Reference:  151\n",
      "Read:  87\n",
      "Reference:  152\n",
      "Read:  88\n",
      "Reference:  153\n",
      "Read:  89\n",
      "Reference:  154\n",
      "Read:  90\n",
      "Reference:  155\n",
      "Read:  91\n",
      "Reference:  156\n",
      "Read:  92\n",
      "Reference:  157\n",
      "Read:  93\n",
      "Reference:  158\n",
      "Read:  94\n",
      "Reference:  159\n",
      "Read:  95\n",
      "Reference:  160\n",
      "Read:  96\n",
      "Reference:  161\n",
      "Read:  97\n",
      "Reference:  162\n",
      "Read:  98\n",
      "Reference:  163\n",
      "Read:  99\n",
      "Reference:  164\n",
      "Read:  100\n",
      "Reference:  165\n",
      "Read:  101\n",
      "Reference:  166\n",
      "Read:  102\n",
      "Reference:  167\n",
      "Read:  103\n",
      "Reference:  168\n",
      "Read:  104\n",
      "Reference:  169\n",
      "Read:  105\n",
      "Reference:  170\n",
      "Read:  106\n",
      "Reference:  171\n",
      "Read:  107\n",
      "Reference:  172\n",
      "Read:  108\n",
      "Reference:  173\n",
      "Read:  109\n",
      "Reference:  174\n",
      "Read:  110\n",
      "Reference:  175\n",
      "Read:  111\n",
      "Reference:  176\n",
      "Read:  112\n",
      "Reference:  177\n",
      "Read:  113\n",
      "Reference:  178\n",
      "Read:  114\n",
      "Reference:  179\n",
      "Read:  115\n",
      "Reference:  180\n",
      "Read:  116\n",
      "Reference:  181\n",
      "Read:  117\n",
      "Reference:  182\n",
      "Read:  118\n",
      "Reference:  183\n",
      "Read:  119\n",
      "Reference:  184\n",
      "Read:  120\n",
      "Reference:  185\n",
      "Read:  121\n",
      "Reference:  186\n",
      "Read:  122\n",
      "Reference:  187\n",
      "Read:  123\n",
      "Reference:  188\n",
      "Read:  124\n",
      "Reference:  189\n",
      "Read:  125\n",
      "Reference:  190\n",
      "Read:  126\n",
      "Reference:  191\n",
      "Read:  127\n",
      "Reference:  192\n",
      "Read:  128\n",
      "Reference:  193\n",
      "Read:  129\n",
      "Reference:  194\n",
      "Read:  130\n",
      "Reference:  195\n",
      "Read:  131\n",
      "Reference:  196\n",
      "Read:  132\n",
      "Reference:  197\n",
      "Read:  133\n",
      "Reference:  198\n",
      "Read:  134\n",
      "Reference:  199\n",
      "Read:  135\n",
      "Reference:  200\n",
      "Read:  136\n",
      "Reference:  201\n",
      "Read:  137\n",
      "Reference:  202\n",
      "Read:  138\n",
      "Reference:  203\n",
      "Read:  139\n",
      "Reference:  204\n",
      "Read:  140\n",
      "Reference:  205\n",
      "Read:  141\n",
      "Reference:  206\n",
      "Read:  142\n",
      "Reference:  207\n",
      "Read:  143\n",
      "Reference:  208\n",
      "Read:  144\n",
      "Reference:  209\n",
      "Read:  145\n",
      "Reference:  210\n",
      "Read:  146\n",
      "Reference:  211\n",
      "Read:  147\n",
      "Reference:  212\n",
      "Read:  148\n",
      "Reference:  213\n",
      "Read:  149\n"
     ]
    }
   ],
   "source": [
    "# You can use pileup() to access alignment positions. For example:\n",
    "for pileupcolumn in aln.pileup('s_harrisii_sample', 64, 65):\n",
    "    # Position in the alignment.\n",
    "    print('Reference: ', pileupcolumn.pos)\n",
    "    for pileupread in pileupcolumn.pileups:\n",
    "        # Position in the read.\n",
    "        print('Read: ', pileupread.query_position)"
   ]
  },
  {
   "cell_type": "markdown",
   "metadata": {
    "deletable": false,
    "editable": false,
    "nbgrader": {
     "cell_type": "markdown",
     "checksum": "90979da0953f6899c188cdb98d48d081",
     "grade": false,
     "grade_id": "Q-3-4",
     "locked": true,
     "points": 5,
     "schema_version": 3,
     "solution": false,
     "task": true
    }
   },
   "source": [
    "<div class=\"question\">\n",
    "\n",
    "<h3> Question 3.4 </h3>\n",
    "\n",
    "(5 marks, max 50 words)\n",
    "\n",
    "The *LOC116420406* gene is located at positions 46227 to 67944 of the reference sequence (where position 1 is the first base of the reference sequence).\n",
    "\n",
    "Calculate the mean read depth in the *LOC116420406* gene. Calculate the mean read depth across the whole alignment. Based on these figures, are the input reads more likely to be from a WES or a WGS experiment? Explain your answer.    \n",
    "    \n",
    "</div>\n",
    "\n"
   ]
  },
  {
   "cell_type": "code",
   "execution_count": 30,
   "metadata": {},
   "outputs": [
    {
     "name": "stdout",
     "output_type": "stream",
     "text": [
      "Mean read depth for LOC116420406 gene: 10.10505022955589\n",
      "Mean read depth for whole alignment: 9.922454308093995\n"
     ]
    }
   ],
   "source": [
    "\n",
    "gene_start = 46227\n",
    "gene_end = 67944\n",
    "total_depth = 0\n",
    "num_positions = 0\n",
    "for pileupcolumn in aln.pileup('s_harrisii_sample', gene_start, gene_end): # mean read depth for LOC116420406 gene\n",
    "    \n",
    "    total_depth += pileupcolumn.n # number of reads that align to the current position in the reference sequence.\n",
    "    num_positions += 1\n",
    "mean_depth_gene = total_depth / num_positions\n",
    "\n",
    "\n",
    "total_depth = 0\n",
    "num_positions = 0\n",
    "for pileupcolumn in aln.pileup('s_harrisii_sample'): # mean read depth for whole alignment\n",
    "    total_depth += pileupcolumn.n\n",
    "    num_positions += 1\n",
    "mean_depth_alignment = total_depth / num_positions\n",
    "\n",
    "print(f'Mean read depth for LOC116420406 gene: {mean_depth_gene}')\n",
    "print(f'Mean read depth for whole alignment: {mean_depth_alignment}')"
   ]
  },
  {
   "cell_type": "markdown",
   "metadata": {},
   "source": [
    "-- GRADED CELL (5 marks) - complete this cell --\n",
    "\n",
    "WES targets only the protein-coding regions of the genome, while WGS aims to sequence the entire genome. The higher mean read depth for the LOC116420406 gene compared to the whole alignment suggests that the input reads may be WES, which typically generates higher coverage of the targeted regions than WGS."
   ]
  },
  {
   "cell_type": "markdown",
   "metadata": {
    "deletable": false,
    "editable": false,
    "nbgrader": {
     "cell_type": "markdown",
     "checksum": "b5f43d807c70ac0ff3f4260aac694e06",
     "grade": false,
     "grade_id": "Q-3-5-info",
     "locked": true,
     "points": 5,
     "schema_version": 3,
     "solution": false,
     "task": true
    }
   },
   "source": [
    "<div class=\"info\">\n",
    "<h3> Question 3.5 </h3>\n",
    "\n",
    "(5 marks)\n",
    "\n",
    "<b>Challenge:</b> Write Python code to plot the read depths for the first 2000 bases of the *LOC116420406* gene as a line graph. \n",
    "- Plot the read depth on the y axis and plot the genomic position (bp) on the x axis, using the numbering of the reference sequence. \n",
    "- Add appropriate labels to both the X and the Y axes. \n",
    "- Add an appropriate title. The plot should be produced inline, in the Jupyter notebook. \n",
    "- Your code does not have to include a function.\n",
    "- You may use the aln pysam.AlignmentFile object as input.\n",
    "\n",
    "</div>"
   ]
  },
  {
   "cell_type": "code",
   "execution_count": 31,
   "metadata": {
    "deletable": false,
    "editable": false,
    "nbgrader": {
     "cell_type": "code",
     "checksum": "a76813e5e7a4b0f0b1b5779e4ba28056",
     "grade": false,
     "grade_id": "cell-422fe967733a3f85",
     "locked": true,
     "schema_version": 3,
     "solution": false,
     "task": false
    }
   },
   "outputs": [],
   "source": [
    "# Here's some Jupyter magic to render plots in the notebook\n",
    "%matplotlib inline\n",
    "\n",
    "# You may want to import some additional packages for building and formatting your graphs (non-essential)\n",
    "# Un-comment as reqired\n",
    "#import numpy as np\n",
    "#import matplotlib.pyplot as plt\n",
    "#import seaborn"
   ]
  },
  {
   "cell_type": "code",
   "execution_count": 32,
   "metadata": {
    "deletable": false,
    "nbgrader": {
     "cell_type": "code",
     "checksum": "2ea9c48a2875d52abc386ec9c11e7013",
     "grade": false,
     "grade_id": "Q-3-5",
     "locked": false,
     "schema_version": 3,
     "solution": true,
     "task": false
    }
   },
   "outputs": [
    {
     "data": {
      "image/png": "[encoded data removed]",
      "text/plain": [
       "<Figure size 640x480 with 1 Axes>"
      ]
     },
     "metadata": {},
     "output_type": "display_data"
    }
   ],
   "source": [
    "# GRADED CELL 3.5 (5 marks, max 1 min run-time)\n",
    "\n",
    "# Use this cell to make your plot.\n",
    "%matplotlib inline\n",
    "\n",
    "import matplotlib.pyplot as plt\n",
    "\n",
    "gene_start = 46227\n",
    "gene_end = gene_start + 2000\n",
    "\n",
    "positions = []\n",
    "read_depths = []\n",
    "\n",
    "\n",
    "for pileupcolumn in aln.pileup('s_harrisii_sample', gene_start, gene_end): \n",
    "    \n",
    "    positions.append(pileupcolumn.pos)\n",
    "    read_depths.append(pileupcolumn.n)\n",
    "\n",
    "plt.plot(positions, read_depths)\n",
    "plt.xlabel('Genomic Position')\n",
    "plt.ylabel('Read Depth')\n",
    "plt.title('Read Depths for first 2000 bases of LOC116420406 Gene')\n",
    "\n",
    "# Show plot\n",
    "plt.show()"
   ]
  },
  {
   "cell_type": "markdown",
   "metadata": {
    "deletable": false,
    "editable": false,
    "nbgrader": {
     "cell_type": "markdown",
     "checksum": "e985ffef8d4c17303614aabfc817bb83",
     "grade": false,
     "grade_id": "cell-34c44a8f6b54aaa9",
     "locked": true,
     "schema_version": 3,
     "solution": false,
     "task": false
    }
   },
   "source": [
    "## Part 4: Variant calling"
   ]
  },
  {
   "cell_type": "markdown",
   "metadata": {
    "deletable": false,
    "editable": false,
    "nbgrader": {
     "cell_type": "markdown",
     "checksum": "19b6fc7efcd02f44e0956c8b26232c8f",
     "grade": false,
     "grade_id": "cell-fe3b1097d2747df1",
     "locked": true,
     "schema_version": 3,
     "solution": false,
     "task": false
    }
   },
   "source": [
    "### Setup"
   ]
  },
  {
   "cell_type": "markdown",
   "metadata": {
    "deletable": false,
    "editable": false,
    "nbgrader": {
     "cell_type": "markdown",
     "checksum": "f15275c51a3d1b0f8653793287c92267",
     "grade": false,
     "grade_id": "cell-8812892040dc39e7",
     "locked": true,
     "schema_version": 3,
     "solution": false,
     "task": false
    }
   },
   "source": [
    "Consider the read alignment stored in **comp90016_assignment_2_dnaA.bam** (with index file **comp90016_assignment_2_dnaA.bam.bai**). Reads have been aligned to the reference sequence **comp90016_assignment_2_dnaA_ref.fasta** (with index file **comp90016_assignment_2_dnaA_ref.fasta.fai**).\n",
    "\n",
    "We are interested in finding single nucleotide variants (SNVs) where the sequence of the reads is different to the reference sequence."
   ]
  },
  {
   "cell_type": "markdown",
   "metadata": {
    "deletable": false,
    "editable": false,
    "nbgrader": {
     "cell_type": "markdown",
     "checksum": "42575bf67371d9b8b61f3c344a9f5578",
     "grade": false,
     "grade_id": "Q-4-1-info",
     "locked": true,
     "schema_version": 3,
     "solution": false,
     "task": false
    }
   },
   "source": [
    "<div class=\"info\">\n",
    "<h3> Question 4.1 </h3>\n",
    "\n",
    "(15 marks)\n",
    "\n",
    "Implement an SNV caller for haploid organisms as a Python function.\n",
    "\n",
    "Your function should only call SNVs where there are at least 5 reads aligned to that position, and at least 80% of the aligned bases are a specific non-reference allele.\n",
    "\n",
    "Your function should only call (and output) SNVs (not indels, CNVs or larger variants).\n",
    "\n",
    "- Assume ref is the filename of a FASTA file containing a single, linear contig.\n",
    "- Assume ref_idx is the filename of an index file for ref with the extension .fai.\n",
    "- Assume alignment is the filename of a BAM file containing reads aligned to the reference sequence ref.\n",
    "- Assume alignment_idx is the filename of an index file for alignment with the extension .bai.\n",
    "\n",
    "You are not required to use all input files in your function.\n",
    "\n",
    "Return a Pandas dataframe following this VCF-like specification.\n",
    "- Include one row for every SNV called.\n",
    "- Include the following labelled columns: CHROM POS REF ALT QUAL INFO\n",
    "- Set CHROM to the filename of ref (string).\n",
    "- Set POS to the 1-based position of the variant relative to the reference sequence (integer).\n",
    "- Set REF to the reference allele (string).\n",
    "- Set ALT to the non-reference allele (string).\n",
    "- Set QUAL to the average mapping quality of the non-reference allele (floating-point number).\n",
    "- Set INFO to the allele frequency of the non-reference allele (floating-point number). This is defined as the fraction of the aligned bases that are the ALT allele.\n",
    "\n",
    "If no SNVs are called, return an empty Pandas dataframe.\n",
    "\n",
    "\n",
    "</div>"
   ]
  },
  {
   "cell_type": "code",
   "execution_count": 33,
   "metadata": {
    "deletable": false,
    "nbgrader": {
     "cell_type": "code",
     "checksum": "aaceb1f80c7c90d4a4f007df34de5b4a",
     "grade": false,
     "grade_id": "Q-4-1",
     "locked": false,
     "schema_version": 3,
     "solution": true,
     "task": false
    }
   },
   "outputs": [],
   "source": [
    "# GRADED CELL 4.1 (15 marks, max 1 min run-time)\n",
    "import pandas as pd \n",
    "\n",
    "def call_SNVs(ref, ref_idx, alignment, alignment_idx):\n",
    "    \"\"\"\n",
    "    An SNV caller for haploid organisms.\n",
    "    Only call SNVs where there are at least 5 reads aligned to that position, and at least 80% of the aligned bases are a specific non-reference allele.\n",
    "    Only call (and output) SNVs (not indels or larger variants).\n",
    "    Assume ref is the filename of a FASTA file containing a single, linear contig.\n",
    "    Assume ref_idx is the filename of an index file for ref with the extension .fai.\n",
    "    Assume alignment is the filename of a BAM file containing reads aligned to the reference sequence ref.\n",
    "    Assume alignment_idx is the filename of an index file for alignment with the extension .bai.\n",
    "    Return a Pandas dataframe following this VCF-like specification.\n",
    "        - Include one row for every SNV called.\n",
    "        - Include the following labelled columns: CHROM POS REF ALT QUAL INFO\n",
    "        - Set CHROM to the filename of ref (string).\n",
    "        - Set POS to the 1-based position of the variant relative to the reference sequence (integer).\n",
    "        - Set REF to the reference allele (string).\n",
    "        - Set ALT to the non-reference allele (string).\n",
    "        - Set QUAL to the average mapping quality of the non-reference allele (floating-point number).\n",
    "        - Set INFO to the allele frequency of the non-reference allele (floating-point number). This is defined as the fraction of the aligned bases that are the ATL allele.\n",
    "    If no SNVs are called, return an empty Pandas dataframe.\n",
    "    \"\"\"\n",
    "   \n",
    "    ref_file = pysam.FastaFile(ref)\n",
    "    bam_file = pysam.AlignmentFile(alignment)\n",
    "\n",
    "    rows = []\n",
    "\n",
    "    \n",
    "    for pileupcolumn in bam_file.pileup(): # iterating over the reference sequence\n",
    "        if pileupcolumn.n < 5: # Only considering positions with at least 5 reads aligned\n",
    "            continue\n",
    "\n",
    "      \n",
    "        ref_base = ref_file.fetch(pileupcolumn.reference_name, pileupcolumn.pos, pileupcolumn.pos + 1)\n",
    "        \n",
    "        \n",
    "        \n",
    "        base_counts = {'A': 0, 'C': 0, 'G': 0, 'T': 0} # number of each base at this position\n",
    "        mapq_sum = {'A': 0, 'C': 0, 'G': 0, 'T': 0} # quality of each base at this position\n",
    "        for pileupread in pileupcolumn.pileups:\n",
    "            if not pileupread.is_del and not pileupread.is_refskip:\n",
    "                base = pileupread.alignment.query_sequence[pileupread.query_position]\n",
    "                base_counts[base] += 1\n",
    "                mapq_sum[base] += pileupread.alignment.mapping_quality\n",
    "        \n",
    "        \n",
    "        non_ref_alleles = {k: v for k, v in base_counts.items() if k != ref_base}\n",
    "        max_non_ref_allele = max(non_ref_alleles, key=non_ref_alleles.get) # non-reference allele with the highest count\n",
    "\n",
    "        # Check if at least 80% of the aligned bases are the non-reference allele\n",
    "        if non_ref_alleles[max_non_ref_allele] / sum(base_counts.values()) >= 0.8:\n",
    "            # Add a row to the list\n",
    "            rows.append({\n",
    "                'CHROM': ref,\n",
    "                'POS': pileupcolumn.pos + 1,\n",
    "                'REF': ref_base,\n",
    "                'ALT': max_non_ref_allele,\n",
    "                'QUAL': mapq_sum[max_non_ref_allele] / non_ref_alleles[max_non_ref_allele],\n",
    "                'INFO': non_ref_alleles[max_non_ref_allele] / sum(base_counts.values())\n",
    "            })\n",
    "\n",
    "    # Create a dataframe from the list of rows\n",
    "    df = pd.DataFrame(rows, columns=['CHROM', 'POS', 'REF', 'ALT', 'QUAL', 'INFO'])\n",
    "\n",
    "    return df"
   ]
  },
  {
   "cell_type": "code",
   "execution_count": 34,
   "metadata": {},
   "outputs": [
    {
     "name": "stdout",
     "output_type": "stream",
     "text": [
      "                                        CHROM  POS REF ALT  QUAL  INFO\n",
      "0  data/comp90016_assignment_2_dnaA_ref.fasta  141   G   A  60.0   1.0\n"
     ]
    },
    {
     "data": {
      "text/plain": [
       "'\\n                                        CHROM  POS REF ALT  QUAL  INFO\\n0  data/comp90016_assignment_2_dnaA_ref.fasta  141   G   A  60.0   1.0\\n'"
      ]
     },
     "execution_count": 34,
     "metadata": {},
     "output_type": "execute_result"
    }
   ],
   "source": [
    "# ~~ Test your function in this cell ~~\n",
    "\n",
    "print(call_SNVs('data/comp90016_assignment_2_dnaA_ref.fasta', 'data/comp90016_assignment_2_dnaA_ref.fasta.fai', 'data/comp90016_assignment_2_dnaA.bam', 'data/comp90016_assignment_2_dnaA.bam.bai')) \n",
    "\n",
    "# Output should be a pandas dataframe that looks like this:\n",
    "\"\"\"\n",
    "                                        CHROM  POS REF ALT  QUAL  INFO\n",
    "0  data/comp90016_assignment_2_dnaA_ref.fasta  141   G   A  60.0   1.0\n",
    "\"\"\""
   ]
  },
  {
   "cell_type": "code",
   "execution_count": 35,
   "metadata": {
    "deletable": false,
    "editable": false,
    "nbgrader": {
     "cell_type": "code",
     "checksum": "564a22addc4598dec3c5d571c0987a76",
     "grade": true,
     "grade_id": "T-4-1a",
     "locked": true,
     "points": 5,
     "schema_version": 3,
     "solution": false,
     "task": false
    }
   },
   "outputs": [],
   "source": [
    "# --- AUTOGRADING CELL DO NOT EDIT ----\n",
    "\n"
   ]
  },
  {
   "cell_type": "code",
   "execution_count": 36,
   "metadata": {
    "deletable": false,
    "editable": false,
    "nbgrader": {
     "cell_type": "code",
     "checksum": "ec149f18592f539b0e76b91ab3656714",
     "grade": true,
     "grade_id": "T-4-1b",
     "locked": true,
     "points": 4,
     "schema_version": 3,
     "solution": false,
     "task": false
    }
   },
   "outputs": [],
   "source": [
    "# --- AUTOGRADING CELL DO NOT EDIT ----\n"
   ]
  },
  {
   "cell_type": "code",
   "execution_count": 37,
   "metadata": {
    "deletable": false,
    "editable": false,
    "nbgrader": {
     "cell_type": "code",
     "checksum": "55f3e9b73fc6bb226189b131576933d3",
     "grade": true,
     "grade_id": "T-4-1c",
     "locked": true,
     "points": 2,
     "schema_version": 3,
     "solution": false,
     "task": false
    }
   },
   "outputs": [],
   "source": [
    "# --- AUTOGRADING CELL DO NOT EDIT ----\n"
   ]
  },
  {
   "cell_type": "code",
   "execution_count": 38,
   "metadata": {
    "deletable": false,
    "editable": false,
    "nbgrader": {
     "cell_type": "code",
     "checksum": "0f381cda396f863610c0871e9d7447fa",
     "grade": true,
     "grade_id": "T-4-1d",
     "locked": true,
     "points": 2,
     "schema_version": 3,
     "solution": false,
     "task": false
    }
   },
   "outputs": [],
   "source": [
    "# --- AUTOGRADING CELL DO NOT EDIT ----\n"
   ]
  },
  {
   "cell_type": "code",
   "execution_count": 39,
   "metadata": {
    "deletable": false,
    "editable": false,
    "nbgrader": {
     "cell_type": "code",
     "checksum": "ae8c53288a356b6ecc368dab48720e25",
     "grade": true,
     "grade_id": "T-4-1e",
     "locked": true,
     "points": 1,
     "schema_version": 3,
     "solution": false,
     "task": false
    }
   },
   "outputs": [],
   "source": [
    "# --- AUTOGRADING CELL DO NOT EDIT ----\n"
   ]
  },
  {
   "cell_type": "code",
   "execution_count": 40,
   "metadata": {
    "deletable": false,
    "editable": false,
    "nbgrader": {
     "cell_type": "code",
     "checksum": "8171c39101c409c683d00ef11ee2ff94",
     "grade": true,
     "grade_id": "T-4-1f",
     "locked": true,
     "points": 1,
     "schema_version": 3,
     "solution": false,
     "task": false
    }
   },
   "outputs": [],
   "source": [
    "# --- AUTOGRADING CELL DO NOT EDIT ----\n"
   ]
  },
  {
   "cell_type": "markdown",
   "metadata": {
    "deletable": false,
    "editable": false,
    "nbgrader": {
     "cell_type": "markdown",
     "checksum": "26db4d8c34c57ba5821a9d2cc35e1c53",
     "grade": false,
     "grade_id": "cell-5c804f1187504fa9",
     "locked": true,
     "schema_version": 3,
     "solution": false,
     "task": false
    }
   },
   "source": [
    "# END OF ASSIGNMENT"
   ]
  },
  {
   "cell_type": "markdown",
   "metadata": {
    "deletable": false,
    "editable": false,
    "nbgrader": {
     "cell_type": "markdown",
     "checksum": "b57187b5e7f5dec84ecc234d02156025",
     "grade": false,
     "grade_id": "cell-c82c42eca2b5bee4",
     "locked": true,
     "schema_version": 3,
     "solution": false,
     "task": false
    }
   },
   "source": [
    "## Submitting\n",
    "\n",
    "Follow these steps to submit your assignment\n",
    "\n",
    "1) Before you turn this assignment in, make sure everything runs as expected. First, **restart the kernel** (in the menubar, select Kernel$\\rightarrow$Restart) and then **run all cells** (in the menubar, select Cell$\\rightarrow$Run All).\n",
    "\n",
    "2) Make sure you have filled in any place that says `YOUR CODE HERE` or \"YOUR ANSWER HERE\"\n",
    "\n",
    "3) **Clear all output** (in the menubar, select Kernel$\\rightarrow$Restart & Clear Output)\n",
    "\n",
    "4) Your completed notebook file containing all your answers must be turned in via LMS in `.ipynb` format.\n",
    "\n",
    "5) You must also submit a copy of this notebook in `html` format with the output cleared (see step 4).\n",
    "\n",
    "\n",
    "Your submission should include **only two** files with names formatted as: **Assignment_2.ipynb** and **Assignment_2.html**\n"
   ]
  }
 ],
 "metadata": {
  "kernelspec": {
   "display_name": "Python 3 (ipykernel)",
   "language": "python",
   "name": "python3"
  },
  "language_info": {
   "codemirror_mode": {
    "name": "ipython",
    "version": 3
   },
   "file_extension": ".py",
   "mimetype": "text/x-python",
   "name": "python",
   "nbconvert_exporter": "python",
   "pygments_lexer": "ipython3",
   "version": "3.10.10"
  }
 },
 "nbformat": 4,
 "nbformat_minor": 4
}
