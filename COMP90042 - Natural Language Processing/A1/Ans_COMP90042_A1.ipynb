{
  "cells": [
    {
      "cell_type": "markdown",
      "metadata": {
        "id": "gk2rjw_ag95x"
      },
      "source": [
        "# Assignment 1: Preprocessing and Text Classification"
      ]
    },
    {
      "cell_type": "markdown",
      "metadata": {
        "id": "eUigOyB_g953"
      },
      "source": [
        "Student Name: Arya Araban\n",
        "\n",
        "Student ID: 1439683"
      ]
    },
    {
      "cell_type": "markdown",
      "metadata": {
        "id": "A-IWos7Ng953"
      },
      "source": [
        "# General Info\n",
        "\n",
        "<b>Due date</b>: Monday, 27 March 2023 1pm\n",
        "\n",
        "<b>Submission method</b>: Canvas submission\n",
        "\n",
        "<b>Submission materials</b>: completed copy of this iPython notebook\n",
        "\n",
        "<b>Late submissions</b>: -10% per day (both week and weekend days counted)\n",
        "\n",
        "<b>Marks</b>: 9% of mark for class (with 8% on correctness + 1% on quality and efficiency of your code)\n",
        "\n",
        "<b>Materials</b>: See \"Using Jupyter Notebook and Python\" page on Canvas (under Modules>Resources) for information on the basic setup required for this class, including an iPython notebook viewer and the python packages NLTK, Numpy, Scipy, Matplotlib, Scikit-Learn, Gensim, Keras and Pytorch. We recommend installing all the data for NLTK, since you will need various parts of it to complete this assignment. You can also use any Python built-in packages, but do not use any other 3rd party packages (the packages listed above are all fine to use); if your iPython notebook doesn't run on the marker's machine, you will lose marks. <b> You should use Python 3.8</b>.  \n",
        "\n",
        "To familiarize yourself with NLTK, here is a free online book:  Steven Bird, Ewan Klein, and Edward Loper (2009). <a href=https://www.nltk.org/book/>Natural Language Processing with Python</a>. O'Reilly Media Inc. You may also consult the <a href=https://www.nltk.org/api/nltk.html>NLTK API</a>.\n",
        "\n",
        "<b>Evaluation</b>: Your iPython notebook should run end-to-end without any errors in a reasonable amount of time, and you must follow all instructions provided below, including specific implementation requirements and instructions for what needs to be printed (please avoid printing output we don't ask for). You should edit the sections below where requested, but leave the rest of the code as is. You should leave the output from running your code in the iPython notebook you submit, to assist with marking. The amount each question is worth is explicitly given. \n",
        "\n",
        "You will be marked not only on the correctness of your methods, but also the quality and efficency of your code: in particular, you should be careful to use Python built-in functions and operators when appropriate and pick descriptive variable names that adhere to <a href=\"https://www.python.org/dev/peps/pep-0008/\">Python style requirements</a>. If you think it might be unclear what you are doing, you should comment your code to help the marker make sense of it.\n",
        "\n",
        "<b>Updates</b>: Any major changes to the assignment will be announced via Canvas. Minor changes and clarifications will be announced on the discussion board; we recommend you check it regularly.\n",
        "\n",
        "<b>Academic misconduct</b>: For most people, collaboration will form a natural part of the undertaking of this homework, and we encourge you to discuss it in general terms with other students. However, this ultimately is still an individual task, and so reuse of code or other instances of clear influence will be considered cheating. We will be checking submissions for originality and will invoke the University’s <a href=\"http://academichonesty.unimelb.edu.au/policy.html\">Academic Misconduct policy</a> where inappropriate levels of collusion or plagiarism are deemed to have taken place. In regards to the use of artificial intelligence tools in the context of academic integrity, please see the university's statement <a href=\"https://academicintegrity.unimelb.edu.au/plagiarism-and-collusion/artificial-intelligence-tools-and-technologies\">here</a>."
      ]
    },
    {
      "cell_type": "markdown",
      "metadata": {
        "id": "80GnSHxRg955"
      },
      "source": [
        "# Overview\n",
        "\n",
        "In this homework, you'll be working with a collection of tweets. The task is to predict the geolocation (country) where the tweet comes from. This homework involves writing code to preprocess data and perform text classification."
      ]
    },
    {
      "cell_type": "markdown",
      "metadata": {
        "id": "OKjusFxpg955"
      },
      "source": [
        "# Preprocessing (4 marks)"
      ]
    },
    {
      "cell_type": "markdown",
      "metadata": {
        "id": "NmifGpE0g955"
      },
      "source": [
        "**Instructions**: Download the data (as1-data.json) from Canvas and put it in the same directory as this iPython notebook. Run the code below to load the json data. This produces two objects, `x` and `y`, which contains a list of  tweets and corresponding country labels (it uses the standard [2 letter country code](https://www.iban.com/country-codes)) respectively. **No implementation is needed.**"
      ]
    },
    {
      "cell_type": "code",
      "source": [
        "from google.colab import drive\n",
        "drive.mount('/content/drive')"
      ],
      "metadata": {
        "colab": {
          "base_uri": "https://localhost:8080/"
        },
        "id": "nRN-a2NYEtFq",
        "outputId": "a5548db4-2b3e-4b48-ab8a-e8538a6ad4d8"
      },
      "execution_count": 1,
      "outputs": [
        {
          "output_type": "stream",
          "name": "stdout",
          "text": [
            "Mounted at /content/drive\n"
          ]
        }
      ]
    },
    {
      "cell_type": "code",
      "execution_count": 2,
      "metadata": {
        "id": "lSkSJIogg956",
        "colab": {
          "base_uri": "https://localhost:8080/"
        },
        "outputId": "3f681878-53f7-4af0-8fbd-8e675b7d040f"
      },
      "outputs": [
        {
          "output_type": "stream",
          "name": "stdout",
          "text": [
            "Number of tweets = 943\n",
            "Number of labels = 943\n",
            "\n",
            "Samples of data:\n",
            "Country = us \tTweet = @Addictd2Success thx u for following\n",
            "Country = us \tTweet = Let's just say, if I were to ever switch teams, Khalesi would be top of the list. #girlcrush\n",
            "Country = ph \tTweet = Taemin jonghyun!!! Your birits make me go~ http://t.co/le8z3dntlA\n",
            "Country = id \tTweet = depart.senior 👻 rapat perdana (with Nyayu, Anita, and 8 others at Ruang Aescullap FK Unsri Madang) — https://t.co/swRALlNkrQ\n",
            "Country = ph \tTweet = Done with internship with this pretty little lady!  (@ Metropolitan Medical Center w/ 3 others) [pic]: http://t.co/1qH61R1t5r\n",
            "Country = gb \tTweet = Wow just Boruc's clanger! Haha Sunday League stuff that, Giroud couldn't believe his luck! #clown\n",
            "Country = my \tTweet = I'm at Sushi Zanmai (Petaling Jaya, Selangor) w/ 5 others http://t.co/bcNobykZ\n",
            "Country = us \tTweet = Mega Fest!!!! Its going down🙏🙌  @BishopJakes\n",
            "Country = gb \tTweet = @EllexxxPharrell wow love the pic babe xx\n",
            "Country = us \tTweet = You have no clue how much you hurt me\n"
          ]
        }
      ],
      "source": [
        "import json\n",
        "\n",
        "x = []\n",
        "y = []\n",
        "data = json.load(open(\"drive/MyDrive/datasets/as1-data.json\"))\n",
        "for k, v in data.items():\n",
        "    x.append(k)\n",
        "    y.append(v)\n",
        "    \n",
        "print(\"Number of tweets =\", len(x))\n",
        "print(\"Number of labels =\", len(y))\n",
        "print(\"\\nSamples of data:\")\n",
        "for i in range(10):\n",
        "    print(\"Country =\", y[i], \"\\tTweet =\", x[i])\n",
        "    \n",
        "assert(len(x) == 943)\n",
        "assert(len(y) == 943)"
      ]
    },
    {
      "cell_type": "markdown",
      "metadata": {
        "id": "vu1-SpP5g956"
      },
      "source": [
        "### Question 1 (1.0 mark)\n",
        "\n",
        "**Instructions**: Next we need to preprocess the collected tweets to create a bag-of-words representation (based on frequency). The preprocessing steps required here are: (1) tokenize each tweet into individual word tokens (using NLTK `TweetTokenizer`); (2) lowercase all words; (3) remove any word that does not contain any English letters in the alphabet (e.g. {_hello_, _#okay_, _abc123_} would be kept, but not {_123_, _!!_}) and (4) remove stopwords (based on NLTK `stopwords`). An empty tweet (after preprocessing) and its country label should be **excluded** from the output (`x_processed` and `y_processed`).\n",
        "\n",
        "**Task**: Complete the `preprocess_data(data, labels)` function. The function takes **a list of tweets** and **a corresponding list of country labels** as input, and returns **two lists**. For the first list, each element is a bag-of-words representation of a tweet (represented using a python dictionary). For the second list, each element is a corresponding country label. Note that while we do not need to preprocess the country labels (`y`), we need to have a new output list (`y_processed`) because some tweets maybe removed after the preprocessing (due to having an empty set of bag-of-words).\n",
        "\n",
        "**Check**: Use the assertion statements in <b>\"For your testing\"</b> below for the expected output."
      ]
    },
    {
      "cell_type": "code",
      "execution_count": 3,
      "metadata": {
        "id": "Szlwb4kvg957",
        "colab": {
          "base_uri": "https://localhost:8080/"
        },
        "outputId": "850a9f01-48ce-4e68-84ea-b8259566ac9c"
      },
      "outputs": [
        {
          "output_type": "stream",
          "name": "stdout",
          "text": [
            "Number of preprocessed tweets = 943\n",
            "Number of preprocessed labels = 943\n",
            "\n",
            "Samples of preprocessed data:\n",
            "Country = us \tTweet = {'@addictd2success': 1, 'thx': 1, 'u': 1, 'following': 1}\n",
            "Country = us \tTweet = {\"let's\": 1, 'say': 1, 'ever': 1, 'switch': 1, 'teams': 1, 'khalesi': 1, 'would': 1, 'top': 1, 'list': 1, '#girlcrush': 1}\n",
            "Country = ph \tTweet = {'taemin': 1, 'jonghyun': 1, 'birits': 1, 'make': 1, 'go': 1, 'http://t.co/le8z3dntla': 1}\n",
            "Country = id \tTweet = {'depart.senior': 1, 'rapat': 1, 'perdana': 1, 'nyayu': 1, 'anita': 1, 'others': 1, 'ruang': 1, 'aescullap': 1, 'fk': 1, 'unsri': 1, 'madang': 1, 'https://t.co/swrallnkrq': 1}\n",
            "Country = ph \tTweet = {'done': 1, 'internship': 1, 'pretty': 1, 'little': 1, 'lady': 1, 'metropolitan': 1, 'medical': 1, 'center': 1, 'w': 1, 'others': 1, 'pic': 1, 'http://t.co/1qh61r1t5r': 1}\n",
            "Country = gb \tTweet = {'wow': 1, \"boruc's\": 1, 'clanger': 1, 'haha': 1, 'sunday': 1, 'league': 1, 'stuff': 1, 'giroud': 1, 'believe': 1, 'luck': 1, '#clown': 1}\n",
            "Country = my \tTweet = {\"i'm\": 1, 'sushi': 1, 'zanmai': 1, 'petaling': 1, 'jaya': 1, 'selangor': 1, 'w': 1, 'others': 1, 'http://t.co/bcnobykz': 1}\n",
            "Country = us \tTweet = {'mega': 1, 'fest': 1, 'going': 1, '@bishopjakes': 1}\n",
            "Country = gb \tTweet = {'@ellexxxpharrell': 1, 'wow': 1, 'love': 1, 'pic': 1, 'babe': 1, 'xx': 1}\n",
            "Country = us \tTweet = {'clue': 1, 'much': 1, 'hurt': 1}\n"
          ]
        },
        {
          "output_type": "stream",
          "name": "stderr",
          "text": [
            "[nltk_data] Downloading package stopwords to /root/nltk_data...\n",
            "[nltk_data]   Unzipping corpora/stopwords.zip.\n"
          ]
        }
      ],
      "source": [
        "import nltk\n",
        "nltk.download('stopwords')\n",
        "from nltk.tokenize import TweetTokenizer\n",
        "from nltk.corpus import stopwords\n",
        "\n",
        "tt = TweetTokenizer()\n",
        "stopwords = set(stopwords.words('english')) #note: stopwords are all in lowercase\n",
        "\n",
        "def preprocess_data(data, labels):\n",
        "    \n",
        "    ###\n",
        "    # Your answer BEGINS HERE\n",
        "    ###\n",
        "\n",
        "    x_processed = []\n",
        "    y_processed = []\n",
        "\n",
        "    for tweet, label in zip(data, labels):\n",
        "\n",
        "        # step 1: tokenizing tweets\n",
        "        word_tokens = tt.tokenize(tweet)\n",
        "\n",
        "        # step 2 & 3: converting words tokens to lowercase as long as token has something from alphabet, else it is dropped.\n",
        "        word_tokens = [w.lower() for w in word_tokens if any(c.isalpha() for c in w)]\n",
        "\n",
        "        # step 4: removing stopwords from current tokens. \n",
        "        word_tokens = [w for w in word_tokens if w not in stopwords]\n",
        "        \n",
        "        # creating bag-of-words\n",
        "        bow = {}\n",
        "        for wt in word_tokens:\n",
        "            bow[wt] = bow.get(wt, 0) + 1 # adding to count of times wt is seen. if not seen yet, have default value as 0.\n",
        "\n",
        "        #if empty tweet or label, skip.\n",
        "        if not bow or not label:  \n",
        "          continue\n",
        "\n",
        "        x_processed.append(bow)\n",
        "        y_processed.append(label)\n",
        "            \n",
        "    return x_processed, y_processed\n",
        "\n",
        "    ###\n",
        "    # Your answer ENDS HERE\n",
        "    ###\n",
        "\n",
        "x_processed, y_processed = preprocess_data(x, y)\n",
        "\n",
        "print(\"Number of preprocessed tweets =\", len(x_processed))\n",
        "print(\"Number of preprocessed labels =\", len(y_processed))\n",
        "print(\"\\nSamples of preprocessed data:\")\n",
        "for i in range(10):\n",
        "    print(\"Country =\", y_processed[i], \"\\tTweet =\", x_processed[i])"
      ]
    },
    {
      "cell_type": "markdown",
      "metadata": {
        "id": "ncFI7LTBg957"
      },
      "source": [
        "**For your testing**:"
      ]
    },
    {
      "cell_type": "code",
      "execution_count": 4,
      "metadata": {
        "id": "GH6aGRJjg957"
      },
      "outputs": [],
      "source": [
        "assert(len(x_processed) == len(y_processed))\n",
        "assert(len(x_processed) > 800)"
      ]
    },
    {
      "cell_type": "markdown",
      "metadata": {
        "id": "4fWKub8ig958"
      },
      "source": [
        "**Instructions**: Hashtags (i.e. topic tags which start with #) pose an interesting tokenisation problem because they often include multiple words written without spaces or capitalization. Run the code below to collect all unique hashtags in the preprocessed data. **No implementation is needed.**\n",
        "\n"
      ]
    },
    {
      "cell_type": "code",
      "execution_count": 5,
      "metadata": {
        "id": "BsGfUTQxg958",
        "colab": {
          "base_uri": "https://localhost:8080/"
        },
        "outputId": "a3181b6b-247b-4cd0-cc9a-ad1b249a730f"
      },
      "outputs": [
        {
          "output_type": "stream",
          "name": "stdout",
          "text": [
            "Number of hashtags = 425\n",
            "['#100percentpay', '#1stsundayofoctober', '#1yearofalmostisneverenough', '#2011prdctn', '#2015eebritishfilmacademyawards', '#2k16', '#2littlebirds', '#365picture', '#5sosacousticatlanta', '#5sosfam', '#8thannualpubcrawl', '#affsuzukicup', '#aflpowertigers', '#ahimacon14', '#aim20', '#airasia', '#allcity', '#alliswell', '#allwedoiscurls', '#amazing', '#anferneehardaway', '#ariona', '#art', '#arte', '#artwork', '#ashes', '#asian', '#asiangirl', '#askcrawford', '#askherforfback', '#askolly', '#asksteven', '#at', '#australia', '#awesome', '#awesomepict', '#barcelona', '#bart', '#bayofislands', '#beautiful', '#bedimages', '#bell', '#beringmy', '#bettybooppose', '#bff', '#big', '#bigbertha', '#bigbreakfast', '#blackhat', '#blessedmorethanicanimagine', '#blessedsunday', '#blogtourambiente', '#bluemountains', '#bonekachika', '#boomtaob', '#booyaa', '#bored', '#boredom', '#bradersisterhood', '#breaktime', '#breedingground', '#bringithomemy', '#brooksengland', '#burgers', '#butitsalsokindofaphone', '#bye', '#camera', '#canadaelections', '#cbb', '#cbcolympics', '#cctv', '#cdnpoli', '#celebritycrush', '#chargers', '#chocolate', '#ciosummit', '#cleansidewalk', '#clown', '#coffeespoonart', '#colts', '#confused', '#cornell', '#country', '#craftbeer', '#creative', '#crepes', '#cumannanya', '#danny4mayor', '#data', '#date', '#datingsiteforyou', '#dearmind', '#deed', '#delightful', '#dennisrodman', '#design', '#devacurl', '#die', '#difd', '#diner', '#dinner', '#dragoncon', '#dus', '#dynamounlock', '#earrings', '#eeeeeehhh', '#election2015', '#electriccircus2014', '#endomondo', '#engine', '#english', '#europapark', '#excitables', '#fabulous', '#factorycampus', '#fall', '#familydinner', '#ff', '#fire', '#flambees', '#flashback', '#fly', '#focusateneo', '#followher', '#followme', '#foodporn', '#fotografías', '#fotorus', '#four', '#freaks', '#friday', '#fridaynight', '#fried', '#friends', '#friendshipflow', '#fries', '#frozenyoghurt', '#fun', '#future', '#galaxy', '#getfreetattooaviciipasses', '#girl', '#girlcrush', '#girls', '#givesmehope', '#goingout', '#google', '#graduated', '#grafunkthiremepls', '#grammyfans', '#grandmarnier', '#greenfood', '#grilled', '#gudnytall', '#gunner', '#gym', '#handbuiltbicycle', '#happybirthdaysandarapark', '#happyfriday', '#harimaumalaya', '#hb60', '#hens', '#hippy', '#holiday', '#hollywoodmusicawards', '#homemadegranola', '#hometomama', '#hot', '#hungergames', '#hungry', '#icu', '#ididntchoosethestudentlifeitchoseme', '#iloveyou', '#imsobored', '#imsosore', '#innoretail', '#insanity', '#insightmedia', '#insightmediasingapore', '#instaframeplus', '#instagood', '#instalook', '#isibaya', '#javaboy', '#jed', '#jewelry', '#jo', '#jordaan', '#jrsurfboards', '#justshare', '#kllive', '#ladygaga', '#latepost', '#laugh', '#laundryservice', '#lazysunday', '#learningcommunties', '#lebedeintennis', '#letmesleep', '#lfc', '#lgbt', '#life', '#lipstickfree', '#littlemonsters', '#loadsoffun', '#lol', '#longranger', '#lotsoflove', '#love', '#lovers', '#lovethisgirl', '#lovevibes', '#lte', '#magazinesandtvscreens', '#magic', '#makeupfree', '#makingemuklajawabnya', '#mamajeanneandme', '#mancrush', '#march', '#massacreconspiracy', '#mauce', '#mavic', '#me', '#meetup', '#melbourne', '#michaelkors', '#mindfulness', '#mkmedi', '#mobile', '#morning', '#mountains', '#movies', '#mtlnewtech', '#mtvhottest', '#mushroom', '#music', '#mustfollow', '#mwc14', '#mybabyemilia', '#myfriendsarebetterthanyours', '#nced', '#ncga', '#ncpol', '#nevergetsold', '#new', '#newlooks', '#newrecord', '#nextlevel', '#nfl', '#nickryrie', '#nochillzone', '#nofilter', '#notersnew2014', '#notreally', '#np', '#nye', '#of', '#offtochurch', '#ohyeah', '#oilandgas', '#olah', '#on', '#oops', '#openspace', '#oscars', '#oui', '#palacefansinthemorning', '#panther', '#panthers', '#partyhardpartyy', '#pats', '#pechanga', '#penny', '#peperoni', '#peppermoney', '#photo', '#photoby', '#photography', '#pic', '#pll', '#pmattheashes', '#pop-up', '#positivity', '#potd', '#procrastination', '#promise', '#purplefriday', '#rainorshine', '#reachingyougpeople', '#realgoodbikes', '#redbull', '#retail', '#revfcwh', '#rippaulwalker', '#ritenow', '#rollercoaster', '#rollersmusicawards', '#rollsroyce', '#rose', '#rosegold', '#rt', '#rundude', '#ryanpurrdler', '#sad', '#safm', '#saints', '#samsung', '#sandwich', '#sarahm', '#saulbass', '#scifigeek', '#security', '#seniorbabysenior', '#sexy', '#sfgiants', '#sggirls', '#shakes', '#shakethatbooty', '#shellvpower', '#shenanigans', '#shopaholic', '#siberuang', '#silver', '#singapore', '#singlefighter', '#sinvsmas', '#skeemsaam', '#skullsearcher', '#sl', '#socal', '#sorrynotsorry', '#southampton', '#spafy', '#spicy', '#spider', '#squad', '#stampede2014', '#startupfest', '#startuphub', '#starving', '#statoftheday', '#stayfreshsaturdaydbn', '#stkilda', '#stop', '#stopcomplaining', '#strictlyus', '#studio', '#summer', '#sun', '#sunrise', '#sunshine', '#supremelaundry', '#surfshop', '#swedumtl', '#sycip', '#taintedlove', '#takeabreak', '#tcschleissheim', '#tdwpliveinkl', '#teamcanada', '#tennis', '#thaiexpress', '#thaifood', '#thankful', '#thankyoulord', '#thankyoupatients', '#thecolorrun2014', '#thedisadvantagesofakindle', '#them', '#thenext5goldenyears', '#thevoiceau', '#thewalkingdead', '#thomassabo', '#throwback', '#thursday', '#ticklish', '#toronto', '#tpcoach', '#transit', '#truegrip', '#tuesday', '#tune', '#turbine', '#txlege', '#ujackbastards', '#umg', '#uniexamonasaturday', '#universal', '#uptonogood', '#urbangardening', '#uss', '#usydhereicome', '#usydoweek', '#utopia', '#vanilla', '#vca', '#vegan', '#veganfood', '#vegetables', '#vegetarian', '#video', '#vma', '#voteonedirection', '#vsco', '#vscocam', '#walking', '#watch', '#weare90s', '#wearesocial', '#white', '#wings', '#wok', '#wood', '#work', '#workmates', '#world', '#worldcup2014', '#yellow', '#yiamas', '#ynwa', '#youtube', '#yummy', '#yws13', '#zweihandvollfarm']\n"
          ]
        }
      ],
      "source": [
        "def get_all_hashtags(data):\n",
        "    hashtags = set([])\n",
        "    for d in data:\n",
        "        for word, frequency in d.items():\n",
        "            if word.startswith(\"#\") and len(word) > 1:\n",
        "                hashtags.add(word)\n",
        "    return hashtags\n",
        "\n",
        "hashtags = get_all_hashtags(x_processed)\n",
        "print(\"Number of hashtags =\", len(hashtags))\n",
        "print(sorted(hashtags))"
      ]
    },
    {
      "cell_type": "markdown",
      "metadata": {
        "id": "CJ0960MUg958"
      },
      "source": [
        "### Question 2 (1.0 mark)\n",
        "\n",
        "**Instructions**: Our task here to tokenize the hashtags, by implementing the **MaxMatch algorithm** discussed in class.\n",
        "\n",
        "NLTK has a list of words that you can use for matching, see starter code below (`words`). Be careful about efficiency with respect to doing word lookups. One extra challenge you have to deal with is that the provided list of words (`words`) includes only lemmas: your MaxMatch algorithm should match inflected forms by converting them into lemmas using the NLTK lemmatizer before matching (provided by the function `lemmatize(word)`). Note that the list of words (`words`) is the only source that you'll use for matching (i.e. you do not need to find  other external word lists). If you are unable to make any longer match, your code should default to matching a single letter.\n",
        "\n",
        "For example, given \"#newrecords\", the algorithm should produce: \\[\"#\", \"new\", \"records\"\\].\n",
        "\n",
        "**Task**: Complete the `tokenize_hashtags(hashtags)` function by implementing the MaxMatch algorithm. The function takes as input **a set of hashtags**, and returns **a dictionary** where key=\"hashtag\" and value=\"a list of tokenised words\".\n",
        "\n",
        "**Check**: Use the assertion statements in <b>\"For your testing\"</b> below for the expected output."
      ]
    },
    {
      "cell_type": "code",
      "execution_count": 6,
      "metadata": {
        "id": "sdjDLRSOg958",
        "colab": {
          "base_uri": "https://localhost:8080/"
        },
        "outputId": "1508dd06-3f39-45b2-9d3f-840a15c7c3a6"
      },
      "outputs": [
        {
          "output_type": "stream",
          "name": "stderr",
          "text": [
            "[nltk_data] Downloading package words to /root/nltk_data...\n",
            "[nltk_data]   Unzipping corpora/words.zip.\n",
            "[nltk_data] Downloading package wordnet to /root/nltk_data...\n"
          ]
        },
        {
          "output_type": "stream",
          "name": "stdout",
          "text": [
            "#vanilla ['#', 'vanilla']\n",
            "#vca ['#', 'v', 'ca']\n",
            "#vegan ['#', 'vega', 'n']\n",
            "#veganfood ['#', 'vega', 'n', 'food']\n",
            "#vegetables ['#', 'vegetable']\n",
            "#vegetarian ['#', 'vegetarian']\n",
            "#video ['#', 'video']\n",
            "#vma ['#', 'v', 'ma']\n",
            "#voteonedirection ['#', 'vote', 'one', 'direction']\n",
            "#vsco ['#', 'v', 'c', 'o']\n",
            "#vscocam ['#', 'v', 'coca', 'm']\n",
            "#walking ['#', 'walk']\n",
            "#watch ['#', 'watch']\n",
            "#weare90s ['#', 'wear', 'e', '9', '0', 's']\n",
            "#wearesocial ['#', 'wear', 'o', 'c', 'i', 'al']\n",
            "#white ['#', 'white']\n",
            "#wings ['#', 'wing']\n",
            "#wok ['#', 'wo', 'k']\n",
            "#wood ['#', 'wood']\n",
            "#work ['#', 'work']\n",
            "#workmates ['#', 'work', 'mat']\n",
            "#world ['#', 'world']\n",
            "#worldcup2014 ['#', 'world', 'cup', '2', '0', '1', '4']\n",
            "#yellow ['#', 'yellow']\n",
            "#yiamas ['#', 'y', 'i', 'ama', 's']\n",
            "#ynwa ['#', 'yn', 'wa']\n",
            "#youtube ['#', 'you', 'tube']\n",
            "#yummy ['#', 'yummy']\n",
            "#yws13 ['#', 'y', 'w', '1', '3']\n",
            "#zweihandvollfarm ['#', 'z', 'wei', 'hand', 'vol', 'l', 'farm']\n"
          ]
        }
      ],
      "source": [
        "from nltk.corpus import wordnet\n",
        "nltk.download('words')\n",
        "nltk.download('wordnet')\n",
        "\n",
        "lemmatizer = nltk.stem.wordnet.WordNetLemmatizer()\n",
        "words = set(nltk.corpus.words.words()) #a list of words provided by NLTK\n",
        "words = set([ word.lower() for word in words ]) #lowercase all the words for better matching\n",
        "\n",
        "def lemmatize(word):\n",
        "    lemma = lemmatizer.lemmatize(word,'v')\n",
        "    if lemma == word:\n",
        "        lemma = lemmatizer.lemmatize(word,'n')\n",
        "    return lemma\n",
        "\n",
        "\n",
        "def tokenize_hashtags(hashtags):\n",
        "    ###\n",
        "    # Your answer BEGINS HERE\n",
        "    ###\n",
        "\n",
        "    hashtags_tokenized = {}\n",
        "    \n",
        "    for hashtag in hashtags:\n",
        "\n",
        "        hashtag_copy = hashtag\n",
        "        hashtag = hashtag[1:] # remove #\n",
        "        tokens = [\"#\"]\n",
        "        \n",
        "        while len(hashtag) > 0:\n",
        "          \n",
        "            longest_matching = ''\n",
        "\n",
        "            for i in range(1, len(hashtag)+1):  #here  hashtag[:i] will be substring from start until i \n",
        "                lemmatized = lemmatize(hashtag[:i])\n",
        "                #print(hashtag[:i])\n",
        "                #print(lemmatized)\n",
        "                #print(longest_matching)\n",
        "                #print(\"------\")\n",
        "                \n",
        "                if  lemmatized in words: \n",
        "                  original_word_len = len(hashtag[:i])\n",
        "                  longest_matching = lemmatized \n",
        "            #after this for loop done, longest matching will contain the longest lemmatized word (starting from start of hashtag) that is in words\n",
        "\n",
        "            \n",
        "            if not longest_matching: # if no word was found just add one character as a word \n",
        "                tokens.append(hashtag[0]) \n",
        "                hashtag = hashtag[1:]\n",
        "\n",
        "            else:\n",
        "                tokens.append(longest_matching)\n",
        "                hashtag = hashtag[original_word_len:] #remove the found word from start of hashtag -- NOTE: might be len(longest_matching) keep non lemmatized part in output\n",
        "\n",
        "       \n",
        "        # Add the tokenized hashtag to the dictionary\n",
        "        hashtags_tokenized[hashtag_copy] = tokens\n",
        "    \n",
        "    # Return the dictionary of tokenized hashtags\n",
        "    return hashtags_tokenized\n",
        "\n",
        "    ###\n",
        "    # Your answer ENDS HERE\n",
        "    ###\n",
        "\n",
        "#tokenise hashtags with MaxMatch\n",
        "tokenized_hashtags = tokenize_hashtags(hashtags)\n",
        "\n",
        "#print results\n",
        "for k, v in sorted(tokenized_hashtags.items())[-30:]:\n",
        "    print(k, v)"
      ]
    },
    {
      "cell_type": "markdown",
      "metadata": {
        "id": "DGsYjBxZg959"
      },
      "source": [
        "**For your testing:**"
      ]
    },
    {
      "cell_type": "code",
      "execution_count": 7,
      "metadata": {
        "id": "NL5cyd91g959"
      },
      "outputs": [],
      "source": [
        "assert(len(tokenized_hashtags) == len(hashtags))\n",
        "assert(tokenized_hashtags[\"#newrecord\"] == [\"#\", \"new\", \"record\"])"
      ]
    },
    {
      "cell_type": "markdown",
      "metadata": {
        "id": "jI8ZjEKGg959"
      },
      "source": [
        "### Question 3 (1.0 mark)\n",
        "\n",
        "**Instructions**: Our next task is to tokenize the hashtags again, but this time using a **reversed version of the MaxMatch algorithm**, where matching begins at the end of the hashtag and progresses backwards (e.g. for <i>#helloworld</i>, we would process it right to left, starting from the last character <i>d</i>). Just like before, you should use the provided word list (`words`) for word matching.\n",
        "\n",
        "**Task**: Complete the `tokenize_hashtags_rev(hashtags)` function by the MaxMatch algorithm. The function takes as input **a set of hashtags**, and returns **a dictionary** where key=\"hashtag\" and value=\"a list of tokenised words\".\n",
        "\n",
        "**Check**: Use the assertion statements in <b>\"For your testing\"</b> below for the expected output."
      ]
    },
    {
      "cell_type": "code",
      "execution_count": 8,
      "metadata": {
        "id": "s-Vh9R8ag959",
        "colab": {
          "base_uri": "https://localhost:8080/"
        },
        "outputId": "b1cb890f-1dba-4d02-d226-5e98e8700716"
      },
      "outputs": [
        {
          "output_type": "stream",
          "name": "stdout",
          "text": [
            "#vanilla ['#', 'vanilla']\n",
            "#vca ['#', 'v', 'ca']\n",
            "#vegan ['#', 'v', 'e', 'gin']\n",
            "#veganfood ['#', 'v', 'e', 'gin', 'food']\n",
            "#vegetables ['#', 'vegetable']\n",
            "#vegetarian ['#', 'vegetarian']\n",
            "#video ['#', 'video']\n",
            "#vma ['#', 'v', 'ma']\n",
            "#voteonedirection ['#', 'vote', 'one', 'direction']\n",
            "#vsco ['#', 'v', 'c', 'o']\n",
            "#vscocam ['#', 'v', 'c', 'o', 'cam']\n",
            "#walking ['#', 'walk']\n",
            "#watch ['#', 'watch']\n",
            "#weare90s ['#', 'we', 'be', '9', '0', 's']\n",
            "#wearesocial ['#', 'we', 'be', 'social']\n",
            "#white ['#', 'white']\n",
            "#wings ['#', 'wing']\n",
            "#wok ['#', 'w', 'ok']\n",
            "#wood ['#', 'wood']\n",
            "#work ['#', 'work']\n",
            "#workmates ['#', 'work', 'mat']\n",
            "#world ['#', 'world']\n",
            "#worldcup2014 ['#', 'world', 'cup', '2', '0', '1', '4']\n",
            "#yellow ['#', 'yellow']\n",
            "#yiamas ['#', 'y', 'i', 'a', 'ma']\n",
            "#ynwa ['#', 'yn', 'wa']\n",
            "#youtube ['#', 'you', 'tube']\n",
            "#yummy ['#', 'yummy']\n",
            "#yws13 ['#', 'y', 'w', '1', '3']\n",
            "#zweihandvollfarm ['#', 'z', 'wei', 'hand', 'vol', 'l', 'farm']\n"
          ]
        }
      ],
      "source": [
        "def tokenize_hashtags_rev(hashtags):\n",
        "    ###\n",
        "    # Your answer BEGINS HERE\n",
        "    ###\n",
        "    \n",
        "    hashtags_tokenized = {}\n",
        "    \n",
        "    for hashtag in hashtags:\n",
        "\n",
        "        hashtag_copy = hashtag\n",
        "        hashtag = hashtag[1:] # remove #\n",
        "        tokens = []\n",
        "        \n",
        "        while len(hashtag) > 0:\n",
        "          \n",
        "            longest_matching = ''\n",
        "            length_hashtag  = len(hashtag)\n",
        "\n",
        "            for i in reversed(range(0, length_hashtag)):  # here  hashtag[i:length_hashtag] will be substring from between i and end\n",
        "                lemmatized = lemmatize(hashtag[i:length_hashtag])\n",
        "                #print(hashtag[i:length_hashtag])\n",
        "                #print(lemmatized)\n",
        "                #print(\"------\")\n",
        "                if  lemmatized in words: \n",
        "                  original_word_len = len(hashtag[i:length_hashtag])\n",
        "                  longest_matching = lemmatized \n",
        "            # after this for loop done, longest matching will contain the longest lemmatized word (ending on end of hashtag) that is in words\n",
        "\n",
        "          \n",
        "            if not longest_matching: # if no word was found just add last character as a word \n",
        "                tokens.append(hashtag[-1]) \n",
        "                hashtag = hashtag[:-1]\n",
        "\n",
        "            else:\n",
        "                tokens.append(longest_matching)\n",
        "                hashtag = hashtag[:-original_word_len] # remove the found word from end of hashtag  \n",
        "\n",
        "            \n",
        "        \n",
        "        tokens.append(\"#\")\n",
        "        tokens = list(reversed(tokens)) # reverse the list since its from end to start\n",
        "\n",
        "        hashtags_tokenized[hashtag_copy] = tokens\n",
        "    \n",
        "    # Return the dictionary of tokenized hashtags\n",
        "    return hashtags_tokenized\n",
        "\n",
        "    ###\n",
        "    # Your answer ENDS HERE\n",
        "    ###\n",
        "\n",
        "    \n",
        "#tokenise hashtags with the reversed version of MaxMatch\n",
        "\n",
        "tokenized_hashtags_rev = tokenize_hashtags_rev(hashtags)\n",
        "\n",
        "#print results\n",
        "\n",
        "for k, v in sorted(tokenized_hashtags_rev.items())[-30:]:\n",
        "    print(k, v)"
      ]
    },
    {
      "cell_type": "markdown",
      "metadata": {
        "id": "xHX26lzug959"
      },
      "source": [
        "**For your testing:**"
      ]
    },
    {
      "cell_type": "code",
      "execution_count": 9,
      "metadata": {
        "id": "RQARoK1ug95-"
      },
      "outputs": [],
      "source": [
        "assert(len(tokenized_hashtags_rev) == len(hashtags))\n",
        "assert(tokenized_hashtags_rev[\"#newrecord\"] == [\"#\", \"new\", \"record\"])"
      ]
    },
    {
      "cell_type": "markdown",
      "metadata": {
        "id": "oUe7yFTmg95-"
      },
      "source": [
        "### Question 4 (1.0 mark)\n",
        "\n",
        "**Instructions**: The two versions of MaxMatch will produce different results for some of the hashtags. For a hastag that has different results, our task here is to use a **unigram language model** (lecture 3) to score them to see which is better. Recall that in a unigram language model we compute P(<i>#</i>, <i>hello</i>, <i>world</i> = P(<i>#</i>)\\*P(<i>hellow</i>)\\*P(<i>world</i>).\n",
        "\n",
        "You should: (1) use the NLTK's Brown corpus (`brown_words`) for collecting word frequencies (note: the words are already tokenised so no further tokenisation is needed); (2) lowercase all words in the corpus; (3) use add-one smoothing when computing the unigram probabilities; and (4) work in the log space to prevent numerical underflow.\n",
        "\n",
        "**Task**: Build a unigram language model with add-one smoothing using the word counts from the Brown corpus. Iterate through the hashtags, and for each hashtag where MaxMatch and reversed MaxMatch produce different results, print the following: (1) the hashtag; (2) the results produced by MaxMatch and reversed MaxMatch; and (3) the log probability of each result as given by the unigram language model. Note: you **do not** need to print the hashtags where MaxMatch and reversed MaxMatch produce the same results.\n",
        "\n",
        "An example output:\n",
        "```\n",
        "1. #abcd\n",
        "MaxMatch = [#, a, bc, d]; LogProb = -2.3\n",
        "Reversed MaxMatch = [#, a, b, cd]; LogProb = -3.5\n",
        "\n",
        "2. #efgh\n",
        "MaxMatch = [#, ef, g, h]; LogProb = -4.2\n",
        "Reversed MaxMatch = [#, e, fgh]; LogProb = -3.1\n",
        "\n",
        "```\n",
        "\n",
        "Have a look at the output, and see if the sequences with better language model scores (i.e. less negative) are generally more coherent."
      ]
    },
    {
      "cell_type": "code",
      "source": [],
      "metadata": {
        "colab": {
          "base_uri": "https://localhost:8080/"
        },
        "id": "IpRxNEV_NXLC",
        "outputId": "fe274187-8191-42bb-8ec3-02d2b1c4d4c8"
      },
      "execution_count": 10,
      "outputs": [
        {
          "output_type": "stream",
          "name": "stderr",
          "text": [
            "[nltk_data] Downloading package brown to /root/nltk_data...\n",
            "[nltk_data]   Unzipping corpora/brown.zip.\n"
          ]
        },
        {
          "output_type": "execute_result",
          "data": {
            "text/plain": [
              "True"
            ]
          },
          "metadata": {},
          "execution_count": 10
        }
      ]
    },
    {
      "cell_type": "code",
      "execution_count": 11,
      "metadata": {
        "id": "miOWablrg95-",
        "colab": {
          "base_uri": "https://localhost:8080/"
        },
        "outputId": "0e2fab83-08e6-4bfb-b034-dc346f16571a"
      },
      "outputs": [
        {
          "output_type": "stream",
          "name": "stdout",
          "text": [
            "hashtag = #swedumtl\n",
            "max match tokenization = ['#', 's', 'wed', 'um', 't', 'l']\n",
            "reversed max match tokenization = ['#', 's', 'we', 'dum', 't', 'l']\n",
            "max match log probability = -71.0083102294149\n",
            "reversed max match log probability = -65.83291407637937\n",
            "-----\n",
            "hashtag = #longranger\n",
            "max match tokenization = ['#', 'long', 'ranger']\n",
            "reversed max match tokenization = ['#', 'l', 'on', 'granger']\n",
            "max match log probability = -34.298210892128026\n",
            "reversed max match log probability = -44.378525971611154\n",
            "-----\n",
            "hashtag = #photoby\n",
            "max match tokenization = ['#', 'photo', 'by']\n",
            "reversed max match tokenization = ['#', 'pho', 'toby']\n",
            "max match log probability = -31.652346956540082\n",
            "reversed max match log probability = -42.02088840859603\n",
            "-----\n",
            "hashtag = #ididntchoosethestudentlifeitchoseme\n",
            "max match tokenization = ['#', 'id', 'id', 'n', 'tch', 'o', 'ose', 'the', 'student', 'life', 'itch', 'ose', 'me']\n",
            "reversed max match tokenization = ['#', 'i', 'didnt', 'choose', 'the', 'student', 'life', 'it', 'cho', 'seme']\n",
            "max match log probability = -143.6520627273642\n",
            "reversed max match log probability = -95.89774415115184\n",
            "-----\n",
            "hashtag = #hometomama\n",
            "max match tokenization = ['#', 'home', 'toma', 'ma']\n",
            "reversed max match tokenization = ['#', 'home', 'tom', 'ama']\n",
            "max match log probability = -46.72584365095937\n",
            "reversed max match log probability = -44.869545660593744\n",
            "-----\n",
            "hashtag = #mtlnewtech\n",
            "max match tokenization = ['#', 'm', 't', 'l', 'newt', 'e', 'c', 'h']\n",
            "reversed max match tokenization = ['#', 'm', 't', 'l', 'new', 'tech']\n",
            "max match log probability = -88.13969538899899\n",
            "reversed max match log probability = -64.42140720789112\n",
            "-----\n",
            "hashtag = #usydhereicome\n",
            "max match tokenization = ['#', 'u', 'y', 'd', 'here', 'i', 'come']\n",
            "reversed max match tokenization = ['#', 'u', 'syd', 'here', 'i', 'come']\n",
            "max match log probability = -68.06772529263068\n",
            "reversed max match log probability = -59.78434759171772\n",
            "-----\n",
            "hashtag = #uptonogood\n",
            "max match tokenization = ['#', 'up', 'ton', 'og', 'o', 'od']\n",
            "reversed max match tokenization = ['#', 'up', 'to', 'no', 'good']\n",
            "max match log probability = -70.56202155291402\n",
            "reversed max match log probability = -37.95611959084162\n",
            "-----\n",
            "hashtag = #anferneehardaway\n",
            "max match tokenization = ['#', 'an', 'fern', 'e', 'eh', 'ar', 'daw', 'ay']\n",
            "reversed max match tokenization = ['#', 'an', 'f', 'er', 'nee', 'hard', 'away']\n",
            "max match log probability = -97.22465036397413\n",
            "reversed max match log probability = -74.77282410312905\n",
            "-----\n",
            "hashtag = #txlege\n",
            "max match tokenization = ['#', 't', 'x', 'leg', 'e']\n",
            "reversed max match tokenization = ['#', 't', 'x', 'l', 'e', 'ge']\n",
            "max match log probability = -55.11440695478732\n",
            "reversed max match log probability = -69.26708156883406\n",
            "-----\n"
          ]
        }
      ],
      "source": [
        "from nltk.corpus import brown\n",
        "\n",
        "#words from brown corpus\n",
        "\n",
        "\n",
        "###\n",
        "# Your answer BEGINS HERE\n",
        "###\n",
        "\n",
        "nltk.download(\"brown\")\n",
        "from collections import Counter\n",
        "import math\n",
        "\n",
        "def compare_maxmatch(hashtags):\n",
        "  brown_words = brown.words()\n",
        "  brown_words = [word.lower() for word in brown_words] \n",
        "  word_freqs = Counter(brown_words)\n",
        "\n",
        "  num_total_words = len(brown_words)\n",
        "  num_unique_words = len(word_freqs)\n",
        "\n",
        "  def log_probability(tokenized_hashtag): # this inner function gets tokenized hashtag (obtained from maxmatch) and returns the log prob.\n",
        "      log_prob = 0 \n",
        "      for token in tokenized_hashtag:\n",
        "\n",
        "        unigram_prob = (word_freqs[token] + 1) / (num_total_words + num_unique_words) # note the +1 in the numerator and num_unique_words in denominator is for add one smoothing \n",
        "        log_prob += math.log(unigram_prob)\n",
        "\n",
        "      return log_prob\n",
        "\n",
        "  for hashtag in hashtags: \n",
        "    tokenized_mm = tokenize_hashtags([hashtag])[hashtag] # tokenizing current hashtag using normal Maxmatch \n",
        "    tokenized_mm_rev = tokenize_hashtags_rev([hashtag])[hashtag] # tokenizing current hashtag  using reverse Maxmatch \n",
        "\n",
        "    if tokenized_mm == tokenized_mm_rev: #if they tokenized similarly, continue \n",
        "      continue \n",
        "    \n",
        "    log_prob = log_probability(tokenized_mm)\n",
        "    log_prob_rev = log_probability(tokenized_mm_rev)\n",
        "\n",
        "    print(f\"hashtag = {hashtag}\")\n",
        "    print(f\"max match tokenization = {tokenized_mm}\")\n",
        "    print(f\"reversed max match tokenization = {tokenized_mm_rev}\")\n",
        "    print(f\"max match log probability = {log_prob}\")\n",
        "    print(f\"reversed max match log probability = {log_prob_rev}\")\n",
        "    print(\"-----\")\n",
        "\n",
        "\n",
        "compare_maxmatch(list(hashtags)[:50])\n",
        "\n",
        "\n",
        "\n",
        "  ###\n",
        "  # Your answer ENDS HERE\n",
        "  ###"
      ]
    },
    {
      "cell_type": "markdown",
      "metadata": {
        "id": "y4pTDvoxg95-"
      },
      "source": [
        "# Text Classification (4 marks)"
      ]
    },
    {
      "cell_type": "markdown",
      "metadata": {
        "id": "rkKXiEQUg95-"
      },
      "source": [
        "### Question 5 (1.0 mark)\n",
        "\n",
        "**Instructions**: Here we are interested to do text classification, to predict the country of origin of a given tweet. The task here is to create training, development and test partitions from the preprocessed data (`x_processed`) and convert the bag-of-words representation into feature vectors.\n",
        "\n",
        "**Task**: Create training, development and test partitions with a 70%/15%/15% ratio. Remember to preserve the ratio of the classes for all your partitions. That is, say we have only 2 classes and 70% of instances are labelled class A and 30% of instances are labelled class B, then the instances in training, development and test partitions should also preserve this 7:3 ratio. You may use sklearn's builtin functions for doing data partitioning.\n",
        "\n",
        "Next, turn the bag-of-words dictionary of each tweet into a feature vector. You may also use sklearn's builtin functions for doing this (but if you don't want to use sklearn that's fine).\n",
        "\n",
        "You should produce 6 objects: `x_train`, `x_dev`, `x_test` which contain the input feature vectors, and `y_train`, `y_dev` and `y_test` which contain the labels."
      ]
    },
    {
      "cell_type": "code",
      "execution_count": 12,
      "metadata": {
        "id": "qoN8M7rog95_"
      },
      "outputs": [],
      "source": [
        "from sklearn.feature_extraction import DictVectorizer\n",
        "\n",
        "\n",
        "x_train, x_dev, x_test = None, None, None\n",
        "y_train, y_dev, y_test = None, None, None\n",
        "\n",
        "###\n",
        "# Your answer BEGINS HERE\n",
        "###\n",
        "from sklearn.model_selection import train_test_split\n",
        "import numpy as np \n",
        "\n",
        "vectorizer = DictVectorizer()\n",
        "\n",
        "\n",
        "\n",
        "x_train, x_test_dev, y_train, y_test_dev = train_test_split(x_processed, y_processed, test_size=0.3, stratify=y_processed) # splitting 30% into test_dev while maintaing ratio \n",
        "x_test, x_dev, y_test, y_dev = train_test_split(x_test_dev, y_test_dev, test_size=0.5, stratify=y_test_dev) # splitting 50% of test_dev into test & dev while maintaing ratio \n",
        "\n",
        "\n",
        "# vectorizing the BoWs. note that this returns a numpy array \n",
        "x_train = vectorizer.fit_transform(x_train).toarray()\n",
        "x_test = vectorizer.transform(x_test).toarray()\n",
        "x_dev = vectorizer.transform(x_dev).toarray()\n",
        "\n",
        "# converting labels to numpy arrays for consistency \n",
        "y_train = np.array(y_train)\n",
        "y_test = np.array(y_test)\n",
        "y_dev = np.array(y_dev)\n",
        "\n",
        "#unique, counts = np.unique(x_train[0], return_counts=True)\n",
        "#print(unique,counts)\n",
        "\n",
        "###\n",
        "# Your answer ENDS HERE\n",
        "###"
      ]
    },
    {
      "cell_type": "markdown",
      "metadata": {
        "id": "48JdiF8sg95_"
      },
      "source": [
        "### Question 6 (1.0 mark)\n",
        "\n",
        "**Instructions**: Now, let's build some classifiers. Here, we'll be comparing Naive Bayes and Logistic Regression. For each, you need to first find a good value for their main regularisation hyper-parameters, which you should identify using the scikit-learn docs or other resources. Use the development set you created for this tuning process; do **not** use cross-validation in the training set, or involve the test set in any way. You don't need to show all your work, but you do need to print out the **accuracy** with enough different settings to strongly suggest you have found an optimal or near-optimal choice. We should not need to look at your code to interpret the output.\n",
        "\n",
        "**Task**: Implement two text classifiers: Naive Bayes and Logistic Regression. Tune the hyper-parameters of these classifiers and print the task performance (accuracy) for different hyper-parameter settings."
      ]
    },
    {
      "cell_type": "code",
      "execution_count": 13,
      "metadata": {
        "id": "rAlGLR-Yg95_",
        "colab": {
          "base_uri": "https://localhost:8080/"
        },
        "outputId": "8d36d2d8-4f25-47e2-f401-5dc5057e2a16"
      },
      "outputs": [
        {
          "output_type": "stream",
          "name": "stdout",
          "text": [
            "NAIVE BAYES CLASSIFIER: \n",
            "\n",
            "accuracy = 0.282 | Alpha = 0.0\n",
            "accuracy = 0.289 | Alpha = 0.1\n",
            "accuracy = 0.296 | Alpha = 0.2\n",
            "accuracy = 0.296 | Alpha = 0.3\n",
            "accuracy = 0.296 | Alpha = 0.4\n",
            "accuracy = 0.303 | Alpha = 0.5\n",
            "accuracy = 0.303 | Alpha = 0.6\n",
            "accuracy = 0.296 | Alpha = 0.7\n",
            "accuracy = 0.296 | Alpha = 0.8\n",
            "accuracy = 0.289 | Alpha = 0.9\n",
            "accuracy = 0.296 | Alpha = 1.0\n",
            "------------\n",
            "Best accuracy = 0.303 | Best alpha = 0.5\n",
            "\n",
            "-~-~-~-~-~-\n",
            "\n",
            "LOGISTIC REGRESSION CLASSIFIER: \n",
            "\n",
            "Accuracy: 0.106 | Penalty: l1 | C: 0.001 | Solver: liblinear\n",
            "Accuracy: 0.106 | Penalty: l1 | C: 0.01 | Solver: liblinear\n",
            "Accuracy: 0.106 | Penalty: l1 | C: 0.1 | Solver: liblinear\n",
            "Accuracy: 0.204 | Penalty: l1 | C: 1 | Solver: liblinear\n",
            "Accuracy: 0.289 | Penalty: l1 | C: 10 | Solver: liblinear\n",
            "Accuracy: 0.282 | Penalty: l1 | C: 100 | Solver: liblinear\n",
            "Accuracy: 0.268 | Penalty: l2 | C: 0.001 | Solver: newton-cg\n",
            "Accuracy: 0.268 | Penalty: l2 | C: 0.001 | Solver: lbfgs\n",
            "Accuracy: 0.282 | Penalty: l2 | C: 0.001 | Solver: liblinear\n",
            "Accuracy: 0.282 | Penalty: l2 | C: 0.01 | Solver: newton-cg\n",
            "Accuracy: 0.282 | Penalty: l2 | C: 0.01 | Solver: lbfgs\n",
            "Accuracy: 0.282 | Penalty: l2 | C: 0.01 | Solver: liblinear\n",
            "Accuracy: 0.275 | Penalty: l2 | C: 0.1 | Solver: newton-cg\n",
            "Accuracy: 0.275 | Penalty: l2 | C: 0.1 | Solver: lbfgs\n",
            "Accuracy: 0.289 | Penalty: l2 | C: 0.1 | Solver: liblinear\n",
            "Accuracy: 0.331 | Penalty: l2 | C: 1 | Solver: newton-cg\n",
            "Accuracy: 0.331 | Penalty: l2 | C: 1 | Solver: lbfgs\n",
            "Accuracy: 0.331 | Penalty: l2 | C: 1 | Solver: liblinear\n",
            "Accuracy: 0.296 | Penalty: l2 | C: 10 | Solver: newton-cg\n",
            "Accuracy: 0.296 | Penalty: l2 | C: 10 | Solver: lbfgs\n",
            "Accuracy: 0.296 | Penalty: l2 | C: 10 | Solver: liblinear\n",
            "Accuracy: 0.289 | Penalty: l2 | C: 100 | Solver: newton-cg\n",
            "Accuracy: 0.289 | Penalty: l2 | C: 100 | Solver: lbfgs\n",
            "Accuracy: 0.303 | Penalty: l2 | C: 100 | Solver: liblinear\n",
            "Accuracy: 0.282 | Penalty: none | C: 0.001 | Solver: newton-cg\n",
            "Accuracy: 0.310 | Penalty: none | C: 0.001 | Solver: lbfgs\n",
            "Accuracy: 0.282 | Penalty: none | C: 0.01 | Solver: newton-cg\n",
            "Accuracy: 0.310 | Penalty: none | C: 0.01 | Solver: lbfgs\n",
            "Accuracy: 0.282 | Penalty: none | C: 0.1 | Solver: newton-cg\n",
            "Accuracy: 0.310 | Penalty: none | C: 0.1 | Solver: lbfgs\n",
            "Accuracy: 0.282 | Penalty: none | C: 1 | Solver: newton-cg\n",
            "Accuracy: 0.310 | Penalty: none | C: 1 | Solver: lbfgs\n",
            "Accuracy: 0.282 | Penalty: none | C: 10 | Solver: newton-cg\n",
            "Accuracy: 0.310 | Penalty: none | C: 10 | Solver: lbfgs\n",
            "Accuracy: 0.282 | Penalty: none | C: 100 | Solver: newton-cg\n",
            "Accuracy: 0.310 | Penalty: none | C: 100 | Solver: lbfgs\n",
            "------------\n",
            "Best Accuracy: 0.331 | Best Penalty: l2 | Best C: 1 | Best Solver: newton-cg\n"
          ]
        }
      ],
      "source": [
        "from sklearn.naive_bayes import MultinomialNB\n",
        "from sklearn.linear_model import LogisticRegression\n",
        "\n",
        "\n",
        "\n",
        "\n",
        "###\n",
        "# Your answer BEGINS HERE\n",
        "###\n",
        "from sklearn.metrics import accuracy_score\n",
        "import itertools\n",
        "\n",
        "import warnings\n",
        "warnings.filterwarnings('ignore') \n",
        "\n",
        "\n",
        "def naive_bayes(x_train, x_test, x_dev, y_train, y_test, y_dev ): \n",
        "  # When using naive bayes we don't have many tunabale parameters.\n",
        "  # There is, However, the smoothing parameter alpha. \n",
        "  # Alpha controls the degree of smoothing applied to the probabilities. If alpha=1.0, then Laplace smoothing is used.\n",
        "\n",
        "  alphas = [x/10 for x in range(0, 11)] # alpha will take values [0, 0.1, ..., 1]. we test with these \n",
        "\n",
        "  best_accuracy = -math.inf\n",
        "  best_model = None \n",
        "  best_alpha = -1\n",
        "\n",
        "  for alph in alphas: \n",
        "\n",
        "    clf = MultinomialNB(alpha=alph) \n",
        "    clf.fit(x_train, y_train)\n",
        "    y_dev_pred = clf.predict(x_dev)\n",
        "    accuracy = accuracy_score(y_dev, y_dev_pred)\n",
        "    print(f\"accuracy = {accuracy:.3f} | Alpha = {alph}\")\n",
        "\n",
        "    if accuracy > best_accuracy: \n",
        "      best_accuracy = accuracy\n",
        "      best_model = clf\n",
        "      best_alpha = alph\n",
        "  print(\"------------\")\n",
        "  print(f\"Best accuracy = {best_accuracy:.3f} | Best alpha = {best_alpha}\")\n",
        "\n",
        "  return best_model\n",
        "\n",
        "\n",
        "def logistic_regression(x_train, x_test, x_dev, y_train, y_test, y_dev): \n",
        "    # For logistic regression we have 3 main hyper-parameters.\n",
        "    # Penalty: specifies the type of regularization to apply to the LR model.\n",
        "    # C: controls the amount of regularization to apply to the model. Smaller values of C result in stronger regularization.\n",
        "    # Solver: specifies the algorithm to use for optimization when training. Different solvers have different numerical properties and converge at different rates.\n",
        "\n",
        "    # Define hyperparameters to test\n",
        "    penalties = ['l1', 'l2', 'elasticnet', 'none']\n",
        "    cs = [0.001, 0.01, 0.1, 1, 10, 100]\n",
        "    solvers = ['newton-cg', 'lbfgs', 'liblinear']\n",
        "\n",
        "    #find all different combinations \n",
        "    possibilities = list(itertools.product(penalties, cs, solvers ))\n",
        "\n",
        "    # Initialize variables to store best hyperparameters and model\n",
        "    best_accuracy = -1\n",
        "    best_penalty = ''\n",
        "    best_C = -1\n",
        "    best_solver = ''\n",
        "    best_model = None\n",
        "    \n",
        "    # Loop over hyperparameters to find best model\n",
        "    for penalty, c, solver in possibilities:\n",
        "       \n",
        "        # Train model with current hyperparameters\n",
        "        try: # this is to make sure no training happens on an impossible set of hyperparam inputs \n",
        "          clf = LogisticRegression(penalty=penalty, C=c, solver=solver, max_iter=1000)\n",
        "          clf.fit(x_train, y_train)\n",
        "\n",
        "        except:\n",
        "          continue\n",
        "        \n",
        "        y_dev_pred = clf.predict(x_dev)\n",
        "        accuracy = accuracy_score(y_dev, y_dev_pred)\n",
        "        \n",
        "        \n",
        "        if accuracy > best_accuracy:\n",
        "            best_accuracy = accuracy\n",
        "            best_penalty = penalty\n",
        "            best_C = c\n",
        "            best_solver = solver\n",
        "            best_model = clf\n",
        "            \n",
        "        # Print progress\n",
        "        print(f\"Accuracy: {accuracy:.3f} | Penalty: {penalty} | C: {c} | Solver: {solver}\")\n",
        "    \n",
        "    # Print best hyperparameters and accuracy on validation set\n",
        "    print(\"------------\")\n",
        "    print(f\"Best Accuracy: {best_accuracy:.3f} | Best Penalty: {best_penalty} | Best C: {best_C} | Best Solver: {best_solver}\")\n",
        "  \n",
        "    return best_model\n",
        "\n",
        "\n",
        "\n",
        "print(\"NAIVE BAYES CLASSIFIER: \\n\")  \n",
        "\n",
        "nb_model = naive_bayes(x_train, x_test, x_dev, y_train, y_test, y_dev )\n",
        "\n",
        "print(\"\\n-~-~-~-~-~-\\n\")\n",
        "\n",
        "print(\"LOGISTIC REGRESSION CLASSIFIER: \\n\") \n",
        "lr_model = logistic_regression(x_train, x_test, x_dev, y_train, y_test, y_dev )\n",
        "\n",
        "###\n",
        "# Your answer ENDS HERE\n",
        "###"
      ]
    },
    {
      "cell_type": "markdown",
      "metadata": {
        "id": "1K8Oz-Fcg95_"
      },
      "source": [
        "### Question 7 (1.0 mark)\n",
        "\n",
        "**Instructions**: Using the best settings you have found, compare the two classifiers based on performance in the test set. Print out both **accuracy** and **macro-averaged F-score** for each classifier. Be sure to label your output. You may use sklearn's inbuilt functions.\n",
        "\n",
        "**Task**: Compute test performance in terms of accuracy and macro-averaged F-score for both Naive Bayes and Logistic Regression, using their optimal hyper-parameter settings based on their development performance."
      ]
    },
    {
      "cell_type": "code",
      "execution_count": 14,
      "metadata": {
        "id": "Bvrc7AA-g95_",
        "colab": {
          "base_uri": "https://localhost:8080/"
        },
        "outputId": "35158957-c8e8-4d6b-cd25-37b74aabc906"
      },
      "outputs": [
        {
          "output_type": "stream",
          "name": "stdout",
          "text": [
            "NAIVE BAYES CLASSIFIER PERFORMANCE: \n",
            "\n",
            "Accuracy: 0.2695 | macro-averaged F1-score: 0.2838 \n",
            "\n",
            "-~-~-~-~-~-\n",
            "\n",
            "LOGISTIC REGRESSION CLASSIFIER PERFORMANCE: \n",
            "\n",
            "Accuracy: 0.2837 | macro-averaged F1-score: 0.2620 \n"
          ]
        }
      ],
      "source": [
        "###\n",
        "# Your answer BEGINS HERE\n",
        "###\n",
        "\n",
        "from sklearn.metrics import f1_score\n",
        "\n",
        "print(\"NAIVE BAYES CLASSIFIER PERFORMANCE: \\n\")\n",
        "\n",
        "nb_y_pred = nb_model.predict(x_test)\n",
        "nb_accuracy = accuracy_score(y_test, nb_y_pred)\n",
        "nb_f1 = f1_score(y_test, nb_y_pred, average='macro')\n",
        "\n",
        "print(f\"Accuracy: {nb_accuracy:.4f} | macro-averaged F1-score: {nb_f1:.4f} \")\n",
        "\n",
        "\n",
        "\n",
        "print(\"\\n-~-~-~-~-~-\\n\")\n",
        "\n",
        "\n",
        "\n",
        "print(\"LOGISTIC REGRESSION CLASSIFIER PERFORMANCE: \\n\")\n",
        "\n",
        "\n",
        "lr_y_pred = lr_model.predict(x_test)\n",
        "lr_accuracy = accuracy_score(y_test, lr_y_pred)\n",
        "lr_f1 = f1_score(y_test, lr_y_pred, average='macro')\n",
        "\n",
        "print(f\"Accuracy: {lr_accuracy:.4f} | macro-averaged F1-score: {lr_f1:.4f} \")\n",
        "\n",
        "\n",
        "\n",
        "###\n",
        "# Your answer ENDS HERE\n",
        "###"
      ]
    },
    {
      "cell_type": "markdown",
      "metadata": {
        "collapsed": true,
        "id": "yZQONpuMg95_"
      },
      "source": [
        "### Question 8 (1.0 mark)\n",
        "\n",
        "**Instructions**: Print the most important features and their weights for each class for the two classifiers.\n",
        "\n",
        "\n",
        "**Task**: For each of the classifiers (Logistic Regression and Naive Bayes) you've built in the previous question, print out the top-20 features (words) with the highest weight for each class (countries).\n",
        "\n",
        "An example output:\n",
        "```\n",
        "Classifier = Logistic Regression\n",
        "\n",
        "Country = au\n",
        "aaa (0.999) bbb (0.888) ccc (0.777) ...\n",
        "\n",
        "Country = ca\n",
        "aaa (0.999) bbb (0.888) ccc (0.777) ...\n",
        "\n",
        "Classifier = Naive Bayes\n",
        "\n",
        "Country = au\n",
        "aaa (-1.0) bbb (-2.0) ccc (-3.0) ...\n",
        "\n",
        "Country = ca\n",
        "aaa (-1.0) bbb (-2.0) ccc (-3.0) ...\n",
        "```\n",
        "\n",
        "Have a look at the output, and see if you notice any trend/pattern in the words for each country."
      ]
    },
    {
      "cell_type": "code",
      "execution_count": 63,
      "metadata": {
        "id": "wSpfckHKg96A",
        "colab": {
          "base_uri": "https://localhost:8080/"
        },
        "outputId": "b07e72dc-0c9b-43a3-df8b-0ee58665360a"
      },
      "outputs": [
        {
          "output_type": "stream",
          "name": "stdout",
          "text": [
            "NAIVE BAYES top feature for each class: \n",
            "\n",
            "\n",
            "Top 20 features for country code 'au':\n",
            "one (-5.819) | i'm (-5.986) | australia (-6.187) | love (-6.187) | great (-6.187) | melbourne (-6.187) | come (-6.438) | little (-6.438) | something (-6.438) | good (-6.438) | direction (-6.438) | #mtvhottest (-6.438) | finished (-6.774) | visit (-6.774) | away (-6.774) | today (-6.774) | australian (-6.774) | christmas (-6.774) | victoria (-6.774) | keep (-6.774) | \n",
            "\n",
            "Top 20 features for country code 'ca':\n",
            "maybe (-5.994) | right (-6.194) | great (-6.194) | good (-6.194) | got (-6.194) | one (-6.446) | thanks (-6.446) | wait (-6.446) | first (-6.446) | come (-6.446) | new (-6.446) | get (-6.446) | next (-6.446) | bed (-6.446) | going (-6.446) | like (-6.446) | pair (-6.782) | dun (-6.782) | happen (-6.782) | life (-6.782) | \n",
            "\n",
            "Top 20 features for country code 'de':\n",
            "love (-6.038) | i'm (-6.289) | posted (-6.289) | photo (-6.289) | photodesign (-6.626) | enough (-6.626) | day (-6.626) | https://t.co/dpfrjtdarl (-6.626) | year (-6.626) | medinger (-6.626) | #mkmedi (-6.626) | markus (-6.626) | miss (-6.626) | picture (-6.626) | kernen (-6.626) | could (-6.626) | krefeld (-6.626) | remstal (-6.626) | week (-6.626) | germany (-6.626) | \n",
            "\n",
            "Top 20 features for country code 'gb':\n",
            "x (-5.790) | got (-5.957) | hope (-5.957) | know (-6.157) | well (-6.157) | plz (-6.409) | new (-6.409) | that's (-6.409) | fear (-6.409) | yeah (-6.409) | right (-6.409) | i'm (-6.409) | beautiful (-6.409) | beat (-6.409) | haha (-6.409) | people (-6.745) | catch (-6.745) | sure (-6.745) | tweet (-6.745) | always (-6.745) | \n",
            "\n",
            "Top 20 features for country code 'id':\n",
            "pic (-5.290) | rt (-6.137) | i'm (-6.137) | others (-6.389) | hiks (-6.389) | cafe (-6.389) | ini (-6.389) | wkwk (-6.725) | malang (-6.725) | #hollywoodmusicawards (-6.725) | world (-6.725) | happy (-6.725) | flat (-6.725) | bieber (-6.725) | posted (-6.725) | sore (-6.725) | lasagna (-6.725) | hehhe (-6.725) | gulung (-6.725) | karaoke (-6.725) | \n",
            "\n",
            "Top 20 features for country code 'my':\n",
            "i'm (-4.904) | selangor (-5.630) | jaya (-5.940) | ni (-6.140) | petaling (-6.140) | take (-6.140) | w (-6.140) | johor (-6.392) | best (-6.392) | others (-6.392) | hahaha (-6.392) | care (-6.392) | haha (-6.392) | nk (-6.728) | lumpur (-6.728) | way (-6.728) | see (-6.728) | cheras (-6.728) | aku (-6.728) | subang (-6.728) | \n",
            "\n",
            "Top 20 features for country code 'ph':\n",
            "manila (-5.780) | please (-5.780) | follow (-5.947) | make (-5.947) | i'm (-5.947) | #hometomama (-6.148) | @justinbieber (-6.148) | city (-6.148) | im (-6.148) | true (-6.148) | others (-6.148) | @iam3l (-6.148) | w (-6.148) | dreams (-6.148) | come (-6.148) | like (-6.148) | lol (-6.399) | yesterday (-6.399) | metro (-6.399) | sm (-6.399) | \n",
            "\n",
            "Top 20 features for country code 'sg':\n",
            "singapore (-5.628) | work (-6.138) | i'm (-6.138) | w (-6.138) | see (-6.390) | resort (-6.390) | pic (-6.390) | thanks (-6.390) | others (-6.390) | park (-6.390) | batam (-6.390) | studios (-6.726) | say (-6.726) | photo (-6.726) | make (-6.726) | universal (-6.726) | posted (-6.726) | #hungry (-6.726) | @tutiandonlyher (-6.726) | nice (-6.726) | \n",
            "\n",
            "Top 20 features for country code 'us':\n",
            "get (-5.963) | going (-5.963) | ever (-6.164) | i'm (-6.164) | like (-6.164) | still (-6.415) | can't (-6.415) | day (-6.415) | hopefully (-6.415) | go (-6.415) | lol (-6.415) | time (-6.415) | new (-6.415) | even (-6.415) | home (-6.415) | feel (-6.415) | miss (-6.415) | beer (-6.415) | look (-6.751) | @tushposhboss (-6.751) | \n",
            "\n",
            "Top 20 features for country code 'za':\n",
            "good (-5.966) | love (-5.966) | u (-5.966) | today (-6.166) | happy (-6.166) | man (-6.166) | everything (-6.418) | de (-6.418) | b (-6.418) | time (-6.418) | feel (-6.418) | south (-6.754) | year (-6.754) | i'm (-6.754) | lol (-6.754) | making (-6.754) | see (-6.754) | next (-6.754) | god (-6.754) | moments (-6.754) | \n",
            "\n",
            "------\n",
            "\n",
            "LOGISTIC REGRESSION top feature for each class: \n",
            "\n",
            "\n",
            "Top 20 features for country code 'au':\n",
            "australia (1.118) | little (0.804) | one (0.798) | melbourne (0.793) | australian (0.751) | #mtvhottest (0.747) | finished (0.697) | #sunrise (0.684) | away (0.650) | forward (0.626) | spammed (0.619) | instagrams (0.619) | @dasheryoung (0.606) | lachie (0.606) | song (0.601) | shows (0.593) | @whennboys (0.585) | @jackgilinsky (0.585) | @thomjrob (0.582) | #melbourne (0.582) | \n",
            "\n",
            "Top 20 features for country code 'ca':\n",
            "bed (0.952) | happen (0.903) | follow (0.794) | right (0.782) | let's (0.767) | next (0.751) | really (0.736) | works (0.685) | gonna (0.669) | movies (0.666) | found (0.650) | got (0.633) | maybe (0.628) | @lola9793 (0.606) | @aliclarke (0.592) | kids (0.588) | actually (0.582) | joking (0.581) | side (0.566) | think (0.560) | \n",
            "\n",
            "Top 20 features for country code 'de':\n",
            "love (0.846) | krefeld (0.783) | happened (0.768) | @fabiomarabini (0.768) | https://t.co/df7ficsci3 (0.735) | roseninsel (0.735) | germany (0.710) | bad (0.697) | https://t.co/brkwmsvzrb (0.665) | gauting (0.665) | hyde (0.665) | #utopia (0.665) | jessica (0.665) | #truegrip (0.665) | @selenagomez (0.641) | http://t.co/airtaqn48v (0.641) | mkmedi (0.614) | remstal (0.614) | kernen (0.614) | photodesign (0.614) | \n",
            "\n",
            "Top 20 features for country code 'gb':\n",
            "x (1.332) | well (1.027) | plz (0.785) | always (0.763) | that's (0.758) | got (0.727) | tweet (0.722) | know (0.720) | golf (0.692) | seeing (0.681) | yeah (0.673) | prom (0.661) | http://t.co/w0tjrah9y7 (0.661) | this'll (0.661) | interesting (0.661) | #ff (0.652) | wbu (0.638) | beautiful (0.621) | hope (0.610) | @ryan_hildyard (0.600) | \n",
            "\n",
            "Top 20 features for country code 'id':\n",
            "pic (1.668) | selamat (0.818) | overboard (0.772) | world (0.761) | karaoke (0.758) | cafe (0.731) | ini (0.726) | http://t.co/jjcyszki2y (0.672) | rt (0.652) | sore (0.645) | https://t.co/3sxyzl4crq (0.634) | @farid_nugrahaa (0.634) | http://t.co/wyldhnlap4 (0.634) | @smandatas_261 (0.634) | pranciska (0.634) | followback (0.634) | flat (0.561) | malang (0.550) | http://t.co/qciitw5ihf (0.547) | #eeeeeehhh (0.547) | \n",
            "\n",
            "Top 20 features for country code 'my':\n",
            "i'm (1.025) | selangor (1.002) | ni (0.898) | johor (0.864) | kl (0.806) | care (0.795) | take (0.782) | congrats (0.743) | @juztakumi (0.711) | @siti_nurbalqish (0.700) | @12_maiii (0.694) | smpai (0.666) | hahaha (0.663) | @poemporns (0.656) | http://t.co/hf8harhgbu (0.656) | haha (0.638) | lagi (0.624) | @aqmarnaimi_ (0.617) | hunny (0.617) | best (0.614) | \n",
            "\n",
            "Top 20 features for country code 'ph':\n",
            "@home (0.885) | @qweeesha (0.876) | welcome (0.869) | :d (0.857) | manila (0.842) | please (0.837) | baby (0.795) | im (0.685) | @veronicavispo (0.648) | @fuccyoudis2o9 (0.648) | thankyou (0.648) | #sorrynotsorry (0.648) | evening (0.640) | lol (0.622) | http://t.co/rqesuepr0f (0.622) | playing (0.621) | kg (0.600) | http://t.co/fznyhrrj (0.600) | dye (0.586) | fairlane (0.584) | \n",
            "\n",
            "Top 20 features for country code 'sg':\n",
            "singapore (1.735) | @tutiandonlyher (1.026) | resort (0.800) | pic (0.738) | work (0.737) | w (0.715) | batam (0.697) | https://t.co/potgoiy5rv (0.679) | https://t.co/g0022mcf4u (0.670) | @sbuxindonesia (0.670) | watching (0.663) | others (0.660) | thanks (0.650) | yeap (0.632) | @stylomiloteen (0.632) | park (0.615) | blk (0.613) | hotel (0.605) | fitness (0.595) | https://t.co/rwqvgoxm26 (0.592) | \n",
            "\n",
            "Top 20 features for country code 'us':\n",
            "can't (0.921) | ever (0.891) | going (0.854) | hopefully (0.785) | stay (0.733) | beer (0.726) | freakin (0.703) | home (0.694) | even (0.687) | get (0.683) | feel (0.676) | @ansleytolbert (0.665) | @savannerdd (0.665) | girl (0.663) | craving (0.662) | chipotle (0.662) | wanna (0.627) | still (0.616) | sheets (0.604) | texas (0.595) | \n",
            "\n",
            "Top 20 features for country code 'za':\n",
            "man (1.351) | https://t.co/igzld1xpw2 (0.778) | feel (0.774) | good (0.755) | close (0.737) | de (0.705) | https://t.co/2fsyuigben (0.702) | u (0.669) | @zimtweets (0.658) | akubabuze (0.658) | today (0.630) | love (0.620) | gig (0.611) | back (0.607) | @enyawmm (0.606) | sir (0.606) | yebo (0.604) | everything (0.597) | homesweethomes (0.588) | https://t.co/wwshen9ovq (0.588) | \n"
          ]
        }
      ],
      "source": [
        "###\n",
        "# Your answer BEGINS HERE\n",
        "###\n",
        "\n",
        "country_codes = sorted(set(y_processed))\n",
        "n=20 \n",
        "\n",
        "print(\"NAIVE BAYES top feature for each class: \\n\")\n",
        "\n",
        "for i, country_code in enumerate(country_codes):\n",
        "    ans = \"\"\n",
        "    print(f\"\\nTop {n} features for country code '{country_code}':\")\n",
        "    top_features = nb_model.feature_log_prob_[i].argsort()[::-1][:n]\n",
        "    top_features_names = [vectorizer.feature_names_[i] for i in top_features]\n",
        "    \n",
        "    top_weights = nb_model.feature_log_prob_[i][top_features]\n",
        "    \n",
        "    for feature, weight in zip(top_features_names, top_weights):\n",
        "        ans += f\"{feature} ({weight:.3f}) | \"\n",
        "    print(ans)\n",
        "\n",
        "print(\"\\n------\\n\")\n",
        "\n",
        "print(\"LOGISTIC REGRESSION top feature for each class: \\n\")\n",
        "\n",
        "for i, country_code in enumerate(country_codes):\n",
        "    ans = \"\"\n",
        "    print(f\"\\nTop {n} features for country code '{country_code}':\")\n",
        "    top_features = lr_model.coef_[i].argsort()[::-1][:n]\n",
        "    top_features_names = [vectorizer.feature_names_[i] for i in top_features]\n",
        "    \n",
        "    top_weights = lr_model.coef_[i][top_features]\n",
        "    \n",
        "    for feature, weight in zip(top_features_names, top_weights):\n",
        "        ans += f\"{feature} ({weight:.3f}) | \"\n",
        "    print(ans)\n",
        "\n",
        "\n",
        "# After studying the output, it is apparent that for many of the countries(specified by their country code),\n",
        "# we see words which are locally used more in that specific country.\n",
        "# For example for 'au' we see \"australia\", \"melbourne\", for \"ph\" we see \"maniall\", for \"sg\" we see \"singapore\", and so on...\n",
        "\n",
        "###\n",
        "# Your answer ENDS HERE\n",
        "###"
      ]
    }
  ],
  "metadata": {
    "kernelspec": {
      "display_name": "Python 3 (ipykernel)",
      "language": "python",
      "name": "python3"
    },
    "language_info": {
      "codemirror_mode": {
        "name": "ipython",
        "version": 3
      },
      "file_extension": ".py",
      "mimetype": "text/x-python",
      "name": "python",
      "nbconvert_exporter": "python",
      "pygments_lexer": "ipython3",
      "version": "3.9.13"
    },
    "colab": {
      "provenance": []
    }
  },
  "nbformat": 4,
  "nbformat_minor": 0
}