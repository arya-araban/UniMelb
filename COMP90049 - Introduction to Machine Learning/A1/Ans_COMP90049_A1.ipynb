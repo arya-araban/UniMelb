{
  "cells": [
    {
      "cell_type": "markdown",
      "id": "766bbbe5-adcc-403b-b220-e400c21cb7fa",
      "metadata": {
        "id": "766bbbe5-adcc-403b-b220-e400c21cb7fa"
      },
      "source": [
        "# Assignment 1: Decision Trees (10 marks)\n",
        "\n",
        "Student Name: `Arya Araban`\n",
        "\n",
        "Student ID: `1439683`\n",
        "\n",
        "## General info\n",
        "\n",
        "<b>Due date</b>: \n",
        "\n",
        "<b>Submission method</b>: Canvas submission\n",
        "\n",
        "<b>Submission materials</b>: completed copy of this iPython notebook\n",
        "\n",
        "<b>Late submissions</b>: -10% per day up to 5 days (both weekdays and weekends count)\n",
        "<ul>\n",
        "    <li>one day late, -1.0 ;</li>\n",
        "    <li>two days late, -2.0;</li>\n",
        "    <li>three days late, -3.0;</li>\n",
        "    <li>four days late, -4.0;</li>\n",
        "    <li>five days late, -5.0;</li>\n",
        "</ul>\n",
        "\n",
        "<b>Marks</b>: This assignment will be marked out of 10, and make up 10% of your overall mark for this subject.\n",
        "\n",
        "<b>Materials</b>: See <a href=\"https://canvas.lms.unimelb.edu.au/courses/151131/pages/python-and-jupyter-notebooks?module_item_id=4532241\">[Using Jupyter Notebook and Python page]</a> on Canvas (under Modules> Coding Resources) for information on the basic setup required for this class, including an iPython notebook viewer and the python packages `numpy` and `pprint`. You can use any Python built-in packages, but do not use any other 3rd party packages; if your iPython notebook doesn't run on the marker's machine, you will lose marks. <b> You should use Python 3</b>.  \n",
        "\n",
        "\n",
        "<b>Evaluation</b>: Your iPython notebook should run end-to-end without any errors in a reasonable amount of time, and you must follow all instructions provided below, including specific implementation requirements and instructions for what needs to be printed (please avoid printing output we don't ask for). You should edit the sections below where requested, but leave the rest of the code as is. You should leave the output from running your code in the iPython notebook you submit, to assist with marking. The amount each section is worth is given in parenthesis after the instructions. \n",
        "\n",
        "You will be marked not only on the correctness of your methods and answers.\n",
        "\n",
        "<b>Updates</b>: Any major changes to the assignment will be announced via Canvas. Minor changes and clarifications will be announced on Canvas> Assignments>A ssignment1. We recommend you check it regularly.\n",
        "\n",
        "<b>Academic misconduct</b>: This assignment is an individual task, and so reuse of code or other instances of clear influence will be considered cheating. Please check the <a href=\"https://canvas.lms.unimelb.edu.au/courses/124196/modules#module_662096\">CIS Academic Honesty training</a> for more information. We will be checking submissions for originality and will invoke the University’s <a href=\"http://academichonesty.unimelb.edu.au/policy.html\">Academic Misconduct policy</a> where collusion or plagiarism are deemed to have taken place. Content produced by an AI (including, but not limited to ChatGPT) is not your own work, and submitting such content will be treated as a case of academic misconduct, in line with the <a href=\"https://academicintegrity.unimelb.edu.au/plagiarism-and-collusion/artificial-intelligence-tools-and-technologies\"> University's policy</a>.\n",
        "\n",
        "**IMPORTANT**\n",
        "\n",
        "Please carefully read and fill out the <b>Authorship Declaration</b> form at the bottom of the page. Failure to fill out this form results in the following deductions: \n",
        "<UL TYPE=”square”>\n",
        "<LI>Missing Authorship Declaration at the bottom of the page, -1.0\n",
        "<LI>Incomplete or unsigned Authorship Declaration at the bottom of the page, -0.5\n",
        "</UL>"
      ]
    },
    {
      "cell_type": "markdown",
      "id": "3d01e21e-727c-4b91-8bb9-0e98bf7f085d",
      "metadata": {
        "id": "3d01e21e-727c-4b91-8bb9-0e98bf7f085d"
      },
      "source": [
        "## Overview\n",
        "\n",
        "In this assignment, you will apply the Decision Tree (DT) classification algorithm to a real-world machine learning dataset. Specifically, you will predict the type of a given bridge using a diverse set of features, including its material, length, number of lanes, and other structural properties. We use a modified version of the publicly available <a href=\"https://archive.ics.uci.edu/ml/datasets/Pittsburgh+Bridges\"> Pittsburgh Bridges Data Set</a>. (click the link for more information on all features and values).\n",
        "\n",
        "In the **Data Preparation** section, you will read the dataset into a data frame and perform data preprocessing (Q1.1). You will also need to develop code to convert the features to numeric values (Q1.2). Then, the data will be divided into two parts: Train and Test.\n",
        "\n",
        "In the **Model Training** section, we provide you with a number of helper functions that will be incorporated into the main Decision Tree function (Q2-8). Your task is to read and use these functions and explain the exact role of each helper function in developing a Decision Tree. You must provide a meaningful and descriptive name for each function that matches its specific role in training a Decision Tree model (e.g., count_labels, calculate_entropy, etc.).\n",
        "\n",
        "You can observe the use of each of these functions in the Main Decision Tree Algorithm, which you can use to print your trained tree. We have also provided the code for navigating a trained tree and using it to predict the labels for the test dataset.\n",
        "\n",
        "In the **Classification and Evaluation** section, you will test and evaluate your model. You will implement functions to calculate the accuracy of the model predictions (Q9). Finally, you will train a tree and use it to predict the labels for the test set and see the accuracy of your model (Q10).\n",
        "\n",
        "Q11 concludes with analytical questions in which you will critically analyze the behavior of your decision tree in different situations.\n"
      ]
    },
    {
      "cell_type": "code",
      "source": [
        "from google.colab import drive\n",
        "drive.mount('/content/drive')"
      ],
      "metadata": {
        "colab": {
          "base_uri": "https://localhost:8080/"
        },
        "id": "S2KLAXmnOsdQ",
        "outputId": "c5714502-50bf-48e2-a657-388ac2541cd9"
      },
      "id": "S2KLAXmnOsdQ",
      "execution_count": 20,
      "outputs": [
        {
          "output_type": "stream",
          "name": "stdout",
          "text": [
            "Drive already mounted at /content/drive; to attempt to forcibly remount, call drive.mount(\"/content/drive\", force_remount=True).\n"
          ]
        }
      ]
    },
    {
      "cell_type": "code",
      "execution_count": 21,
      "id": "6c8b6c34-1376-4b46-96fb-91cd09f03767",
      "metadata": {
        "id": "6c8b6c34-1376-4b46-96fb-91cd09f03767"
      },
      "outputs": [],
      "source": [
        "import numpy as np\n",
        "import pandas as pd\n",
        "\n",
        "from collections import Counter\n",
        "from pprint import pprint"
      ]
    },
    {
      "cell_type": "markdown",
      "id": "6c063576-3b53-4516-a4d3-c3caddb38051",
      "metadata": {
        "id": "6c063576-3b53-4516-a4d3-c3caddb38051"
      },
      "source": [
        "## Data Preparation [1 mark]\n",
        "\n",
        "The Bridges dataset consists of 108 bridges. Each bridge is defined by 11 features and 1 label. These features are `Index`, `River`, `Erected`, `Purpose`, `Length`, `Lanes`, `Clear`, `T-OR-D`, `Material`, `Span` and `Rel-L`. Note that the first feature is only an index and not useful as a feature for classification. \n",
        "\n",
        "\n",
        "#### Q1.1 Reading the input file and data preprocessing (0.25 marks)\n",
        "\n",
        "This code should read the input file into a `pandas` dataframe. You should remove the first feature because it is only an id and perform some preprocessing. In the preprocessing phase you are going to replace all missing values (`?`) with the most frequent (most common) value of that feature. "
      ]
    },
    {
      "cell_type": "code",
      "execution_count": 22,
      "id": "2fec0ced-9088-41d1-b59a-fa5a4d16c16c",
      "metadata": {
        "colab": {
          "base_uri": "https://localhost:8080/"
        },
        "id": "2fec0ced-9088-41d1-b59a-fa5a4d16c16c",
        "outputId": "bdc26bce-6909-4209-f622-5a583885be4a"
      },
      "outputs": [
        {
          "output_type": "stream",
          "name": "stdout",
          "text": [
            "  River Erected   Purpose  Length Lanes Clear   T-OR-D Material    Span Rel-L  \\\n",
            "0     M  CRAFTS   HIGHWAY  MEDIUM     2     N  THROUGH     WOOD   SHORT     S   \n",
            "1     A  CRAFTS  AQUEDUCT  MEDIUM     1     N     DECK     WOOD  MEDIUM     S   \n",
            "2     O  MODERN   HIGHWAY  MEDIUM     2     G  THROUGH    STEEL  MEDIUM     F   \n",
            "3     O  MATURE   HIGHWAY  MEDIUM     2     G  THROUGH    STEEL    LONG   S-F   \n",
            "4     O  MODERN   HIGHWAY  MEDIUM     2     G  THROUGH    STEEL    LONG     F   \n",
            "\n",
            "      Label  \n",
            "0      WOOD  \n",
            "1      WOOD  \n",
            "2      ARCH  \n",
            "3  CANTILEV  \n",
            "4    CONT-T  \n"
          ]
        }
      ],
      "source": [
        "# read the input file\n",
        "df = pd.read_csv(\"drive/MyDrive/datasets/bridges.data.csv\")\n",
        "\n",
        "\n",
        "############ YOUR CODE HERE ##############\n",
        "\n",
        "# First, drop the index column\n",
        "\n",
        "df.drop('Index', axis=1, inplace = True)\n",
        "\n",
        "# Second, replace all missing values with the most frequet value of the features\n",
        "\n",
        "for col_name in df.columns:\n",
        "    mode = df[col_name].mode()[0]  # find the most frequent value \n",
        "    df[col_name].replace('?',mode, inplace=True)  # replace '?' values with frequent value\n",
        "    \n",
        "############## TEST IT YOURSELF ###############\n",
        "assert df['Length'][0] == 'MEDIUM'\n",
        "assert df['Lanes'][24] == '2'\n",
        "\n",
        "print(df.head())"
      ]
    },
    {
      "cell_type": "markdown",
      "id": "17e96191-5b43-41d6-8e9b-10204d044967",
      "metadata": {
        "id": "17e96191-5b43-41d6-8e9b-10204d044967"
      },
      "source": [
        "#### Q1.2 Convert Categorical features to Numeric (0.5 marks)\n",
        "In order to simplify our calculations we are going to transform the features (columns) with categorical values to numbers. For example, for the feature `River` there are 3 possible values: 'A', 'M' and '0'. \n",
        "\n",
        "**NOTE:** Sort them alphabatically and assign sequencial integer values starting from 0. For `River` we will have: 'A' = 0, 'M' = 1, 'O' = 2.\n"
      ]
    },
    {
      "cell_type": "code",
      "execution_count": 23,
      "id": "2073f58a-6c33-46e8-ac9d-557af72660e0",
      "metadata": {
        "id": "2073f58a-6c33-46e8-ac9d-557af72660e0"
      },
      "outputs": [],
      "source": [
        "from pandas.core.dtypes.cast import dict_compat\n",
        "############ YOUR CODE HERE ##############\n",
        "\n",
        "replace_dict = {}\n",
        "for col_name in df.columns:\n",
        "    categories = sorted(df[col_name].unique())  \n",
        "    replace_dict[col_name] = {cat: i for i, cat in enumerate(categories)}  \n",
        "\n",
        "replace_dict.pop('Label') # because we don't want the Label to be Numeric.\n",
        "\n",
        "df = df.replace(replace_dict) # replace everything in the dataframe with the obtained dictionary. \n",
        "##########################################\n",
        "\n"
      ]
    },
    {
      "cell_type": "code",
      "source": [
        "df"
      ],
      "metadata": {
        "colab": {
          "base_uri": "https://localhost:8080/",
          "height": 423
        },
        "id": "WLk4rRWFYdU1",
        "outputId": "79a09f89-f46f-49e8-e3db-5fb0f2f216f3"
      },
      "id": "WLk4rRWFYdU1",
      "execution_count": 24,
      "outputs": [
        {
          "output_type": "execute_result",
          "data": {
            "text/plain": [
              "     River  Erected  Purpose  Length  Lanes  Clear  T-OR-D  Material  Span  \\\n",
              "0        1        0        1       1      1      1       1         2     2   \n",
              "1        0        0        0       1      0      1       0         2     1   \n",
              "2        2        3        1       1      1      0       1         1     1   \n",
              "3        2        2        1       1      1      0       1         1     0   \n",
              "4        2        3        1       1      1      0       1         1     0   \n",
              "..     ...      ...      ...     ...    ...    ...     ...       ...   ...   \n",
              "103      1        2        2       1      1      0       1         1     1   \n",
              "104      1        3        2       1      1      0       1         1     1   \n",
              "105      1        3        1       1      1      0       1         1     1   \n",
              "106      1        3        1       2      2      0       1         1     1   \n",
              "107      1        3        1       1      1      0       1         1     1   \n",
              "\n",
              "     Rel-L     Label  \n",
              "0        1      WOOD  \n",
              "1        1      WOOD  \n",
              "2        0      ARCH  \n",
              "3        2  CANTILEV  \n",
              "4        0    CONT-T  \n",
              "..     ...       ...  \n",
              "103      1  SIMPLE-T  \n",
              "104      0  SIMPLE-T  \n",
              "105      1      ARCH  \n",
              "106      0    CONT-T  \n",
              "107      2  SIMPLE-T  \n",
              "\n",
              "[108 rows x 11 columns]"
            ],
            "text/html": [
              "\n",
              "  <div id=\"df-79fb17ed-8da6-4293-83f3-4961e33113cc\">\n",
              "    <div class=\"colab-df-container\">\n",
              "      <div>\n",
              "<style scoped>\n",
              "    .dataframe tbody tr th:only-of-type {\n",
              "        vertical-align: middle;\n",
              "    }\n",
              "\n",
              "    .dataframe tbody tr th {\n",
              "        vertical-align: top;\n",
              "    }\n",
              "\n",
              "    .dataframe thead th {\n",
              "        text-align: right;\n",
              "    }\n",
              "</style>\n",
              "<table border=\"1\" class=\"dataframe\">\n",
              "  <thead>\n",
              "    <tr style=\"text-align: right;\">\n",
              "      <th></th>\n",
              "      <th>River</th>\n",
              "      <th>Erected</th>\n",
              "      <th>Purpose</th>\n",
              "      <th>Length</th>\n",
              "      <th>Lanes</th>\n",
              "      <th>Clear</th>\n",
              "      <th>T-OR-D</th>\n",
              "      <th>Material</th>\n",
              "      <th>Span</th>\n",
              "      <th>Rel-L</th>\n",
              "      <th>Label</th>\n",
              "    </tr>\n",
              "  </thead>\n",
              "  <tbody>\n",
              "    <tr>\n",
              "      <th>0</th>\n",
              "      <td>1</td>\n",
              "      <td>0</td>\n",
              "      <td>1</td>\n",
              "      <td>1</td>\n",
              "      <td>1</td>\n",
              "      <td>1</td>\n",
              "      <td>1</td>\n",
              "      <td>2</td>\n",
              "      <td>2</td>\n",
              "      <td>1</td>\n",
              "      <td>WOOD</td>\n",
              "    </tr>\n",
              "    <tr>\n",
              "      <th>1</th>\n",
              "      <td>0</td>\n",
              "      <td>0</td>\n",
              "      <td>0</td>\n",
              "      <td>1</td>\n",
              "      <td>0</td>\n",
              "      <td>1</td>\n",
              "      <td>0</td>\n",
              "      <td>2</td>\n",
              "      <td>1</td>\n",
              "      <td>1</td>\n",
              "      <td>WOOD</td>\n",
              "    </tr>\n",
              "    <tr>\n",
              "      <th>2</th>\n",
              "      <td>2</td>\n",
              "      <td>3</td>\n",
              "      <td>1</td>\n",
              "      <td>1</td>\n",
              "      <td>1</td>\n",
              "      <td>0</td>\n",
              "      <td>1</td>\n",
              "      <td>1</td>\n",
              "      <td>1</td>\n",
              "      <td>0</td>\n",
              "      <td>ARCH</td>\n",
              "    </tr>\n",
              "    <tr>\n",
              "      <th>3</th>\n",
              "      <td>2</td>\n",
              "      <td>2</td>\n",
              "      <td>1</td>\n",
              "      <td>1</td>\n",
              "      <td>1</td>\n",
              "      <td>0</td>\n",
              "      <td>1</td>\n",
              "      <td>1</td>\n",
              "      <td>0</td>\n",
              "      <td>2</td>\n",
              "      <td>CANTILEV</td>\n",
              "    </tr>\n",
              "    <tr>\n",
              "      <th>4</th>\n",
              "      <td>2</td>\n",
              "      <td>3</td>\n",
              "      <td>1</td>\n",
              "      <td>1</td>\n",
              "      <td>1</td>\n",
              "      <td>0</td>\n",
              "      <td>1</td>\n",
              "      <td>1</td>\n",
              "      <td>0</td>\n",
              "      <td>0</td>\n",
              "      <td>CONT-T</td>\n",
              "    </tr>\n",
              "    <tr>\n",
              "      <th>...</th>\n",
              "      <td>...</td>\n",
              "      <td>...</td>\n",
              "      <td>...</td>\n",
              "      <td>...</td>\n",
              "      <td>...</td>\n",
              "      <td>...</td>\n",
              "      <td>...</td>\n",
              "      <td>...</td>\n",
              "      <td>...</td>\n",
              "      <td>...</td>\n",
              "      <td>...</td>\n",
              "    </tr>\n",
              "    <tr>\n",
              "      <th>103</th>\n",
              "      <td>1</td>\n",
              "      <td>2</td>\n",
              "      <td>2</td>\n",
              "      <td>1</td>\n",
              "      <td>1</td>\n",
              "      <td>0</td>\n",
              "      <td>1</td>\n",
              "      <td>1</td>\n",
              "      <td>1</td>\n",
              "      <td>1</td>\n",
              "      <td>SIMPLE-T</td>\n",
              "    </tr>\n",
              "    <tr>\n",
              "      <th>104</th>\n",
              "      <td>1</td>\n",
              "      <td>3</td>\n",
              "      <td>2</td>\n",
              "      <td>1</td>\n",
              "      <td>1</td>\n",
              "      <td>0</td>\n",
              "      <td>1</td>\n",
              "      <td>1</td>\n",
              "      <td>1</td>\n",
              "      <td>0</td>\n",
              "      <td>SIMPLE-T</td>\n",
              "    </tr>\n",
              "    <tr>\n",
              "      <th>105</th>\n",
              "      <td>1</td>\n",
              "      <td>3</td>\n",
              "      <td>1</td>\n",
              "      <td>1</td>\n",
              "      <td>1</td>\n",
              "      <td>0</td>\n",
              "      <td>1</td>\n",
              "      <td>1</td>\n",
              "      <td>1</td>\n",
              "      <td>1</td>\n",
              "      <td>ARCH</td>\n",
              "    </tr>\n",
              "    <tr>\n",
              "      <th>106</th>\n",
              "      <td>1</td>\n",
              "      <td>3</td>\n",
              "      <td>1</td>\n",
              "      <td>2</td>\n",
              "      <td>2</td>\n",
              "      <td>0</td>\n",
              "      <td>1</td>\n",
              "      <td>1</td>\n",
              "      <td>1</td>\n",
              "      <td>0</td>\n",
              "      <td>CONT-T</td>\n",
              "    </tr>\n",
              "    <tr>\n",
              "      <th>107</th>\n",
              "      <td>1</td>\n",
              "      <td>3</td>\n",
              "      <td>1</td>\n",
              "      <td>1</td>\n",
              "      <td>1</td>\n",
              "      <td>0</td>\n",
              "      <td>1</td>\n",
              "      <td>1</td>\n",
              "      <td>1</td>\n",
              "      <td>2</td>\n",
              "      <td>SIMPLE-T</td>\n",
              "    </tr>\n",
              "  </tbody>\n",
              "</table>\n",
              "<p>108 rows × 11 columns</p>\n",
              "</div>\n",
              "      <button class=\"colab-df-convert\" onclick=\"convertToInteractive('df-79fb17ed-8da6-4293-83f3-4961e33113cc')\"\n",
              "              title=\"Convert this dataframe to an interactive table.\"\n",
              "              style=\"display:none;\">\n",
              "        \n",
              "  <svg xmlns=\"http://www.w3.org/2000/svg\" height=\"24px\"viewBox=\"0 0 24 24\"\n",
              "       width=\"24px\">\n",
              "    <path d=\"M0 0h24v24H0V0z\" fill=\"none\"/>\n",
              "    <path d=\"M18.56 5.44l.94 2.06.94-2.06 2.06-.94-2.06-.94-.94-2.06-.94 2.06-2.06.94zm-11 1L8.5 8.5l.94-2.06 2.06-.94-2.06-.94L8.5 2.5l-.94 2.06-2.06.94zm10 10l.94 2.06.94-2.06 2.06-.94-2.06-.94-.94-2.06-.94 2.06-2.06.94z\"/><path d=\"M17.41 7.96l-1.37-1.37c-.4-.4-.92-.59-1.43-.59-.52 0-1.04.2-1.43.59L10.3 9.45l-7.72 7.72c-.78.78-.78 2.05 0 2.83L4 21.41c.39.39.9.59 1.41.59.51 0 1.02-.2 1.41-.59l7.78-7.78 2.81-2.81c.8-.78.8-2.07 0-2.86zM5.41 20L4 18.59l7.72-7.72 1.47 1.35L5.41 20z\"/>\n",
              "  </svg>\n",
              "      </button>\n",
              "      \n",
              "  <style>\n",
              "    .colab-df-container {\n",
              "      display:flex;\n",
              "      flex-wrap:wrap;\n",
              "      gap: 12px;\n",
              "    }\n",
              "\n",
              "    .colab-df-convert {\n",
              "      background-color: #E8F0FE;\n",
              "      border: none;\n",
              "      border-radius: 50%;\n",
              "      cursor: pointer;\n",
              "      display: none;\n",
              "      fill: #1967D2;\n",
              "      height: 32px;\n",
              "      padding: 0 0 0 0;\n",
              "      width: 32px;\n",
              "    }\n",
              "\n",
              "    .colab-df-convert:hover {\n",
              "      background-color: #E2EBFA;\n",
              "      box-shadow: 0px 1px 2px rgba(60, 64, 67, 0.3), 0px 1px 3px 1px rgba(60, 64, 67, 0.15);\n",
              "      fill: #174EA6;\n",
              "    }\n",
              "\n",
              "    [theme=dark] .colab-df-convert {\n",
              "      background-color: #3B4455;\n",
              "      fill: #D2E3FC;\n",
              "    }\n",
              "\n",
              "    [theme=dark] .colab-df-convert:hover {\n",
              "      background-color: #434B5C;\n",
              "      box-shadow: 0px 1px 3px 1px rgba(0, 0, 0, 0.15);\n",
              "      filter: drop-shadow(0px 1px 2px rgba(0, 0, 0, 0.3));\n",
              "      fill: #FFFFFF;\n",
              "    }\n",
              "  </style>\n",
              "\n",
              "      <script>\n",
              "        const buttonEl =\n",
              "          document.querySelector('#df-79fb17ed-8da6-4293-83f3-4961e33113cc button.colab-df-convert');\n",
              "        buttonEl.style.display =\n",
              "          google.colab.kernel.accessAllowed ? 'block' : 'none';\n",
              "\n",
              "        async function convertToInteractive(key) {\n",
              "          const element = document.querySelector('#df-79fb17ed-8da6-4293-83f3-4961e33113cc');\n",
              "          const dataTable =\n",
              "            await google.colab.kernel.invokeFunction('convertToInteractive',\n",
              "                                                     [key], {});\n",
              "          if (!dataTable) return;\n",
              "\n",
              "          const docLinkHtml = 'Like what you see? Visit the ' +\n",
              "            '<a target=\"_blank\" href=https://colab.research.google.com/notebooks/data_table.ipynb>data table notebook</a>'\n",
              "            + ' to learn more about interactive tables.';\n",
              "          element.innerHTML = '';\n",
              "          dataTable['output_type'] = 'display_data';\n",
              "          await google.colab.output.renderOutput(dataTable, element);\n",
              "          const docLink = document.createElement('div');\n",
              "          docLink.innerHTML = docLinkHtml;\n",
              "          element.appendChild(docLink);\n",
              "        }\n",
              "      </script>\n",
              "    </div>\n",
              "  </div>\n",
              "  "
            ]
          },
          "metadata": {},
          "execution_count": 24
        }
      ]
    },
    {
      "cell_type": "markdown",
      "id": "1a77221c-1587-4b93-bd4d-19d7dc97ede8",
      "metadata": {
        "id": "1a77221c-1587-4b93-bd4d-19d7dc97ede8"
      },
      "source": [
        "#### Q1.3 Split the data into a Train and Test Set (0.25 marks)\n",
        "\n",
        "The first 85 instances should be used for training and the last 23 instances for testing. NO SHUFFLING IS ALLOWED!"
      ]
    },
    {
      "cell_type": "code",
      "execution_count": 25,
      "id": "fe01b801-a6d4-447b-811e-4517e7e7e0c5",
      "metadata": {
        "id": "fe01b801-a6d4-447b-811e-4517e7e7e0c5"
      },
      "outputs": [],
      "source": [
        "# the first 85 instances should be used for training and the last 23 instances for testing\n",
        "# Don't shuffle the data!\n",
        "split_on = 85\n",
        "\n",
        "train_df = df.iloc[:split_on,:]\n",
        "test_df = df.iloc[split_on:,:]\n",
        "\n",
        "assert(len(train_df)==85)\n",
        "assert(len(test_df)==23)"
      ]
    },
    {
      "cell_type": "code",
      "source": [
        "train_df"
      ],
      "metadata": {
        "colab": {
          "base_uri": "https://localhost:8080/",
          "height": 423
        },
        "id": "nf0Rj-Yrw4Xt",
        "outputId": "9f297f85-7a0a-425f-8514-403981a344f9"
      },
      "id": "nf0Rj-Yrw4Xt",
      "execution_count": 26,
      "outputs": [
        {
          "output_type": "execute_result",
          "data": {
            "text/plain": [
              "    River  Erected  Purpose  Length  Lanes  Clear  T-OR-D  Material  Span  \\\n",
              "0       1        0        1       1      1      1       1         2     2   \n",
              "1       0        0        0       1      0      1       0         2     1   \n",
              "2       2        3        1       1      1      0       1         1     1   \n",
              "3       2        2        1       1      1      0       1         1     0   \n",
              "4       2        3        1       1      1      0       1         1     0   \n",
              "..    ...      ...      ...     ...    ...    ...     ...       ...   ...   \n",
              "80      1        2        1       0      1      0       0         1     1   \n",
              "81      0        2        1       0      2      0       0         1     1   \n",
              "82      1        2        1       1      2      0       1         1     0   \n",
              "83      2        2        1       1      2      1       1         1     0   \n",
              "84      2        2        1       1      2      0       1         1     0   \n",
              "\n",
              "    Rel-L     Label  \n",
              "0       1      WOOD  \n",
              "1       1      WOOD  \n",
              "2       0      ARCH  \n",
              "3       2  CANTILEV  \n",
              "4       0    CONT-T  \n",
              "..    ...       ...  \n",
              "80      2  CANTILEV  \n",
              "81      0      ARCH  \n",
              "82      0    SUSPEN  \n",
              "83      0      ARCH  \n",
              "84      0      ARCH  \n",
              "\n",
              "[85 rows x 11 columns]"
            ],
            "text/html": [
              "\n",
              "  <div id=\"df-0d75e13c-37e0-459f-9bd8-a567e06138ec\">\n",
              "    <div class=\"colab-df-container\">\n",
              "      <div>\n",
              "<style scoped>\n",
              "    .dataframe tbody tr th:only-of-type {\n",
              "        vertical-align: middle;\n",
              "    }\n",
              "\n",
              "    .dataframe tbody tr th {\n",
              "        vertical-align: top;\n",
              "    }\n",
              "\n",
              "    .dataframe thead th {\n",
              "        text-align: right;\n",
              "    }\n",
              "</style>\n",
              "<table border=\"1\" class=\"dataframe\">\n",
              "  <thead>\n",
              "    <tr style=\"text-align: right;\">\n",
              "      <th></th>\n",
              "      <th>River</th>\n",
              "      <th>Erected</th>\n",
              "      <th>Purpose</th>\n",
              "      <th>Length</th>\n",
              "      <th>Lanes</th>\n",
              "      <th>Clear</th>\n",
              "      <th>T-OR-D</th>\n",
              "      <th>Material</th>\n",
              "      <th>Span</th>\n",
              "      <th>Rel-L</th>\n",
              "      <th>Label</th>\n",
              "    </tr>\n",
              "  </thead>\n",
              "  <tbody>\n",
              "    <tr>\n",
              "      <th>0</th>\n",
              "      <td>1</td>\n",
              "      <td>0</td>\n",
              "      <td>1</td>\n",
              "      <td>1</td>\n",
              "      <td>1</td>\n",
              "      <td>1</td>\n",
              "      <td>1</td>\n",
              "      <td>2</td>\n",
              "      <td>2</td>\n",
              "      <td>1</td>\n",
              "      <td>WOOD</td>\n",
              "    </tr>\n",
              "    <tr>\n",
              "      <th>1</th>\n",
              "      <td>0</td>\n",
              "      <td>0</td>\n",
              "      <td>0</td>\n",
              "      <td>1</td>\n",
              "      <td>0</td>\n",
              "      <td>1</td>\n",
              "      <td>0</td>\n",
              "      <td>2</td>\n",
              "      <td>1</td>\n",
              "      <td>1</td>\n",
              "      <td>WOOD</td>\n",
              "    </tr>\n",
              "    <tr>\n",
              "      <th>2</th>\n",
              "      <td>2</td>\n",
              "      <td>3</td>\n",
              "      <td>1</td>\n",
              "      <td>1</td>\n",
              "      <td>1</td>\n",
              "      <td>0</td>\n",
              "      <td>1</td>\n",
              "      <td>1</td>\n",
              "      <td>1</td>\n",
              "      <td>0</td>\n",
              "      <td>ARCH</td>\n",
              "    </tr>\n",
              "    <tr>\n",
              "      <th>3</th>\n",
              "      <td>2</td>\n",
              "      <td>2</td>\n",
              "      <td>1</td>\n",
              "      <td>1</td>\n",
              "      <td>1</td>\n",
              "      <td>0</td>\n",
              "      <td>1</td>\n",
              "      <td>1</td>\n",
              "      <td>0</td>\n",
              "      <td>2</td>\n",
              "      <td>CANTILEV</td>\n",
              "    </tr>\n",
              "    <tr>\n",
              "      <th>4</th>\n",
              "      <td>2</td>\n",
              "      <td>3</td>\n",
              "      <td>1</td>\n",
              "      <td>1</td>\n",
              "      <td>1</td>\n",
              "      <td>0</td>\n",
              "      <td>1</td>\n",
              "      <td>1</td>\n",
              "      <td>0</td>\n",
              "      <td>0</td>\n",
              "      <td>CONT-T</td>\n",
              "    </tr>\n",
              "    <tr>\n",
              "      <th>...</th>\n",
              "      <td>...</td>\n",
              "      <td>...</td>\n",
              "      <td>...</td>\n",
              "      <td>...</td>\n",
              "      <td>...</td>\n",
              "      <td>...</td>\n",
              "      <td>...</td>\n",
              "      <td>...</td>\n",
              "      <td>...</td>\n",
              "      <td>...</td>\n",
              "      <td>...</td>\n",
              "    </tr>\n",
              "    <tr>\n",
              "      <th>80</th>\n",
              "      <td>1</td>\n",
              "      <td>2</td>\n",
              "      <td>1</td>\n",
              "      <td>0</td>\n",
              "      <td>1</td>\n",
              "      <td>0</td>\n",
              "      <td>0</td>\n",
              "      <td>1</td>\n",
              "      <td>1</td>\n",
              "      <td>2</td>\n",
              "      <td>CANTILEV</td>\n",
              "    </tr>\n",
              "    <tr>\n",
              "      <th>81</th>\n",
              "      <td>0</td>\n",
              "      <td>2</td>\n",
              "      <td>1</td>\n",
              "      <td>0</td>\n",
              "      <td>2</td>\n",
              "      <td>0</td>\n",
              "      <td>0</td>\n",
              "      <td>1</td>\n",
              "      <td>1</td>\n",
              "      <td>0</td>\n",
              "      <td>ARCH</td>\n",
              "    </tr>\n",
              "    <tr>\n",
              "      <th>82</th>\n",
              "      <td>1</td>\n",
              "      <td>2</td>\n",
              "      <td>1</td>\n",
              "      <td>1</td>\n",
              "      <td>2</td>\n",
              "      <td>0</td>\n",
              "      <td>1</td>\n",
              "      <td>1</td>\n",
              "      <td>0</td>\n",
              "      <td>0</td>\n",
              "      <td>SUSPEN</td>\n",
              "    </tr>\n",
              "    <tr>\n",
              "      <th>83</th>\n",
              "      <td>2</td>\n",
              "      <td>2</td>\n",
              "      <td>1</td>\n",
              "      <td>1</td>\n",
              "      <td>2</td>\n",
              "      <td>1</td>\n",
              "      <td>1</td>\n",
              "      <td>1</td>\n",
              "      <td>0</td>\n",
              "      <td>0</td>\n",
              "      <td>ARCH</td>\n",
              "    </tr>\n",
              "    <tr>\n",
              "      <th>84</th>\n",
              "      <td>2</td>\n",
              "      <td>2</td>\n",
              "      <td>1</td>\n",
              "      <td>1</td>\n",
              "      <td>2</td>\n",
              "      <td>0</td>\n",
              "      <td>1</td>\n",
              "      <td>1</td>\n",
              "      <td>0</td>\n",
              "      <td>0</td>\n",
              "      <td>ARCH</td>\n",
              "    </tr>\n",
              "  </tbody>\n",
              "</table>\n",
              "<p>85 rows × 11 columns</p>\n",
              "</div>\n",
              "      <button class=\"colab-df-convert\" onclick=\"convertToInteractive('df-0d75e13c-37e0-459f-9bd8-a567e06138ec')\"\n",
              "              title=\"Convert this dataframe to an interactive table.\"\n",
              "              style=\"display:none;\">\n",
              "        \n",
              "  <svg xmlns=\"http://www.w3.org/2000/svg\" height=\"24px\"viewBox=\"0 0 24 24\"\n",
              "       width=\"24px\">\n",
              "    <path d=\"M0 0h24v24H0V0z\" fill=\"none\"/>\n",
              "    <path d=\"M18.56 5.44l.94 2.06.94-2.06 2.06-.94-2.06-.94-.94-2.06-.94 2.06-2.06.94zm-11 1L8.5 8.5l.94-2.06 2.06-.94-2.06-.94L8.5 2.5l-.94 2.06-2.06.94zm10 10l.94 2.06.94-2.06 2.06-.94-2.06-.94-.94-2.06-.94 2.06-2.06.94z\"/><path d=\"M17.41 7.96l-1.37-1.37c-.4-.4-.92-.59-1.43-.59-.52 0-1.04.2-1.43.59L10.3 9.45l-7.72 7.72c-.78.78-.78 2.05 0 2.83L4 21.41c.39.39.9.59 1.41.59.51 0 1.02-.2 1.41-.59l7.78-7.78 2.81-2.81c.8-.78.8-2.07 0-2.86zM5.41 20L4 18.59l7.72-7.72 1.47 1.35L5.41 20z\"/>\n",
              "  </svg>\n",
              "      </button>\n",
              "      \n",
              "  <style>\n",
              "    .colab-df-container {\n",
              "      display:flex;\n",
              "      flex-wrap:wrap;\n",
              "      gap: 12px;\n",
              "    }\n",
              "\n",
              "    .colab-df-convert {\n",
              "      background-color: #E8F0FE;\n",
              "      border: none;\n",
              "      border-radius: 50%;\n",
              "      cursor: pointer;\n",
              "      display: none;\n",
              "      fill: #1967D2;\n",
              "      height: 32px;\n",
              "      padding: 0 0 0 0;\n",
              "      width: 32px;\n",
              "    }\n",
              "\n",
              "    .colab-df-convert:hover {\n",
              "      background-color: #E2EBFA;\n",
              "      box-shadow: 0px 1px 2px rgba(60, 64, 67, 0.3), 0px 1px 3px 1px rgba(60, 64, 67, 0.15);\n",
              "      fill: #174EA6;\n",
              "    }\n",
              "\n",
              "    [theme=dark] .colab-df-convert {\n",
              "      background-color: #3B4455;\n",
              "      fill: #D2E3FC;\n",
              "    }\n",
              "\n",
              "    [theme=dark] .colab-df-convert:hover {\n",
              "      background-color: #434B5C;\n",
              "      box-shadow: 0px 1px 3px 1px rgba(0, 0, 0, 0.15);\n",
              "      filter: drop-shadow(0px 1px 2px rgba(0, 0, 0, 0.3));\n",
              "      fill: #FFFFFF;\n",
              "    }\n",
              "  </style>\n",
              "\n",
              "      <script>\n",
              "        const buttonEl =\n",
              "          document.querySelector('#df-0d75e13c-37e0-459f-9bd8-a567e06138ec button.colab-df-convert');\n",
              "        buttonEl.style.display =\n",
              "          google.colab.kernel.accessAllowed ? 'block' : 'none';\n",
              "\n",
              "        async function convertToInteractive(key) {\n",
              "          const element = document.querySelector('#df-0d75e13c-37e0-459f-9bd8-a567e06138ec');\n",
              "          const dataTable =\n",
              "            await google.colab.kernel.invokeFunction('convertToInteractive',\n",
              "                                                     [key], {});\n",
              "          if (!dataTable) return;\n",
              "\n",
              "          const docLinkHtml = 'Like what you see? Visit the ' +\n",
              "            '<a target=\"_blank\" href=https://colab.research.google.com/notebooks/data_table.ipynb>data table notebook</a>'\n",
              "            + ' to learn more about interactive tables.';\n",
              "          element.innerHTML = '';\n",
              "          dataTable['output_type'] = 'display_data';\n",
              "          await google.colab.output.renderOutput(dataTable, element);\n",
              "          const docLink = document.createElement('div');\n",
              "          docLink.innerHTML = docLinkHtml;\n",
              "          element.appendChild(docLink);\n",
              "        }\n",
              "      </script>\n",
              "    </div>\n",
              "  </div>\n",
              "  "
            ]
          },
          "metadata": {},
          "execution_count": 26
        }
      ]
    },
    {
      "cell_type": "markdown",
      "id": "7dd7f440-8152-43cc-8e63-805f4ac49401",
      "metadata": {
        "id": "7dd7f440-8152-43cc-8e63-805f4ac49401"
      },
      "source": [
        "## Training a Decision Tree [5 marks]\n",
        "\n",
        "### Helper Functions\n",
        "\n",
        "For answers to the questions Q2--Q7 we expect about 3-5 sentences, and for Q8 about 6-10 sentences.\n"
      ]
    },
    {
      "cell_type": "markdown",
      "id": "759aba23-69eb-4e62-8f91-4669f98ee9a7",
      "metadata": {
        "id": "759aba23-69eb-4e62-8f91-4669f98ee9a7"
      },
      "source": [
        "**Q2. Provide an descriptive name for `func1` and explain the role of this function in training/building a Decision Tree. (0.5 marks)**"
      ]
    },
    {
      "cell_type": "markdown",
      "id": "374391b7-a0fc-4990-a705-fd48ef729573",
      "metadata": {
        "id": "374391b7-a0fc-4990-a705-fd48ef729573"
      },
      "source": [
        "name: over_one_unique\n",
        "</br>\n",
        "</br>\n",
        "\n",
        "This function checks to see whether or not the last column of a 2d array has over one unique value. </br>\n",
        "If it does, then 'True' is returned, otherwise 'False' is returned.\n",
        "\n",
        "Given the current data we have at hand, the assessed column will be contain the classes assigned to each row.\n",
        "\n",
        "This can be a crucial function for a Decision Tree, since in Decision Trees, we split the data based on the values of its features, and at each node of the tree it has to be checked if the output class is the same for all the remaining instances. If so, there's no need to expand that specific node any further and it will become a leaf node which has the value of the only remaining class. Otherwise, it needs to be expanded.\n",
        "</br>\n",
        "</br>\n",
        "\n",
        "\n",
        "\n"
      ]
    },
    {
      "cell_type": "code",
      "execution_count": 27,
      "id": "b2e7fe64-9769-47d0-bd19-b0cf976cf77f",
      "metadata": {
        "id": "b2e7fe64-9769-47d0-bd19-b0cf976cf77f"
      },
      "outputs": [],
      "source": [
        "#This function receives a 2D array of values the passed instances should have a format such as:\n",
        "#    [[1 0 1 1 1 1 1 2 2 1 'WOOD'] \n",
        "#     [0 0 0 1 0 1 0 2 1 1 'WOOD']\n",
        "#     [2 3 1 1 1 0 1 1 1 0 'ARCH']\n",
        "#     [2 2 1 1 1 0 1 1 0 2 'CANTILEV'] \n",
        "#     [2 3 1 1 1 0 1 1 0 0 'CONT-T']\n",
        "#      ...] -- is a numpy array\n",
        "\n",
        "def func1(data): \n",
        "    # the input `data` is a 2D array as illustrated above\n",
        "    # the output `answer` is a BOOLEAN (True or False)\n",
        "    \n",
        "    column = data[:, -1]\n",
        "    values = np.unique(column)\n",
        "\n",
        "    if len(values) == 1:\n",
        "        return True\n",
        "    else:\n",
        "        return False\n",
        "   "
      ]
    },
    {
      "cell_type": "markdown",
      "id": "531a3d64-40cd-4d9f-88a1-3944405d01c3",
      "metadata": {
        "id": "531a3d64-40cd-4d9f-88a1-3944405d01c3"
      },
      "source": [
        "**Q3. Provide a descriptive name for `func2` and explain the role of this function in training/building a Decision Tree. (0.5 marks)**\n"
      ]
    },
    {
      "cell_type": "markdown",
      "id": "3be4ac5b-7933-4e05-aa56-32787b1cd2dc",
      "metadata": {
        "id": "3be4ac5b-7933-4e05-aa56-32787b1cd2dc"
      },
      "source": [
        "name: get_majority_class\n",
        "</br>\n",
        "</br>\n",
        "\n",
        "This function returns the name of the most frequent class in a given data subset. It can be useful for assigning a class to a node in a decision tree, causing it become a leaf node.\n",
        "</br>\n",
        "The reason we need this in a Decision Tree is that if we only consider nodes with 100% purity (or 0 entropy) as a leaf node, our Decision Tree might become too big and cause overfitting. Therefore, We might create some limits on whether a node can expand or not (For example, we might have a set maximum depth, or in the case of the ID3 algorithm we can make a slight modification to only expand nodes which have the highest information gain being above a specified threshold), and if we can't expand the node anymore, we can use this function to turn it into a leaf node based by performing a class majority voting among the instances currently contained in the node. \n",
        "</br>\n",
        "</br>\n",
        "</br>\n",
        "</br>\n",
        "\n",
        "\n",
        "\n"
      ]
    },
    {
      "cell_type": "code",
      "execution_count": 28,
      "id": "c5929006-d006-44eb-8aeb-523c720bf266",
      "metadata": {
        "id": "c5929006-d006-44eb-8aeb-523c720bf266"
      },
      "outputs": [],
      "source": [
        "def func2(data):\n",
        "    # the input `data` is a 2D array as illustrated above\n",
        "    # the output is a STRING \n",
        "    \n",
        "    column = data[:, -1] \n",
        "    \n",
        "    values, counts = np.unique(column, return_counts=True)\n",
        "    index = counts.argmax()\n",
        "    name = values[index]\n",
        "    \n",
        "    return name"
      ]
    },
    {
      "cell_type": "markdown",
      "id": "0934a5c9-1f25-4e5c-88c3-0b245f61e408",
      "metadata": {
        "id": "0934a5c9-1f25-4e5c-88c3-0b245f61e408"
      },
      "source": [
        "**Q4. (1) Provide a descriptive name for `func3` and two parameters `name` and `value`. You need to explain what is the role of this function (and these two parametrs) in training/building a Decision Tree.  \n",
        "(2) What are `data1` and `data2` in the context of a Decision Tree? (1 mark)**  "
      ]
    },
    {
      "cell_type": "markdown",
      "id": "bf3b0e2d-2197-4d1b-bd1b-66764b16142e",
      "metadata": {
        "id": "bf3b0e2d-2197-4d1b-bd1b-66764b16142e"
      },
      "source": [
        "(1) name: split_by_value_of_feature\n",
        "</br>\n",
        "</br>\n",
        "This function splits the current data of a node based on the value of a specified feature into two halves.\n",
        "</br>\n",
        "When creating a Decision Tree, we usually perform binary splitting on each node as opposed to non-binary splitting. Therfore, since we create decision trees in a greedy top-to-bottom manner, this function can help in splitting our data into two halves at each node.\n",
        "</br>\n",
        "</br>\n",
        "(2) Data1 and Data2 are the two subsets of data which are obtained after the splitting is done. Data1 contains all the instances where the feature value is less than the specified value, and data2 contains all the instances where the feature value is greater than or equal to the specified value.\n",
        "</br>\n",
        "</br>\n",
        "</br>\n",
        "\n",
        "\n",
        "\n"
      ]
    },
    {
      "cell_type": "code",
      "execution_count": 29,
      "id": "98a3973f-7026-4bc0-9ee2-b8c6c499921f",
      "metadata": {
        "id": "98a3973f-7026-4bc0-9ee2-b8c6c499921f"
      },
      "outputs": [],
      "source": [
        "def func3(data, array, feature_name, feature_value):\n",
        "    # the input `data` is a 2D array \n",
        "    # the input `array` is the list of names\n",
        "    # the input `name` specifies a member in the array\n",
        "    # the input `value` specifies a value for that array member\n",
        "    # the outputs `data1` and `data2` are 2D arrays \n",
        "\n",
        "    index = array.get_loc(feature_name) # array is the list of all unique feature names in order, here the index of a specific feature is taken\n",
        "    data1 = data[data[:,index] < feature_value] # use that feature in order to perform splitting based on an inputted splitting value\n",
        "    data2 = data[data[:,index] >= feature_value]\n",
        "    \n",
        "    return data1, data2"
      ]
    },
    {
      "cell_type": "markdown",
      "id": "18ca265b-dfdf-4e79-be4b-6347cadcf69a",
      "metadata": {
        "id": "18ca265b-dfdf-4e79-be4b-6347cadcf69a"
      },
      "source": [
        "**Q5. Provide a descriptive name for `func4` and explain what is the output of this function? (0.5 marks)**\n"
      ]
    },
    {
      "cell_type": "markdown",
      "id": "66606a89-c960-4519-ae9c-7ec28db5f9f6",
      "metadata": {
        "id": "66606a89-c960-4519-ae9c-7ec28db5f9f6"
      },
      "source": [
        "name: entropy_calculation\n",
        "</br>\n",
        "</br>\n",
        "\n",
        "This function calculates entropy. The lower the entropy, the more pure the node will be. \n",
        "\n",
        "In ID3 we measure how much entropy is reduced after splitting on a specified feature and feature value in order to calculate the information gain for that specific feature and splitting-value. After trying this for different possibilites, the feature and splitting-value which contains the highest information gain is selected to perform splitting on.\n",
        "</br>\n",
        "</br>\n",
        "</br>\n",
        "\n"
      ]
    },
    {
      "cell_type": "code",
      "execution_count": 30,
      "id": "db84c220-a702-430a-a6e2-44b769b59ae3",
      "metadata": {
        "id": "db84c220-a702-430a-a6e2-44b769b59ae3"
      },
      "outputs": [],
      "source": [
        "def func4(data):\n",
        "    # the input `data` is a 2D array \n",
        "    # the output is a single real-valued number\n",
        "    \n",
        "    column = data[:, -1]\n",
        "    _, counts = np.unique(column, return_counts=True)\n",
        "\n",
        "    x = counts / counts.sum()  \n",
        "    y = sum(x * -np.log2(x))\n",
        "    \n",
        "    return y"
      ]
    },
    {
      "cell_type": "markdown",
      "id": "b09950a8-08d0-4129-88b2-785d1fc635ff",
      "metadata": {
        "id": "b09950a8-08d0-4129-88b2-785d1fc635ff"
      },
      "source": [
        "**Q6. Provide a descriptive name for `func5` and explain what is the output of this function? (0.5 marks)**"
      ]
    },
    {
      "cell_type": "markdown",
      "id": "f4ffb943-6593-4db6-b9a1-779efe1ca8cb",
      "metadata": {
        "tags": [],
        "id": "f4ffb943-6593-4db6-b9a1-779efe1ca8cb"
      },
      "source": [
        "name: weighted_entropy_calculation\n",
        "</br>\n",
        "</br>\n",
        "This function calculates the average of the weighted entropy of the two resulting nodes obtained after performing splitting. \n",
        "\n",
        "The entropy of each of the two nodes is calculated seperately. The obtained enropies are then multiplied by their corresponding weights (which is based on the number of instances in each node) and finally the two resulting numbers are summed together and divided by the total number of instances. \n",
        "\n",
        "This output can then be compared to the entropy of the parent node in order to calculate the information gain.\n",
        "</br>\n",
        "</br>\n",
        "</br>\n",
        "\n"
      ]
    },
    {
      "cell_type": "code",
      "execution_count": 62,
      "id": "105b666c-c5b0-4e3a-8ea1-3b98320675a0",
      "metadata": {
        "id": "105b666c-c5b0-4e3a-8ea1-3b98320675a0"
      },
      "outputs": [],
      "source": [
        "def func5(data1, data2):\n",
        "    # the inputs `data1` and `data2` are both 2D arrays\n",
        "    # the output is a single real-valued number\n",
        "\n",
        "    n = len(data1) + len(data2)\n",
        "    x1 = len(data1) / n\n",
        "    x2 = len(data2) / n\n",
        "\n",
        "    y =  (x1 * func4(data1) + x2 * func4(data2))\n",
        "    \n",
        "    return y"
      ]
    },
    {
      "cell_type": "markdown",
      "id": "5be04ccf-9afa-4c30-8457-3092d553ff35",
      "metadata": {
        "id": "5be04ccf-9afa-4c30-8457-3092d553ff35"
      },
      "source": [
        "**Q7. Provide a descriptive name for `func6` and explain what is the output of this function? (0.5 marks)**"
      ]
    },
    {
      "cell_type": "markdown",
      "id": "ea6bde08-7c6e-4fce-9b5a-b854bfb0dc99",
      "metadata": {
        "tags": [],
        "id": "ea6bde08-7c6e-4fce-9b5a-b854bfb0dc99"
      },
      "source": [
        "name: information_gain_calculation\n",
        "</br>\n",
        "</br>\n",
        "This function outputs the information gain obtained by splitting the input (data0) into two subsets (data1 and data2).\n",
        "\n",
        "Information gain is calculated by subtracting the average of the weighted entropy of these subsets (obtained with \"func5\") from the original entropy of the parent node (obtained with the \"entropy_calculation\" function). Note that I've explained how information gain is used in my answer to Q5. \n",
        "</br>\n",
        "</br>\n",
        "</br>\n"
      ]
    },
    {
      "cell_type": "code",
      "execution_count": 32,
      "id": "d641b5a1-1c29-4b22-b385-92b807818ffa",
      "metadata": {
        "id": "d641b5a1-1c29-4b22-b385-92b807818ffa"
      },
      "outputs": [],
      "source": [
        "def func6(data0, data1, data2):\n",
        "    # the inputs `data0`, `data1` and `data2` are all 2D arrays\n",
        "    # the output is a single real-valued number\n",
        "    \n",
        "    x0 = func4(data0)\n",
        "    y = x0 - func5(data1, data2)\n",
        "    \n",
        "    return y"
      ]
    },
    {
      "cell_type": "markdown",
      "id": "c20eceba-2018-40d1-994b-514e38eebb53",
      "metadata": {
        "id": "c20eceba-2018-40d1-994b-514e38eebb53"
      },
      "source": [
        "**Q8. Explain the following variables in `func7` and provide a descriptive name for them. (2 marks)</br>**\n",
        "**1. x </br> 2. Y </br> 3. y1 </br> 4. y2**\n"
      ]
    },
    {
      "cell_type": "markdown",
      "id": "6b7ad219-3d90-4ae1-9fb7-aaf1d5229be0",
      "metadata": {
        "tags": [],
        "id": "6b7ad219-3d90-4ae1-9fb7-aaf1d5229be0"
      },
      "source": [
        "\n",
        "1-\n",
        "x ~~ name: information_gain\n",
        "\n",
        "this variable is the information gain obtained by splitting the data based on a given feature name and feature value.\n",
        "</br>\n",
        "\n",
        "2- Y ~~ name: highest_information_gain\n",
        "\n",
        "This variable holds the highest information gain among all the splits for the features / splitting-values we have. We note that the information gain is obtained iteravely and this variable is only updated if the current gain has higher value than the previous highest gain. This results in the variable holding the highest possible gain after the inner loop terminates.\n",
        "</br>\n",
        "\n",
        "3- y1 ~~ name: best_feature_name\n",
        "\n",
        "This variable is the name of the feature which performing splitting on gives the highest observed information gain.\n",
        "\n",
        "</br>\n",
        "4- y2 ~~ name: best_feature_value\n",
        "\n",
        "This variable is the best value to split on resulting in the highest observed information gain.\n",
        "\n",
        "</br>\n",
        "function name: pick_best_split\n",
        "</br>\n",
        "This function outputs the best seen feature name and splitting-value which is used in order to split the data into two subsets that maximize the information gain. \n",
        "\n",
        "I've added comments in order to further explain what happens in each step of the code.\n",
        "</br>\n",
        "</br>\n",
        "</br>\n",
        "\n"
      ]
    },
    {
      "cell_type": "code",
      "execution_count": 33,
      "id": "689efd68-4c42-49a8-8dff-b2350af4f40a",
      "metadata": {
        "id": "689efd68-4c42-49a8-8dff-b2350af4f40a"
      },
      "outputs": [],
      "source": [
        "def func7(data,array):\n",
        "    # note array in form of ['feat1', 'feat2', 'feat3' etc..]\n",
        "    first_iteration = True\n",
        "    \n",
        "    for a in array[:-1]: # only get the features and not the label \n",
        "\n",
        "        values = np.unique(data[:,array.get_loc(a)]) # get all the possible values for the specific feature 'a'\n",
        "        \n",
        "        for v in values: # perform splitting on those values!\n",
        "            \n",
        "            data1, data2 =  func3(data, array, a, v)\n",
        "            \n",
        "            x = func6(data, data1, data2)  \n",
        "            \n",
        "            if first_iteration or x >= Y: # compare with the previous best split, regardless of it being from the same feature or not\n",
        "                first_iteration = False  # If the info gain is better than the current best seen, then update!\n",
        "                Y = x\n",
        "                y1 = a\n",
        "                y2 = v\n",
        "    \n",
        "    return y1, y2\n",
        "            "
      ]
    },
    {
      "cell_type": "markdown",
      "id": "68178b9f-0119-42b4-b534-a8fe401601a1",
      "metadata": {
        "id": "68178b9f-0119-42b4-b534-a8fe401601a1"
      },
      "source": [
        "### Main Decision Tree Algorithm\n",
        "This is the recursive part of developing the Decision Tree. If you have developed all the previous parts correctly this function will make a Decision Tree for the passed dataset. We can set the maximum depth of the tree (`max_depth`) and number of samples that we would stop spliting a node (`min_samples`). <br>\n"
      ]
    },
    {
      "cell_type": "code",
      "execution_count": 42,
      "id": "20cf002d-8acc-46b6-a481-b1619a2927fb",
      "metadata": {
        "id": "20cf002d-8acc-46b6-a481-b1619a2927fb"
      },
      "outputs": [],
      "source": [
        "def decision_tree_algorithm(data, array, max_depth, counter=0, min_samples=2):\n",
        "    \n",
        "    # We first write the case where the recursive algorithm reach to an stop.\n",
        "    # The algorithm stops if func1 returns `true` \n",
        "    #    or instances left in the node is less than define minimum samples (e.g., 2) \n",
        "    #    or we have reached the maximum length of the tree\n",
        "    \n",
        "#     print(counter, max_depth, func1(data), len(data) < min_samples, counter == max_depth)\n",
        "       \n",
        "    if (func1(data)) or (len(data) < min_samples) or (counter == max_depth): \n",
        "#         print('break')\n",
        "        y = func2(data)\n",
        "        return y\n",
        "    \n",
        "    # recursive part\n",
        "    else:\n",
        "#         print('recursive')\n",
        "        \n",
        "        counter += 1\n",
        "        \n",
        "        name, value = func7(data,array)\n",
        "        data1, data2 = func3(data, array, name, value)\n",
        "        \n",
        "        if (len(data1) == 0) or (len(data2) == 0):\n",
        "            y = func2(data)\n",
        "            return y\n",
        "    \n",
        "        #instanciate the tree\n",
        "        node = \"{} < {}\".format(name, value)\n",
        "        sub_tree = {node: []}\n",
        "              \n",
        "        #develop the sub-trees (recursion)\n",
        "        left_child = decision_tree_algorithm(data=data1, array=array, max_depth=max_depth, counter=counter)\n",
        "        right_child = decision_tree_algorithm(data=data2, array=array, max_depth=max_depth, counter=counter)\n",
        "        \n",
        "        \n",
        "        if left_child == right_child:\n",
        "            sub_tree = right_child\n",
        "        else:\n",
        "            sub_tree[node].append(left_child)\n",
        "            sub_tree[node].append(right_child)\n",
        "        \n",
        "        return sub_tree   \n",
        "         "
      ]
    },
    {
      "cell_type": "code",
      "execution_count": 43,
      "id": "088be554-bc1a-45db-ac72-e6f3d0c5eac2",
      "metadata": {
        "id": "088be554-bc1a-45db-ac72-e6f3d0c5eac2",
        "colab": {
          "base_uri": "https://localhost:8080/"
        },
        "outputId": "7d6bac48-79e3-4726-8906-75915d66177a"
      },
      "outputs": [
        {
          "output_type": "stream",
          "name": "stdout",
          "text": [
            "{'Material < 2': [{'Purpose < 2': [{'Rel-L < 2': ['SIMPLE-T', 'SUSPEN']},\n",
            "                                   'SIMPLE-T']},\n",
            "                  'WOOD']}\n"
          ]
        }
      ],
      "source": [
        "############## TEST IT YOURSELF ###############\n",
        "data = train_df\n",
        "tree = decision_tree_algorithm(data=data.values, array=data.columns, max_depth=3, counter=0)\n",
        "\n",
        "pprint(tree)"
      ]
    },
    {
      "cell_type": "markdown",
      "id": "e7c5158e-03f4-43ba-9799-7751ae7491cd",
      "metadata": {
        "id": "e7c5158e-03f4-43ba-9799-7751ae7491cd"
      },
      "source": [
        "With the max_depth of 3, your tree would be:\n",
        "\n",
        "`Material < 2`   ------- `Purpose < 2`  ------ `Rel-L < 2`------- **SIMPLE-T** <br>\n",
        "$\\;\\;\\;\\;|\\;\\;\\;\\;\\;\\;\\;\\;\\;\\;\\;\\;\\;\\;\\;\\;\\;\\;\\;\\;\\;\\;\\;\\;\\;\\;\\;\\;\\;\\;\\;\\;\\;|\\;\\;\\;\\;\\;\\;\\;\\;\\;\\;\\;\\;\\;\\;\\;\\;\\;\\;\\;\\;\\;\\;\\;\\;\\;\\;\\;\\;\\;|$------  **SUSPEN**<br>\n",
        "$\\;\\;\\;\\;$|----- **WOOD** $\\;\\;\\;\\;\\;\\;\\;\\;\\;\\;\\;\\;\\;\\;\\;\\;$|------  **SIMPLE-T** \n"
      ]
    },
    {
      "cell_type": "markdown",
      "id": "9546eb99-134d-412e-9017-bcb9653bff3d",
      "metadata": {
        "id": "9546eb99-134d-412e-9017-bcb9653bff3d"
      },
      "source": [
        "# Classification and Evaluation [1 mark]\n",
        "\n",
        "Now that we have built our decision tree, we are ready to use it to predict a label for unseen instances. We provided the code to do this, below."
      ]
    },
    {
      "cell_type": "code",
      "execution_count": 44,
      "id": "d08da855-4902-4f7b-8aab-99c930a96f2f",
      "metadata": {
        "id": "d08da855-4902-4f7b-8aab-99c930a96f2f"
      },
      "outputs": [],
      "source": [
        "def predict_one_instance(example, tree):\n",
        "    \n",
        "    # tree is just a root node\n",
        "    if not isinstance(tree, dict):\n",
        "        return tree\n",
        "    \n",
        "    question = list(tree.keys())[0]\n",
        "    feature_name, comparison_operator, value = question.split(\" \")\n",
        "\n",
        "    # ask question\n",
        "    if (example[feature_name] < float(value)):\n",
        "        answer = tree[question][0]\n",
        "    else:\n",
        "        answer = tree[question][1]\n",
        "\n",
        "    # base case (the answer in not a dictionary)\n",
        "    if not isinstance(answer, dict):\n",
        "        return answer\n",
        "    \n",
        "    # recursive part\n",
        "    else:\n",
        "        residual_tree = answer\n",
        "        return predict_one_instance(example, residual_tree)\n"
      ]
    },
    {
      "cell_type": "code",
      "execution_count": 37,
      "id": "bb05533a-9ec4-46d1-99a4-534e3afdcf18",
      "metadata": {
        "id": "bb05533a-9ec4-46d1-99a4-534e3afdcf18"
      },
      "outputs": [],
      "source": [
        "def make_predictions(df, tree):\n",
        "    \n",
        "    if len(df) != 0:\n",
        "        predictions = df.apply(predict_one_instance, args=(tree,), axis=1)\n",
        "    else:\n",
        "        # \"df.apply()\"\" with empty dataframe returns an empty dataframe,\n",
        "        # but \"predictions\" should be a series instead\n",
        "        predictions = pd.Series()\n",
        "        \n",
        "    return predictions"
      ]
    },
    {
      "cell_type": "markdown",
      "id": "6f3c2c0f-527c-4f53-adfa-d68394413e61",
      "metadata": {
        "id": "6f3c2c0f-527c-4f53-adfa-d68394413e61"
      },
      "source": [
        "**Q9. Write a function to calculate accuracy (0.5 marks)**\n",
        "\n",
        "This function receives a dataframe and predictions of a trained tree (on that dataset) and should calculate the accuracy of the prdictions for the passed dataframe.\n",
        "\n",
        "**NOTE:** You are NOT allowed to use Python accuracy methods here. "
      ]
    },
    {
      "cell_type": "code",
      "execution_count": 58,
      "id": "d63b0013-addb-41d1-a2d6-779e7980c4c7",
      "metadata": {
        "id": "d63b0013-addb-41d1-a2d6-779e7980c4c7"
      },
      "outputs": [],
      "source": [
        "def calculate_accuracy(df, predictions):\n",
        "    \n",
        "    ########### YOUR CODE HERE ##############\n",
        "    # we know that accuracy is the number of correct predictions made divided by the total number of predictions made.\n",
        "    actual = np.array(df[df.columns[-1]])\n",
        "\n",
        "    correct = (actual == predictions) \n",
        "    accuracy = correct.sum() / len(actual) # or len(predics), doesn't matter.\n",
        "    #########################################\n",
        "    \n",
        "    return accuracy"
      ]
    },
    {
      "cell_type": "markdown",
      "id": "180b9734-4118-44c4-a0b8-4b3d4f71e842",
      "metadata": {
        "id": "180b9734-4118-44c4-a0b8-4b3d4f71e842"
      },
      "source": [
        "**Q10. Use the Tree (0.5 marks)**\n",
        "\n",
        "Using all the developed functions above build a tree using the **Training set** (train_df) (max_depth = 2) and then use it to predict labels for the **Test set** (test_df). Then print the accuracy of your tree for the test set."
      ]
    },
    {
      "cell_type": "code",
      "execution_count": 59,
      "id": "344aeeaf-d06c-447f-a034-357d060fe8db",
      "metadata": {
        "id": "344aeeaf-d06c-447f-a034-357d060fe8db",
        "colab": {
          "base_uri": "https://localhost:8080/"
        },
        "outputId": "683bb6df-331a-40a5-8801-32304417b918"
      },
      "outputs": [
        {
          "output_type": "stream",
          "name": "stdout",
          "text": [
            "0.34782608695652173\n"
          ]
        }
      ],
      "source": [
        "#############  YOUR CODE HERE ##############\n",
        "#vals = np.unique(np.array(df[df.columns[-1]]))\n",
        "\n",
        "tree = decision_tree_algorithm(data=train_df.values, array=train_df.columns, max_depth=2, counter=0)\n",
        "\n",
        "predics = make_predictions(test_df,tree)\n",
        "\n",
        "accuracy = calculate_accuracy(test_df, predics)\n",
        "\n",
        "###########################################\n",
        "\n",
        "print(accuracy) "
      ]
    },
    {
      "cell_type": "markdown",
      "id": "92c7c5ce-8d9b-49b1-91ad-2345f86141be",
      "metadata": {
        "id": "92c7c5ce-8d9b-49b1-91ad-2345f86141be"
      },
      "source": [
        "## Q11. Analytical questions [2 marks]\n",
        "\n",
        "Answer each of the following subquestions with a text answer of 3-5 sentences, using the results you obtained in the previous sections. You don't need to develop new functions. You might need to re-run and reuse some of the functions you already implemented in the ### CODE ### cells above.\n",
        "\n",
        "### Q11.1 Manipulating the features (1.5 marks)\n",
        "\n",
        "Let's see if changes in the number of features changes the tree results.\n",
        "\n",
        "**(A)** Train a tree (T1) with max_depth = 2, using the train_df. Use T1 to predict the labels for both train_df and test_df and print the accuracy for both datasets.\n",
        "\n",
        "**(B)** For both train_df and test_df remove (drop) the `Material` feature. Then train another tree (T2) with max_depth = 2 using the new train set (no_mat_train_df). Use T2 to predict labels for new test and train set and check the accuracy of the predictions. Are the results different from what they were in part A? If yes, explain why. "
      ]
    },
    {
      "cell_type": "code",
      "execution_count": 60,
      "id": "e8a81b50",
      "metadata": {
        "id": "e8a81b50",
        "colab": {
          "base_uri": "https://localhost:8080/"
        },
        "outputId": "2fcbb40b-7234-43d8-c53c-893ab22699f8"
      },
      "outputs": [
        {
          "output_type": "stream",
          "name": "stdout",
          "text": [
            "accuracy of decision tree on training set: 0.611764705882353\n",
            "accuracy of decision tree on test set: 0.34782608695652173\n"
          ]
        }
      ],
      "source": [
        "T1 = decision_tree_algorithm(data=train_df.values, array=train_df.columns, max_depth=2, counter=0)\n",
        "\n",
        "train_predics = make_predictions(train_df,T1)\n",
        "test_predics = make_predictions(test_df,T1)\n",
        "\n",
        "\n",
        "train_accuracy = calculate_accuracy(train_df, train_predics)\n",
        "\n",
        "test_accuracy = calculate_accuracy(test_df, test_predics)\n",
        "\n",
        "###########################################\n",
        "\n",
        "print(f\"accuracy of decision tree on training set: {train_accuracy}\") \n",
        "print(f\"accuracy of decision tree on test set: {test_accuracy}\") "
      ]
    },
    {
      "cell_type": "code",
      "execution_count": 61,
      "id": "cccc9b36-d30c-4cf3-8a28-215679542d2b",
      "metadata": {
        "id": "cccc9b36-d30c-4cf3-8a28-215679542d2b",
        "colab": {
          "base_uri": "https://localhost:8080/"
        },
        "outputId": "bdbe31af-3f25-4c25-bdf0-fe72021c1ed0"
      },
      "outputs": [
        {
          "output_type": "stream",
          "name": "stdout",
          "text": [
            "accuracy of decision tree on training set: 0.5882352941176471\n",
            "accuracy of decision tree on test set: 0.43478260869565216\n"
          ]
        }
      ],
      "source": [
        "new_train_df = train_df.drop('Material', axis=1)\n",
        "new_test_df = test_df.drop('Material', axis=1)\n",
        "\n",
        "T1 = decision_tree_algorithm(data=new_train_df.values, array=new_train_df.columns, max_depth=2, counter=0)\n",
        "\n",
        "\n",
        "train_predics = make_predictions(new_train_df,T1)\n",
        "test_predics = make_predictions(new_test_df,T1)\n",
        "\n",
        "\n",
        "train_accuracy = calculate_accuracy(new_train_df, train_predics)\n",
        "\n",
        "test_accuracy = calculate_accuracy(new_test_df, test_predics)\n",
        "\n",
        "###########################################\n",
        "\n",
        "print(f\"accuracy of decision tree on training set: {train_accuracy}\") \n",
        "print(f\"accuracy of decision tree on test set: {test_accuracy}\") "
      ]
    },
    {
      "cell_type": "markdown",
      "id": "f0a0f00c-6355-4043-9e06-e2118f298a92",
      "metadata": {
        "id": "f0a0f00c-6355-4043-9e06-e2118f298a92"
      },
      "source": [
        "It is apparent that by dropping the 'Material' feature column, we are getting better results predicting the test data as opposed to not dropping the column (around a 26% increase at better predicting labels). \n",
        "\n",
        "The main reason for this can be that by removing this feature, we have successfuly reduced the complexity of the decision tree. This can cause the tree to \"overfit\" less. Overfitting can happen when a decision tree is complex and fits the training data a bit too closely, thus making it perform worse on non-seen data. \n",
        "\n",
        "It is due to this exact reason that we see slighty worse prediction accuracy on the training set, since the decision tree now has less information to use for data causing it to be less specialized towards the training data.\n",
        "</br>\n",
        "</br>\n",
        "</br>\n"
      ]
    },
    {
      "cell_type": "markdown",
      "id": "3a7537f2-d946-42fd-90a3-74a035e46819",
      "metadata": {
        "id": "3a7537f2-d946-42fd-90a3-74a035e46819"
      },
      "source": [
        "\n",
        "### Q11.2 Decision tree complexity (1 mark)\n",
        "\n",
        "**(A)** Using the tree you generated in Q10 (name it `little_tree`), find the accuracy of the tree for predicting the labels for the **training set**. Do you notice a difference between train and test accuracy? If so, discuss possible reasons. \n",
        "\n",
        "**(B)** Now change the max_depth of the decision tree to 10 and train another tree (name it `big_tree`). Now use this new tree to predict the labels for test and train sets. Describe and explain any change in the results you notice compared to your tree of depth 2.</br>\n"
      ]
    },
    {
      "cell_type": "code",
      "execution_count": 64,
      "id": "6d7971eb",
      "metadata": {
        "id": "6d7971eb",
        "colab": {
          "base_uri": "https://localhost:8080/"
        },
        "outputId": "6e372500-3a81-46a4-b30e-e09f933d192e"
      },
      "outputs": [
        {
          "output_type": "stream",
          "name": "stdout",
          "text": [
            "accuracy of decision tree on training set: 0.611764705882353\n",
            "accuracy of decision tree on test set: 0.34782608695652173\n"
          ]
        }
      ],
      "source": [
        "little_tree = decision_tree_algorithm(data=train_df.values, array=train_df.columns, max_depth=2, counter=0) # exactly the same as the tree in Q10\n",
        "\n",
        "train_predics = make_predictions(train_df, little_tree)\n",
        "test_predics = make_predictions(test_df, little_tree)\n",
        "\n",
        "train_accuracy = calculate_accuracy(train_df, train_predics)\n",
        "\n",
        "test_accuracy = calculate_accuracy(test_df, test_predics)\n",
        "\n",
        "print(f\"accuracy of decision tree on training set: {train_accuracy}\") \n",
        "print(f\"accuracy of decision tree on test set: {test_accuracy}\") \n"
      ]
    },
    {
      "cell_type": "code",
      "execution_count": 75,
      "id": "79220176-8a16-436e-bca0-95e42720a919",
      "metadata": {
        "id": "79220176-8a16-436e-bca0-95e42720a919",
        "colab": {
          "base_uri": "https://localhost:8080/"
        },
        "outputId": "8b68ef14-71b9-4162-c2ab-2f72e912e7f1"
      },
      "outputs": [
        {
          "output_type": "stream",
          "name": "stdout",
          "text": [
            "accuracy of decision tree on training set: 0.9411764705882353\n",
            "accuracy of decision tree on test set: 0.34782608695652173\n"
          ]
        }
      ],
      "source": [
        "big_tree = decision_tree_algorithm(data=train_df.values, array=train_df.columns, max_depth=10, counter=0) \n",
        "\n",
        "train_predics = make_predictions(train_df, big_tree)\n",
        "test_predics = make_predictions(test_df, big_tree)\n",
        "\n",
        "train_accuracy = calculate_accuracy(train_df, train_predics)\n",
        "\n",
        "test_accuracy = calculate_accuracy(test_df, test_predics)\n",
        "\n",
        "print(f\"accuracy of decision tree on training set: {train_accuracy}\") \n",
        "print(f\"accuracy of decision tree on test set: {test_accuracy}\") "
      ]
    },
    {
      "cell_type": "markdown",
      "id": "0b3ace3a-8f88-43fb-90b9-375cdbdd57f2",
      "metadata": {
        "id": "0b3ace3a-8f88-43fb-90b9-375cdbdd57f2"
      },
      "source": [
        "*(A)*\n",
        "It is apparent that the accuracy obtained by predicting the training data is higher than predicting the test data. The reason for this is that when we create a decision tree, the tree is specifically designed to fit the training data. After which we evaluate how well this tree performs on seeing unseen data\n",
        "(which we know as the test data). When designing a decision tree and its rules (such as max_depth, number of features, etc..) we have to be careful to choose the parameters in such a way that we prevent overfitting as best as we can.\n",
        "<br/>\n",
        "<br/>\n",
        "<br/>\n",
        "\n",
        "*(B)* When we increase the max depth of a decision tree, we are basically allowing the tree to become more complex by learning more of the relationships between the features in the training data. This can cause the tree to give us much better accuracy for predicting labels of the training data, which is exactly what we see in this example. It is noteworthy that the more we increase the depth of a decision tree the more likely we are to create a model which overfits the training data and performs worse on unseen data. In this example we are getting the exact same accuracy results when predicting the test data on the two different tree lengths. The reason for this can be that when training a decision tree with a maximum depth of 2 we are underfitting the data, but with a maximum depth of 10, we are overfitting the data, thus causing the same weak result. So as an example, if we select the maximum depth of the tree to be 4,  the accuracy of predicting the test data will be 0.47 which is much better than our previous result."
      ]
    },
    {
      "cell_type": "markdown",
      "id": "27cda3b8-38f0-48da-a877-7e395fd06fdb",
      "metadata": {
        "id": "27cda3b8-38f0-48da-a877-7e395fd06fdb"
      },
      "source": [
        "# Authorship Declaration:\n",
        "\n",
        "   (1) I certify that the program contained in this submission is completely\n",
        "   my own individual work, except where explicitly noted by comments that\n",
        "   provide details otherwise.  I understand that work that has been developed\n",
        "   by another student, or by me in collaboration with other students,\n",
        "   or by non-students as a result of request, solicitation, or payment,\n",
        "   may not be submitted for assessment in this subject. The same holds for AI models including, but not limited to, ChatGPT. I understand that\n",
        "   submitting for assessment work developed by or in collaboration with\n",
        "   other students or non-students constitutes Academic Misconduct, and\n",
        "   may be penalized by mark deductions, or by other penalties determined\n",
        "   via the University of Melbourne Academic Honesty Policy, as described\n",
        "   at https://academicintegrity.unimelb.edu.au.\n",
        "\n",
        "   (2) I also certify that I have not provided a copy of this work in either\n",
        "   softcopy or hardcopy or any other form to any other student, and nor will\n",
        "   I do so until after the marks are released. I understand that providing\n",
        "   my work to other students, regardless of my intention or any undertakings\n",
        "   made to me by that other student, is also Academic Misconduct.\n",
        "\n",
        "   (3) I further understand that providing a copy of the assignment\n",
        "   specification to any form of code authoring or assignment tutoring\n",
        "   service, or drawing the attention of others to such services and code\n",
        "   that may have been made available via such a service, may be regarded\n",
        "   as Student General Misconduct (interfering with the teaching activities\n",
        "   of the University and/or inciting others to commit Academic Misconduct).\n",
        "   I understand that an allegation of Student General Misconduct may arise\n",
        "   regardless of whether or not I personally make use of such solutions\n",
        "   or sought benefit from such actions.\n",
        "\n",
        "   <b>Signed by</b>: Arya Araban - 1439683\n",
        "   \n",
        "   <b>Dated</b>: [Enter the date that you \"signed\" the declaration]"
      ]
    }
  ],
  "metadata": {
    "kernelspec": {
      "display_name": "Python 3 (ipykernel)",
      "language": "python",
      "name": "python3"
    },
    "language_info": {
      "codemirror_mode": {
        "name": "ipython",
        "version": 3
      },
      "file_extension": ".py",
      "mimetype": "text/x-python",
      "name": "python",
      "nbconvert_exporter": "python",
      "pygments_lexer": "ipython3",
      "version": "3.9.13"
    },
    "colab": {
      "provenance": []
    }
  },
  "nbformat": 4,
  "nbformat_minor": 5
}