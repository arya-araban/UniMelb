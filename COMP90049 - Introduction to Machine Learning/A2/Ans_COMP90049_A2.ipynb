{
  "cells": [
    {
      "cell_type": "markdown",
      "id": "76ffa401",
      "metadata": {
        "id": "76ffa401"
      },
      "source": [
        "# Assignment 2: Classification and Evaluation (20 marks)\n",
        "\n",
        "Student Name: Arya Araban\n",
        "\n",
        "Student ID: 1439683\n",
        "\n",
        "## General info\n",
        "\n",
        "<b>Due date</b>: *5 pm on Friday 7th of April*\n",
        "\n",
        "<b>Submission method</b>: Canvas submission\n",
        "\n",
        "<b>Submission materials</b>: completed copy of this iPython notebook\n",
        "\n",
        "<b>Late submissions</b>: -10% per day up to 5 days (both weekdays and weekends count)\n",
        "<ul>\n",
        "    <li>one day late, -2;</li>\n",
        "    <li>two days late, -4;</li>\n",
        "    <li>three days late, -6;</li>\n",
        "    <li>four days late, -8;</li>\n",
        "    <li>five days late, -10;</li>\n",
        "</ul>\n",
        "\n",
        "<b>Marks</b>: This assignment will be marked out of 20, and make up 20% of your overall mark for this subject.\n",
        "\n",
        "<b>Materials</b>: See [Using Jupyter Notebook and Python page] on Canvas (under Modules> Coding Resources) for information on the basic setup required for this class, including an iPython notebook viewer and the python packages `numpy`, `pandas`, `matplotlib` and `sklearn`. You can use any Python built-in packages, but do not use any other 3rd party packages; if your iPython notebook doesn't run on the marker's machine, you will lose marks. <b> You should use Python 3</b>.  \n",
        "\n",
        "<b>Evaluation</b>: Your iPython notebook should run end-to-end without any errors in a reasonable amount of time, and you must follow all instructions provided below, including specific implementation requirements and instructions for what needs to be printed (please avoid printing output we don't ask for). You should edit the sections below where requested, but leave the rest of the code as is. You should leave the output from running your code in the iPython notebook you submit, to assist with marking. The amount each section is worth is given in parenthesis after the instructions. \n",
        "\n",
        "\n",
        "<b>Updates</b>: Any major changes to the assignment will be announced via Canvas. Minor changes and clarifications will be announced on Canvas>Assignments>Assignmnet1; we recommend you check it regularly.\n",
        "\n",
        "<b>Academic misconduct</b>: This assignment is an individual task, and so reuse of code or other instances of clear influence will be considered cheating. Please check the <a href=\"https://canvas.lms.unimelb.edu.au/courses/124196/modules#module_662096\">CIS Academic Honesty training</a> for more information. We will be checking submissions for originality and will invoke the University’s <a href=\"http://academichonesty.unimelb.edu.au/policy.html\">Academic Misconduct policy</a> where collusion or plagiarism are deemed to have taken place. Content produced by an AI (including, but not limited to ChatGPT) is not your own work, and submitting such content will be treated as a case of academic misconduct, in line with the <a href=\"https://academicintegrity.unimelb.edu.au/plagiarism-and-collusion/artificial-intelligence-tools-and-technologies\"> University's policy</a>.\n",
        "\n",
        "**IMPORTANT**\n",
        "\n",
        "Please carefully read and fill out the <b>Authorship Declaration</b> form at the bottom of the page. Failure to fill out this form results in the following deductions: \n",
        "<UL TYPE=”square”>\n",
        "<LI>Missing Authorship Declaration at the bottom of the page, -2.0\n",
        "<LI>Incomplete or unsigned Authorship Declaration at the bottom of the page, -1.0\n",
        "</UL>\n"
      ]
    },
    {
      "cell_type": "markdown",
      "id": "a66d47f4",
      "metadata": {
        "id": "a66d47f4"
      },
      "source": [
        "## Overview:\n",
        "For this assignment, you will work with a provided dataset to train and utilize multiple classifiers to analyze different versions of the dataset. In addition to implementing these classifiers, you will also explore various evaluation paradigms and analyze the impact of multiple parameters on the performance of the classifiers. Finally, you will be expected to answer some conceptual questions based on your observations and analysis.\n",
        "\n",
        "## Data Set:\n",
        "In this assignment, you will work with multiple versions of one dataset called \"Amphibians.\" It is adopted from a famous public dataset, and you can find more details about it <a href= \"https://archive.ics.uci.edu/ml/datasets/Amphibians#\"> here </a>.  The dataset includes information about five groups of amphibians in Poland: \"Green frogs,\" \"Brown frogs,\" \"Common toad,\" \"Tree frog,\" and \"Fire-bellied toad.\" The dataset comprises 14 attributes and one class. Some of these attributes are numeric, some are categorical, and some are ordinal.\n",
        "\n",
        "You can find details about all the features in the dataset in the file \"README.txt\"."
      ]
    },
    {
      "cell_type": "code",
      "source": [
        "from google.colab import drive\n",
        "drive.mount('/content/drive')"
      ],
      "metadata": {
        "colab": {
          "base_uri": "https://localhost:8080/"
        },
        "id": "sBJk9Gr7k4b5",
        "outputId": "c1ec7e24-1053-41ed-f36f-5df19ae5e2da"
      },
      "id": "sBJk9Gr7k4b5",
      "execution_count": 1,
      "outputs": [
        {
          "output_type": "stream",
          "name": "stdout",
          "text": [
            "Mounted at /content/drive\n"
          ]
        }
      ]
    },
    {
      "cell_type": "code",
      "execution_count": 2,
      "id": "d2b26164",
      "metadata": {
        "id": "d2b26164"
      },
      "outputs": [],
      "source": [
        "import pandas as pd\n",
        "import numpy as np\n",
        "import matplotlib.pyplot as plt"
      ]
    },
    {
      "cell_type": "code",
      "execution_count": 3,
      "id": "afa339cc",
      "metadata": {
        "id": "afa339cc"
      },
      "outputs": [],
      "source": [
        "from sklearn.model_selection import train_test_split\n",
        "from sklearn.dummy import DummyClassifier\n",
        "from sklearn.tree import DecisionTreeClassifier\n",
        "from sklearn.naive_bayes import GaussianNB, MultinomialNB, BernoulliNB\n",
        "from sklearn.neighbors import KNeighborsClassifier\n",
        "from sklearn.metrics import accuracy_score\n",
        "from sklearn.metrics import classification_report\n"
      ]
    },
    {
      "cell_type": "code",
      "execution_count": 4,
      "id": "4d90b111-3c9f-4b4c-a0a6-413000636fc6",
      "metadata": {
        "id": "4d90b111-3c9f-4b4c-a0a6-413000636fc6"
      },
      "outputs": [],
      "source": [
        "import warnings\n",
        "\n",
        "# ignore future warnings \n",
        "warnings.simplefilter(action='ignore', category=FutureWarning)"
      ]
    },
    {
      "cell_type": "markdown",
      "id": "89a1c496",
      "metadata": {
        "id": "89a1c496"
      },
      "source": [
        "## Question 1 [5 marks]\n",
        "**Q1.1 A.** Read the dataset \"amphibians1.csv\" dataset into a pandas DataFrame called `data1`. Create a function called `encode` that takes in the features of the dataset as a pandas DataFrame and uses one-hot encoding to convert all nominal (and ordinal) attributes to numeric. You can achieve this by either using `get_dummies()` from the pandas library or `OneHotEncoder()` from the scikit-learn library. **[1 mark]**\n",
        "\n",
        "**B.** For 10 rounds, use `train_test_split` to divide the encoded `data1` into 70% train, 30% test . Set the `random_state` equal to the loop counter. For example in the loop\n",
        "``` python \n",
        "for i in range(10):\n",
        "```\n",
        "make `random_state` equal to `i`. \n",
        "Use the splitted datasets to train and test the following models (use the default hyperparameters): **[1 mark]**\n",
        "- Zero-R\n",
        "- Gaussian Naive Bayes\n",
        "- Multinomial Naive Bayes\n",
        "- Bernoulli Naive Bayes model\n",
        "\n",
        "Report the average accuracy over the 10 runs."
      ]
    },
    {
      "cell_type": "code",
      "execution_count": 5,
      "id": "9c33a9d2",
      "metadata": {
        "id": "9c33a9d2"
      },
      "outputs": [],
      "source": [
        "data1 = pd.read_csv(\"drive/MyDrive/datasets/ML_A2/amphibians1.csv\")\n",
        "\n",
        "y1 = data1.iloc[:, -1]\n",
        "X1 = data1.iloc[:, :-1]\n"
      ]
    },
    {
      "cell_type": "code",
      "execution_count": 6,
      "id": "588459ef-a861-4793-8c92-2f57bab4bb10",
      "metadata": {
        "id": "588459ef-a861-4793-8c92-2f57bab4bb10"
      },
      "outputs": [],
      "source": [
        "# preprocessing \n",
        "def encode(X):\n",
        "\n",
        "    nominal_columns = [\"TR\", \"VR\", \"SUR1\", \"SUR2\", \"SUR3\", \"UR\", \"FR\", \"RR\", \"BR\", \"MR\", \"CR\" ]\n",
        "    for col in nominal_columns:\n",
        "\n",
        "      dummies = pd.get_dummies(X[col], prefix=col)\n",
        "      \n",
        "      X = X.drop(columns=[col])\n",
        "\n",
        "      X = pd.concat([X, dummies], axis=1)\n",
        "\n",
        "    return X "
      ]
    },
    {
      "cell_type": "code",
      "execution_count": 7,
      "id": "07e3d435-af7a-4bd4-b481-f22b1c7550a2",
      "metadata": {
        "id": "07e3d435-af7a-4bd4-b481-f22b1c7550a2",
        "colab": {
          "base_uri": "https://localhost:8080/"
        },
        "outputId": "4e8f5553-4218-447d-8ddc-b0852d9a7aa3"
      },
      "outputs": [
        {
          "output_type": "stream",
          "name": "stdout",
          "text": [
            "Accuracy of ZeroR: 0.59\n",
            "Accuracy of GNB: 0.4\n",
            "Accuracy of MNB: 0.35\n",
            "Accuracy of BNB: 0.63\n"
          ]
        }
      ],
      "source": [
        "ZeroR_Acc_1 = []\n",
        "GNB_Acc_1 = []\n",
        "MNB_Acc_1 = []\n",
        "BNB_Acc_1 = []\n",
        "\n",
        "round_num = 2\n",
        "round_reports = {}\n",
        "\n",
        "encoded_data = encode(data1)\n",
        "\n",
        "X = encoded_data.drop(columns=['frog class'])\n",
        "y = encoded_data['frog class']\n",
        "\n",
        "warnings.filterwarnings('ignore')\n",
        "\n",
        "for i in range(10):\n",
        "\n",
        "  X_train, X_test, y_train, y_test = train_test_split(X, y,  test_size=0.3, random_state=i)\n",
        "   \n",
        "\n",
        "  # Training/testing the Zero-R model\n",
        "  zero_r = DummyClassifier(strategy='most_frequent')\n",
        "  zero_r.fit(X_train, y_train)\n",
        "  y_pred = zero_r.predict(X_test)\n",
        "  ZeroR_Acc_1.append(accuracy_score(y_test, y_pred))\n",
        "\n",
        "  if i == round_num: \n",
        "    round_reports[\"Zero_R\"] = classification_report(y_test, y_pred, labels=np.unique(y_test))\n",
        "  \n",
        "  # Training/testing the Gaussian Naive Bayes model\n",
        "  gnb = GaussianNB()\n",
        "  gnb.fit(X_train, y_train)\n",
        "  y_pred = gnb.predict(X_test)\n",
        "  GNB_Acc_1.append(accuracy_score(y_test, y_pred))\n",
        "  \n",
        "  if i == round_num:\n",
        "    round_reports[\"GNB\"] = classification_report(y_test, y_pred, labels=np.unique(y_test))\n",
        "  \n",
        "  # Training/testing the Multinomial Naive Bayes model\n",
        "  mnb = MultinomialNB()\n",
        "  mnb.fit(X_train, y_train)\n",
        "  y_pred = mnb.predict(X_test)\n",
        "  MNB_Acc_1.append(accuracy_score(y_test, y_pred))\n",
        "\n",
        "  if i == round_num:\n",
        "    round_reports[\"MNB\"] = classification_report(y_test, y_pred, labels=np.unique(y_test))\n",
        "  \n",
        "  # Training/testing the Bernoulli Naive Bayes model\n",
        "  bnb = BernoulliNB()\n",
        "  bnb.fit(X_train, y_train)\n",
        "  y_pred = bnb.predict(X_test)\n",
        "  BNB_Acc_1.append(accuracy_score(y_test, y_pred))\n",
        "\n",
        "  if i == round_num:\n",
        "    round_reports[\"BNB\"] = classification_report(y_test, y_pred, labels=np.unique(y_test))\n",
        "\n",
        "\n",
        "\n",
        "print(\"Accuracy of ZeroR:\", np.mean(ZeroR_Acc_1).round(2))\n",
        "print(\"Accuracy of GNB:\", np.mean(GNB_Acc_1).round(2))\n",
        "print(\"Accuracy of MNB:\", np.mean(MNB_Acc_1).round(2))\n",
        "print(\"Accuracy of BNB:\", np.mean(BNB_Acc_1).round(2))\n"
      ]
    },
    {
      "cell_type": "markdown",
      "id": "b8c394c5",
      "metadata": {
        "id": "b8c394c5"
      },
      "source": [
        "**Q1.2** After comparing the performance of the different models on the classification task, please comment on any differences or lack of differences you observe between the models. **[3 marks]**</br>\n",
        "*NOTE: You may need to compare other performance metrics of these models, such as precision and recall of each class label, to gain a better understanding of their performance. You can use the `classification_report` from `sklearn.metrics` for this matter and check the performance of the classifiers for one round.*"
      ]
    },
    {
      "cell_type": "code",
      "source": [
        "for k, v in round_reports.items():\n",
        "    print(f\"{k}: \\n\\n\")\n",
        "    print(v)\n",
        "    print(\"------\")"
      ],
      "metadata": {
        "colab": {
          "base_uri": "https://localhost:8080/"
        },
        "id": "BlQpFP2ltzs9",
        "outputId": "b1372776-8e59-4d9b-a39c-00a51ef20df1"
      },
      "id": "BlQpFP2ltzs9",
      "execution_count": 8,
      "outputs": [
        {
          "output_type": "stream",
          "name": "stdout",
          "text": [
            "Zero_R: \n",
            "\n",
            "\n",
            "                   precision    recall  f1-score   support\n",
            "\n",
            "       Brown frog       0.00      0.00      0.00        21\n",
            "      Common toad       0.00      0.00      0.00         2\n",
            "Fire-bellied toad       0.00      0.00      0.00         1\n",
            "       Green frog       0.54      1.00      0.70        29\n",
            "        Tree frog       0.00      0.00      0.00         1\n",
            "\n",
            "         accuracy                           0.54        54\n",
            "        macro avg       0.11      0.20      0.14        54\n",
            "     weighted avg       0.29      0.54      0.38        54\n",
            "\n",
            "------\n",
            "GNB: \n",
            "\n",
            "\n",
            "                   precision    recall  f1-score   support\n",
            "\n",
            "       Brown frog       0.53      0.38      0.44        21\n",
            "      Common toad       0.12      0.50      0.20         2\n",
            "Fire-bellied toad       0.00      0.00      0.00         1\n",
            "       Green frog       0.71      0.41      0.52        29\n",
            "        Tree frog       0.00      0.00      0.00         1\n",
            "\n",
            "         accuracy                           0.39        54\n",
            "        macro avg       0.27      0.26      0.23        54\n",
            "     weighted avg       0.59      0.39      0.46        54\n",
            "\n",
            "------\n",
            "MNB: \n",
            "\n",
            "\n",
            "                   precision    recall  f1-score   support\n",
            "\n",
            "       Brown frog       0.40      0.19      0.26        21\n",
            "      Common toad       0.06      0.50      0.10         2\n",
            "Fire-bellied toad       0.00      0.00      0.00         1\n",
            "       Green frog       0.71      0.52      0.60        29\n",
            "        Tree frog       0.00      0.00      0.00         1\n",
            "\n",
            "         accuracy                           0.37        54\n",
            "        macro avg       0.23      0.24      0.19        54\n",
            "     weighted avg       0.54      0.37      0.43        54\n",
            "\n",
            "------\n",
            "BNB: \n",
            "\n",
            "\n",
            "                   precision    recall  f1-score   support\n",
            "\n",
            "       Brown frog       0.63      0.57      0.60        21\n",
            "      Common toad       0.00      0.00      0.00         2\n",
            "Fire-bellied toad       0.00      0.00      0.00         1\n",
            "       Green frog       0.65      0.76      0.70        29\n",
            "        Tree frog       0.00      0.00      0.00         1\n",
            "\n",
            "         accuracy                           0.63        54\n",
            "        macro avg       0.26      0.27      0.26        54\n",
            "     weighted avg       0.59      0.63      0.61        54\n",
            "\n",
            "------\n"
          ]
        }
      ]
    },
    {
      "cell_type": "markdown",
      "id": "5f3936c2-b548-4825-8028-c5b3f3800b63",
      "metadata": {
        "id": "5f3936c2-b548-4825-8028-c5b3f3800b63"
      },
      "source": [
        "It is apparent from the obtained results, that the BNB model had the highest overall accuracy, with the mean accuracy of 0.63, followed by Zero-R (0.59), GNB (0.40), and MNB (0.35). \n",
        "\n",
        "We note that accuracy shouldn't always be considered as the best evaluation metric, since it can be misleading when the classes of the data are imbalanced.\n",
        "In such cases, a model that simply predicts the majority class for all instances can achieve a high accuracy, but it may not be useful in practice.\n",
        "Metrics such as Precision and Recall provide more detailed information about the performance of a classification model compared to accuracy, and in the case of imbalanced data, may give us much more insight. Therefore, to better understand the performance of each classification model on each of the different classes, we can look at the precision, recall, and F1-score performance metrics \n",
        "\n",
        "\n",
        "By analyzing the classification report for each of the models in one round, we can gather useful insight by comparing the overall performance of each model.\n",
        "\n",
        "For the ZeroR model, it can be seen that all of the precision/recall values for classes besides Green frog are being considered as 0. This is due to the fact that ZeroR basically predicts the current class as being the class that is seen the most in the training data (which in this case, is Green frog). If we look at the recall value for this class in ZeroR, we see that it is 1. We know that recall measures the percentage of true positive cases that were correctly identified by a classification model (with the formula being TP / (TP + FN)) and since all classes are being predicted as positive for the Green frog class (meaning there are no false negatives), the resulting recall will be TP/TP = 1. This simple model achieving a mean accuracy of 59% suggests that the data is highly imbalanced and a very high percentage of the instances are labelled as being Green Frogs. \n",
        "\n",
        "\n",
        "Even though the BNB model has the highest overall accuracy, it's apparent that it is showing zero precision and recall for Common toad, Fire-bellied toad, and Tree frog classes, meaning that it has failed to correctly identify any instances of these particular classes.\n",
        "So overall, this model only has a high rate of successful predictions for Brown Frog and Green Frog. As we have previously gathered, the data is highly imbalanced and since the BNB model is only successfuly predicting these two classes, we can conclude this model might not be that good of a classifier that the achieved accuracy would suggests, since we are looking for model which is able to achieve predicting all classes with a reasonable success rate. \n",
        "\n",
        "Both the GNB and MNB models have relatively high precision and recall values for the Green frog class but lower values for all other classes. This suggests that the these models are good at correctly identifying instances of the Green frog class but not as good at identifying instances of other classes. Having said that, this model at least has non-zero precision and recall values for the Common toad class, which means they might generalize a bit better compared to the BNB model.  \n",
        "\n",
        "\n",
        "Overall, it seems that none of the models are particularly good at correctly identifying instances of all classes. The BNB model has the best overall performance in terms of precision and recall for both the Green frog and Brown frog classes but fails to correctly identify any instances of the Common toad, Fire-bellied toad, and Tree frog classes. This is while the GNB and MNB models have low non-zero precision and recall values for Common toad, alongside their values for Brown Frog and Tree Frog, indicating that they might have a slight edge in performance for predicting this specific class compared to BNB. "
      ]
    },
    {
      "cell_type": "markdown",
      "id": "21ec6a7b",
      "metadata": {
        "id": "21ec6a7b"
      },
      "source": [
        "## Question 2 [5 marks]\n",
        "\n",
        "**Q2.1.** Divide the `data1` into 70% train and 30% test splits for 10 rounds, set the `random_state` equal to the loop counter. Then, train and test **K-Nearest Neighbor algorithms (with K values of 1, 5, and 20)**, using Euclidean distance as the distance metric and maximum vote (no weighting) to determine the label. Finally, report the average accuracy of the KNN models over the 10 runs. **[1 mark]**"
      ]
    },
    {
      "cell_type": "code",
      "execution_count": 9,
      "id": "1ef637cf",
      "metadata": {
        "id": "1ef637cf",
        "colab": {
          "base_uri": "https://localhost:8080/"
        },
        "outputId": "93d5d9ad-a244-40e0-e96e-7475607081c5"
      },
      "outputs": [
        {
          "output_type": "stream",
          "name": "stdout",
          "text": [
            "Accuracy of KNN(1): 0.56\n",
            "Accuracy of KNN(5): 0.6\n",
            "Accuracy of KNN(20): 0.61\n"
          ]
        }
      ],
      "source": [
        "KNN1_Acc_1 = []\n",
        "KNN5_Acc_1 = []\n",
        "KNN20_Acc_1 = []\n",
        "\n",
        "\n",
        "from sklearn.neighbors import KNeighborsClassifier\n",
        "\n",
        "for i in range(10):\n",
        "  X_train, X_test, y_train, y_test = train_test_split(X, y, test_size=0.3, random_state=i)\n",
        "\n",
        "\n",
        "  # Training/testing the KNN1 model\n",
        "  knn1 = KNeighborsClassifier(n_neighbors=1, weights='uniform', metric='euclidean')\n",
        "  knn1.fit(X_train, y_train)\n",
        "  KNN1_Acc_1.append(knn1.score(X_test, y_test))\n",
        "\n",
        "  # Training/testing the KNN5 model\n",
        "  knn5 = KNeighborsClassifier(n_neighbors=5, weights='uniform', metric='euclidean')\n",
        "  knn5.fit(X_train, y_train)\n",
        "  KNN5_Acc_1.append(knn5.score(X_test, y_test))\n",
        "\n",
        "  # Training/testing the KNN20 model\n",
        "  knn20 = KNeighborsClassifier(n_neighbors=20, weights='uniform', metric='euclidean')\n",
        "  knn20.fit(X_train, y_train)\n",
        "  KNN20_Acc_1.append(knn20.score(X_test, y_test))\n",
        "\n",
        "\n",
        "\n",
        "            \n",
        "print(\"Accuracy of KNN(1):\", np.mean(KNN1_Acc_1).round(2))\n",
        "print(\"Accuracy of KNN(5):\", np.mean(KNN5_Acc_1).round(2))\n",
        "print(\"Accuracy of KNN(20):\", np.mean(KNN20_Acc_1).round(2))\n"
      ]
    },
    {
      "cell_type": "markdown",
      "id": "7de4822d",
      "metadata": {
        "id": "7de4822d"
      },
      "source": [
        "**Q2.2.A.** Create a function called `normalise` that takes the features of the dataset as a pandas DataFrame and scales all numeric attributes to the range of 0-1. You can either use `MinMaxScaler` from the `sklearn.preprocessing` library or implement the normalization step yourself.\n",
        "**B.** For 10 rounds divide the normalised \"data1\" into 70% train and 30% test splits using set the `random_state` equal to the loop counter, and run the KNN models (k=1,5 and 20). Report the average accuracy of your KNN models over these 10 runs. **[1 mark]**"
      ]
    },
    {
      "cell_type": "code",
      "execution_count": 10,
      "id": "ed8e87f9-76bf-44e2-a7bc-305bdcd1616d",
      "metadata": {
        "id": "ed8e87f9-76bf-44e2-a7bc-305bdcd1616d"
      },
      "outputs": [],
      "source": [
        "from sklearn.preprocessing import MinMaxScaler\n",
        "# preprocessing \n",
        "def normalise(X):\n",
        "    scaler = MinMaxScaler()\n",
        "    numeric_cols = X.select_dtypes(include=[np.number]).columns\n",
        "    X[numeric_cols] = scaler.fit_transform(X[numeric_cols])\n",
        "    return X"
      ]
    },
    {
      "cell_type": "code",
      "execution_count": 11,
      "id": "0859a139",
      "metadata": {
        "id": "0859a139",
        "colab": {
          "base_uri": "https://localhost:8080/"
        },
        "outputId": "a5231aca-9736-47b7-a2f2-7e0044a6b9c1"
      },
      "outputs": [
        {
          "output_type": "stream",
          "name": "stdout",
          "text": [
            "Accuracy of KNN(1): 0.54\n",
            "Accuracy of KNN(5): 0.58\n",
            "Accuracy of KNN(20): 0.63\n"
          ]
        }
      ],
      "source": [
        "######################################## POSSIBLE SOLUTION #############################################\n",
        "\n",
        "KNN1_Acc_2 = []\n",
        "KNN5_Acc_2 = []\n",
        "KNN20_Acc_2 = []\n",
        "\n",
        "X_scaled = normalise(X)\n",
        "\n",
        "round_num = 2\n",
        "\n",
        "round_reports_d1_knn = {}\n",
        "\n",
        "for i in range(10):\n",
        "  X_train, X_test, y_train, y_test = train_test_split(X_scaled, y, test_size=0.3, random_state=i)\n",
        "\n",
        "\n",
        "  # Training/testing the KNN1 model\n",
        "  knn1 = KNeighborsClassifier(n_neighbors=1, weights='uniform', metric='euclidean')\n",
        "  knn1.fit(X_train, y_train)\n",
        "  y_pred = knn1.predict(X_test)\n",
        "  KNN1_Acc_2.append(knn1.score(X_test, y_test))\n",
        "\n",
        "  if i == round_num:\n",
        "        round_reports_d1_knn[\"KNN1\"] = classification_report(y_test, y_pred, labels=np.unique(y_test))\n",
        "\n",
        "  # Training/testing the KNN5 model\n",
        "  knn5 = KNeighborsClassifier(n_neighbors=5, weights='uniform', metric='euclidean')\n",
        "  knn5.fit(X_train, y_train)\n",
        "  y_pred = knn5.predict(X_test)\n",
        "  KNN5_Acc_2.append(knn5.score(X_test, y_test))\n",
        "\n",
        "  if i == round_num:\n",
        "        round_reports_d1_knn[\"KNN5\"] = classification_report(y_test, y_pred, labels=np.unique(y_test))\n",
        "\n",
        "  # Training/testing the KNN20 model\n",
        "  knn20 = KNeighborsClassifier(n_neighbors=20, weights='uniform', metric='euclidean')\n",
        "  knn20.fit(X_train, y_train)\n",
        "  y_pred = knn20.predict(X_test)\n",
        "  KNN20_Acc_2.append(knn20.score(X_test, y_test))\n",
        "\n",
        "  if i == round_num:\n",
        "        round_reports_d1_knn[\"KNN20\"] = classification_report(y_test, y_pred, labels=np.unique(y_test))\n",
        "\n",
        "\n",
        "\n",
        "            \n",
        "print(\"Accuracy of KNN(1):\", np.mean(KNN1_Acc_2).round(2))\n",
        "print(\"Accuracy of KNN(5):\", np.mean(KNN5_Acc_2).round(2))\n",
        "print(\"Accuracy of KNN(20):\", np.mean(KNN20_Acc_2).round(2))\n"
      ]
    },
    {
      "cell_type": "markdown",
      "id": "8357cd59",
      "metadata": {
        "id": "8357cd59"
      },
      "source": [
        "**Q2.3** Compare the results of the KNN models (for each value of K) in Q2.1 and Q2.2, and discuss any differences you observe. Did the preprocessing step in Q2.2 improve the performance of the KNN models? Why or why not? **[3 marks]**"
      ]
    },
    {
      "cell_type": "markdown",
      "id": "d6dc7597",
      "metadata": {
        "id": "d6dc7597"
      },
      "source": [
        "If we compare the results of the KNN models, we can see that scaling the numeric features to be between the range of 0-1 did not improve the performance of the KNN models for K=1 and K=5. However in the case of K=20, it improved the performance. \n",
        "\n",
        "After scaling the features, For K=1, the accuracy decreased from 0.56 to 0.54. Similarly, for K=5, the accuracy decreased from 0.6 to 0.58. This suggests that in these two cases, scaling the features had a negative effect on the performace of the models.\n",
        "\n",
        "In the case of K=20, by scaling the features, the accuracy increased from 0.61 to 0.63, which suggests that scaling the features had a positive effect on the performance of this model.\n",
        "\n",
        "The main reason to scale the features before using KNN is to avoid the situation where some features with larger values have a negative influence on the distance calculations. Without scaling, features with larger values can dominate the distance calculations and make the algorithm less accurate. Generally, this scaling of features can help to ensure that the distances between samples are calculated more accurately. However, as we have seen with the our results, scaling doesn't necessarily lead to higher accuracy. In some cases, scaling can introduce additional noise or distortions in the data, which can lead to worse performance of KNN.\n",
        "\n",
        "In our example, we saw that for small K values (K=1 or K=5) scaling had a negative effect. When K is small, performance of KNN is very sensitive to the local structure of the data. This local structure is heavily modified after applying scaling, thus having potential to cause worse prediction results on the data. On the other hand, when K is large (K=20 in our case), the performance of KNN is less dependant on the local structure, and captures more of the general trend of the data, thus leading to better accuracy results. \n",
        "\n",
        "\n"
      ]
    },
    {
      "cell_type": "markdown",
      "id": "6533050f",
      "metadata": {
        "id": "6533050f"
      },
      "source": [
        "## Question 3 [5 marks]\n",
        "\n",
        "**Q3.1.** Read the \"amphibians2.csv\" into `data2` and  \"amphibians1.csv\" into `data1_2`. Observe any differences in the values of the feature \"SR\" between these two datasets, and explain why you think these changes were made (provide your hypothesis). Use diagrams such a histograms or boxplots to check the distribution of the feature 'SR' before and after the change. **[2 marks]**"
      ]
    },
    {
      "cell_type": "code",
      "execution_count": 12,
      "id": "cf383bfa",
      "metadata": {
        "id": "cf383bfa"
      },
      "outputs": [],
      "source": [
        "data2 = pd.read_csv(\"drive/MyDrive/datasets/ML_A2/amphibians2.csv\")\n",
        "data1_2 = pd.read_csv(\"drive/MyDrive/datasets/ML_A2/amphibians1.csv\")"
      ]
    },
    {
      "cell_type": "code",
      "source": [
        "# by printing both dataframes with print(data1); print(\"\\n------\\n\"); print(data2)\n",
        "# it appears that the dataframes match each other, but only some of the rows have been dropped in data2.. \n",
        "# let's find the rows that have been dropped [uncomment following line to see instances of dropped rows]\n",
        "\n",
        "print(pd.concat([data1_2, data2]).drop_duplicates(keep=False, inplace=False))\n",
        "\n",
        "# Creating a figure with two subplots\n",
        "fig, axs = plt.subplots(1, 2, figsize=(10, 5))\n",
        "\n",
        "axs[0].hist(data1_2['SR'], bins=20)\n",
        "axs[0].set_title('Distribution of SR in data1_2')\n",
        "axs[0].set_xlabel('SR')\n",
        "axs[0].set_ylabel('Frequency')\n",
        "\n",
        "axs[1].hist(data2['SR'], bins=20)\n",
        "axs[1].set_title('Distribution of SR in data2')\n",
        "axs[1].set_xlabel('SR')\n",
        "axs[1].set_ylabel('Frequency')\n",
        "\n",
        "# Show the plots\n",
        "plt.show()"
      ],
      "metadata": {
        "colab": {
          "base_uri": "https://localhost:8080/",
          "height": 713
        },
        "id": "b1IsTlUNZjF7",
        "outputId": "b99ff320-4612-49c7-9e52-ed23e8122340"
      },
      "id": "b1IsTlUNZjF7",
      "execution_count": 19,
      "outputs": [
        {
          "output_type": "stream",
          "name": "stdout",
          "text": [
            "        SR  NR  TR  VR  SUR1  SUR2  SUR3  UR  FR   OR  RR  BR  MR  CR  \\\n",
            "38   80000   1  12   4     2     2     7   0   0  100   5   5   0   1   \n",
            "45   40000   1   1   1     2     2     6   3   2  100   5   0   0   1   \n",
            "98   80000   2   1   1     7     6     2   3   4  100   2   2   0   1   \n",
            "100  50000  10   1   4     2    10     6   0   0  100   2   2   0   1   \n",
            "129  40000   4   1   1    10     7     6   3   4  100   1   1   0   1   \n",
            "\n",
            "     frog class  \n",
            "38   Green frog  \n",
            "45   Green frog  \n",
            "98   Green frog  \n",
            "100  Green frog  \n",
            "129  Green frog  \n"
          ]
        },
        {
          "output_type": "display_data",
          "data": {
            "text/plain": [
              "<Figure size 1000x500 with 2 Axes>"
            ],
            "image/png": "[encoded data removed]"
          },
          "metadata": {}
        }
      ]
    },
    {
      "cell_type": "markdown",
      "id": "76bfddfd-cc6b-47d7-9d26-a3d699ac5d10",
      "metadata": {
        "id": "76bfddfd-cc6b-47d7-9d26-a3d699ac5d10"
      },
      "source": [
        "by analyzing the data and the two distribution histograms for the \"SR\" feature, it is apparent that in data2, all of the SR values higher than around 35000 were dropped. In the histogram for data1 we can see that only a very small portion of this data has values higher than 35000, with most of the distribution coming from values less than this number.\n",
        "\n",
        "One of the main reasons to consider dropping rows with high \"SR\" values is that by doing this, the data may be more representative of the general population or distribution of the feature, without being skewed by extreme values."
      ]
    },
    {
      "cell_type": "markdown",
      "id": "ec583024",
      "metadata": {
        "id": "ec583024"
      },
      "source": [
        "**Q3.2** \n",
        "For 10 rounds split the `data2` and `data1_2` dataset into 70% training and 30% testing sets use the `random_state` equal to the loop counter. Train and test two **decision tree** classifier with all default hyper-parameters: one with `data1_2` and one with `data2`. Calculate and report the average accuracy of both models for 10 runs. **[1 mark]**"
      ]
    },
    {
      "cell_type": "code",
      "execution_count": 14,
      "id": "fca15dcd",
      "metadata": {
        "id": "fca15dcd"
      },
      "outputs": [],
      "source": [
        "y1_2 = data1_2.iloc[:, -1]\n",
        "X1_2 =  data1_2.iloc[:, :-1]\n",
        "\n",
        "y2 = data2.iloc[:, -1]\n",
        "X2 = data2.iloc[:, :-1]\n"
      ]
    },
    {
      "cell_type": "code",
      "execution_count": 15,
      "id": "18064b7e-be1e-40ba-9197-100b8c236ce9",
      "metadata": {
        "id": "18064b7e-be1e-40ba-9197-100b8c236ce9",
        "colab": {
          "base_uri": "https://localhost:8080/"
        },
        "outputId": "3ea72261-a519-4762-b4fe-4b0286b3440b"
      },
      "outputs": [
        {
          "output_type": "stream",
          "name": "stdout",
          "text": [
            "Accuracy of Decision Tree \tdata1_2: 0.55 \tdata2: 0.53\n"
          ]
        }
      ],
      "source": [
        "DT_Acc_1_2 = []\n",
        "DT_Acc_2 = []\n",
        "\n",
        "round_num = 2\n",
        "round_reports = {}\n",
        "\n",
        "\n",
        "for i in range(10):\n",
        "\n",
        "    X_train1_2, X_test1_2, y_train1_2, y_test1_2 = train_test_split(X1_2, y1_2, test_size=0.3, random_state=i)\n",
        "\n",
        "    X_train2, X_test2, y_train2, y_test2 = train_test_split(X2, y2, test_size=0.3, random_state=i)\n",
        "    \n",
        "\n",
        "    classifier = DecisionTreeClassifier()\n",
        "\n",
        "    # Training/testing the Decision Tree model on data1_2\n",
        "    classifier.fit(X_train1_2, y_train1_2)\n",
        "    y_pred1_2 = classifier.predict(X_test1_2)\n",
        "  \n",
        "    DT_Acc_1_2.append(accuracy_score(y_test1_2, y_pred1_2))\n",
        "\n",
        "    if i == round_num:\n",
        "      round_reports[\"data1_2\"] = classification_report(y_test1_2, y_pred1_2, labels=np.unique(y_test1_2))\n",
        "\n",
        "    # Training/testing the Decision Tree model on data2\n",
        "    \n",
        "    classifier.fit(X_train2, y_train2)\n",
        "    y_pred2 = classifier.predict(X_test2)\n",
        "    DT_Acc_2.append(accuracy_score(y_test2, y_pred2))\n",
        "\n",
        "    if i == round_num:\n",
        "      round_reports[\"data2\"] = classification_report(y_test2, y_pred2, labels=np.unique(y_test2))\n",
        "\n",
        "\n",
        "\n",
        "\n",
        "\n",
        "print(\"Accuracy of Decision Tree \\tdata1_2:\", np.mean(DT_Acc_1_2).round(2),\"\\tdata2:\", np.mean(DT_Acc_2).round(2))"
      ]
    },
    {
      "cell_type": "markdown",
      "id": "f82dd7fb",
      "metadata": {
        "id": "f82dd7fb"
      },
      "source": [
        "**Q3.3** Compare and analyze the performance of the **decision tree** classifier on `data1_2` and `data2`. Discuss any differences or similarities that you observe in the performance of these models. Does the change made to the dataset improve the performance of the model? Explain why or why not and elaborate on your hypothesis from Q3.1. **[2 marks]** </br>*NOTE:  You may need to compare other performance metrics of these models, such as precision and recall of each class label, to gain a better understanding of their performance. You can use the `classification_report` from `sklearn.metrics` for this matter and check the performance of the classifiers for one round.*"
      ]
    },
    {
      "cell_type": "code",
      "source": [
        "for k, v in round_reports.items():\n",
        "    print(f\"{k}: \\n\\n\")\n",
        "    print(v)\n",
        "    print(\"------\")"
      ],
      "metadata": {
        "colab": {
          "base_uri": "https://localhost:8080/"
        },
        "id": "d2yOGLqbhc4A",
        "outputId": "0d03f675-7f90-418c-e141-5c7514fd222c"
      },
      "id": "d2yOGLqbhc4A",
      "execution_count": 16,
      "outputs": [
        {
          "output_type": "stream",
          "name": "stdout",
          "text": [
            "data1_2: \n",
            "\n",
            "\n",
            "                   precision    recall  f1-score   support\n",
            "\n",
            "       Brown frog       0.53      0.43      0.47        21\n",
            "      Common toad       0.00      0.00      0.00         2\n",
            "Fire-bellied toad       0.00      0.00      0.00         1\n",
            "       Green frog       0.61      0.69      0.65        29\n",
            "        Tree frog       0.00      0.00      0.00         1\n",
            "\n",
            "         accuracy                           0.54        54\n",
            "        macro avg       0.23      0.22      0.22        54\n",
            "     weighted avg       0.53      0.54      0.53        54\n",
            "\n",
            "------\n",
            "data2: \n",
            "\n",
            "\n",
            "                   precision    recall  f1-score   support\n",
            "\n",
            "       Brown frog       0.56      0.50      0.53        18\n",
            "      Common toad       0.00      0.00      0.00         2\n",
            "Fire-bellied toad       0.00      0.00      0.00         1\n",
            "       Green frog       0.59      0.63      0.61        30\n",
            "        Tree frog       0.00      0.00      0.00         2\n",
            "\n",
            "         accuracy                           0.53        53\n",
            "        macro avg       0.23      0.23      0.23        53\n",
            "     weighted avg       0.53      0.53      0.53        53\n",
            "\n",
            "------\n"
          ]
        }
      ]
    },
    {
      "cell_type": "markdown",
      "id": "8b0e6985",
      "metadata": {
        "id": "8b0e6985"
      },
      "source": [
        "It is apparent that the applied change to the data does not improve performance of the model. \n",
        "\n",
        "Even though in my answer to Q3.1 it was pointed out that dropping rows with high \"SR\" values might lead to the data being more representative of the general population without being skewed by extreme values of this feature, however, it must be noted that if we consider entire rows as \"outliers\" based on only one single feature and then drop those outliers, we might be losing valuable information provided by the other feature values for the dropped rows. This is exactly what is happening in our case, thus leading to an even worse mean accuracy for data2.\n",
        "\n",
        "It is worth mentioning that if a lot of rows are considered as outliers and are then dropped, then we may also introduce higher overfitting when training our data, just due to the fact that there is less data to train on. Although This may not be the case for our data, since very few instances were dropped.\n",
        "\n",
        "By analyzing the classification report of data1_2 and data2 for a specific round, we can see that the DT model is only able to predict values for the Green Frog and Brown Frog classes for both of the datasets, since the precision and recall values for the other classes are 0. The model is slightly better at predicting the Brown frog class for data2 (due to having higher precision/recall/f1-score values), however, it is performing noticably worse at predicting the Green frog class. If we take a look at the class labels of the dropped instances, we will notice that all of them belong to the Green Frog class, so valuable information regarding that class is being discarded, hence the reason for the lower precision/recall values in data2. Regarding the slight performance increase in predicting the Brown frog class using the DT model, this can be due to the fact that after dropping the instances, more Brown Frog values will remaing in the training set, thus the model will become a bit more biased towards predicting the values for this class correctly.  \n"
      ]
    },
    {
      "cell_type": "markdown",
      "id": "dc2419db",
      "metadata": {
        "id": "dc2419db"
      },
      "source": [
        "## Question 4\n",
        "\n",
        "**Q4.1** Read the \"amphibians3.csv\" into data3. Use histogram diagrams to compare the distribution of class labels between `data1` and `data3`. Observe the changes on the distribution of the class labels and explain in your own words why you think these changes have been made.**[2 marks]**"
      ]
    },
    {
      "cell_type": "code",
      "execution_count": null,
      "id": "8ad0ce1b",
      "metadata": {
        "id": "8ad0ce1b",
        "colab": {
          "base_uri": "https://localhost:8080/",
          "height": 507
        },
        "outputId": "8f61d25e-48f6-47e7-bbf0-9a02de6ba044"
      },
      "outputs": [
        {
          "output_type": "display_data",
          "data": {
            "text/plain": [
              "<Figure size 1000x500 with 2 Axes>"
            ],
            "image/png": "[encoded data removed]"
          },
          "metadata": {}
        }
      ],
      "source": [
        "data3 = pd.read_csv(\"drive/MyDrive/datasets/ML_A2/amphibians3.csv\")\n",
        "\n",
        "\n",
        "\n",
        "fig, axs = plt.subplots(1, 2, figsize=(10, 5))\n",
        "\n",
        "data1['frog class'].value_counts().plot(kind='bar', label='data1', ax=axs[0])\n",
        "axs[0].set_title('Distribution of Class Labels in data1')\n",
        "axs[0].set_xlabel('Class Label')\n",
        "axs[0].set_ylabel('Frequency')\n",
        "\n",
        "data3['frog class'].value_counts().plot(kind='bar', label='data3', ax=axs[1])\n",
        "axs[1].set_title('Distribution of Class Labels in data3')\n",
        "axs[1].set_xlabel('Class Label')\n",
        "axs[1].set_ylabel('Frequency')\n",
        "\n",
        "\n",
        "plt.tight_layout()\n",
        "plt.show()"
      ]
    },
    {
      "cell_type": "markdown",
      "source": [
        "the histogram for data1 shows uneven class label distribution for the 5 classes, with most of the labels coming from the classes \"Green Frog\" and \"Brown Frog\". For data3, however, we have an entirely even distribution among the class labels (with each of the 5 classes having 36 labels associated to them). The data gathered in data3 has potential to be more useful for classification compared to data1, since the evenly distributed class labels will help in preventing bias towards certain classes. This can help ensure that the model is trained on a representative sample of the data."
      ],
      "metadata": {
        "id": "88jacPf__pgz"
      },
      "id": "88jacPf__pgz"
    },
    {
      "cell_type": "markdown",
      "id": "1f81f752",
      "metadata": {
        "id": "1f81f752"
      },
      "source": [
        "**Q4.2** Use the same encoding technique as used in Q1.1 to encode the `data3` dataset and apply the same normalization technique as used in Q2.1 to normalise the data. For 10 rounds, split the encoded and normalized data3 into 70% training and 30% testing sets,  set the `random_state` equal to the loop counter. Train and test the following models using `data3`: **[1 mark]**\n",
        "- Zero-R\n",
        "- K-Nearest Neighbour (K = 1, 5 and 20) \n",
        "\n",
        "Calculate the average accuracy of the models for 10 runs and report the results.\n"
      ]
    },
    {
      "cell_type": "code",
      "execution_count": null,
      "id": "b9e5ba46",
      "metadata": {
        "id": "b9e5ba46"
      },
      "outputs": [],
      "source": [
        "y3 = data3.iloc[:, -1]\n",
        "X3 = data3.iloc[:, :-1]"
      ]
    },
    {
      "cell_type": "code",
      "source": [
        "# print(data3)\n",
        "# print(data1)"
      ],
      "metadata": {
        "id": "dlniU5DEIqkC"
      },
      "id": "dlniU5DEIqkC",
      "execution_count": null,
      "outputs": []
    },
    {
      "cell_type": "code",
      "execution_count": null,
      "id": "5b9fad1b-d2fc-4adc-818b-9cee1c204bc7",
      "metadata": {
        "id": "5b9fad1b-d2fc-4adc-818b-9cee1c204bc7",
        "colab": {
          "base_uri": "https://localhost:8080/"
        },
        "outputId": "e36d3439-cf16-496b-9e8a-cd41dbdbb305"
      },
      "outputs": [
        {
          "output_type": "stream",
          "name": "stdout",
          "text": [
            "Accuracy of ZeroR: \tdata1: 0.59 \tdata3: 0.14\n",
            "Accuracy of KNN(1): \tdata1: 0.54 \tdata3: 0.76\n",
            "Accuracy of KNN(5): \tdata1: 0.58 \tdata3: 0.65\n",
            "Accuracy of KNN(20): \tdata1: 0.63 \tdata3: 0.44\n"
          ]
        }
      ],
      "source": [
        "ZeroR_Acc_3 = []\n",
        "KNN1_Acc_3 = []\n",
        "KNN5_Acc_3 = []\n",
        "KNN20_Acc_3 = []\n",
        "\n",
        "X3_updated = normalise(encode(X3))\n",
        "\n",
        "round_num = 2\n",
        "\n",
        "round_reports_d3_knn = {}\n",
        "\n",
        "for i in range(10):\n",
        "\n",
        "  X_train3, X_test3, y_train3, y_test3 = train_test_split(X3_updated, y3,  test_size=0.3, random_state=i)\n",
        "   \n",
        "\n",
        "  # Training/testing the Zero-R model\n",
        "  zero_r = DummyClassifier(strategy='most_frequent')\n",
        "  zero_r.fit(X_train3, y_train3)\n",
        "  y_pred3 = zero_r.predict(X_test3)\n",
        "  ZeroR_Acc_3.append(accuracy_score(y_test3, y_pred3))\n",
        "\n",
        "  # Training/testing the KNN1 model\n",
        "  knn1 = KNeighborsClassifier(n_neighbors=1, weights='uniform', metric='euclidean')\n",
        "  knn1.fit(X_train3, y_train3)\n",
        "  y_pred3 = knn1.predict(X_test3)\n",
        "  KNN1_Acc_3.append(knn1.score(X_test3, y_test3))\n",
        "\n",
        "  if i == round_num:\n",
        "        round_reports_d3_knn[\"KNN1\"] = classification_report(y_test3, y_pred3, labels=np.unique(y_test3))\n",
        "\n",
        "  # Training/testing the KNN5 model\n",
        "  knn5 = KNeighborsClassifier(n_neighbors=5, weights='uniform', metric='euclidean')\n",
        "  knn5.fit(X_train3, y_train3)\n",
        "  y_pred3 = knn5.predict(X_test3)\n",
        "  KNN5_Acc_3.append(knn5.score(X_test3, y_test3))\n",
        "\n",
        "  if i == round_num:\n",
        "        round_reports_d3_knn[\"KNN5\"] = classification_report(y_test3, y_pred3, labels=np.unique(y_test3))\n",
        "\n",
        "\n",
        "  # Training/testing the KNN20 model\n",
        "  knn20 = KNeighborsClassifier(n_neighbors=20, weights='uniform', metric='euclidean')\n",
        "  knn20.fit(X_train3, y_train3)\n",
        "  y_pred3 = knn20.predict(X_test3)\n",
        "  KNN20_Acc_3.append(knn20.score(X_test3, y_test3))\n",
        "\n",
        "  if i == round_num:\n",
        "        round_reports_d3_knn[\"KNN20\"] = classification_report(y_test3, y_pred3, labels=np.unique(y_test3))\n",
        "\n",
        "\n",
        "\n",
        "\n",
        "print(\"Accuracy of ZeroR: \\tdata1:\", np.mean(ZeroR_Acc_1).round(2),\"\\tdata3:\",np.mean(ZeroR_Acc_3).round(2))\n",
        "print(\"Accuracy of KNN(1): \\tdata1:\", np.mean(KNN1_Acc_2).round(2),\"\\tdata3:\", np.mean(KNN1_Acc_3).round(2))\n",
        "print(\"Accuracy of KNN(5): \\tdata1:\", np.mean(KNN5_Acc_2).round(2),\"\\tdata3:\", np.mean(KNN5_Acc_3).round(2))\n",
        "print(\"Accuracy of KNN(20): \\tdata1:\", np.mean(KNN20_Acc_2).round(2),\"\\tdata3:\", np.mean(KNN20_Acc_3).round(2))"
      ]
    },
    {
      "cell_type": "code",
      "source": [
        "print(\"DATA 1\\n\")\n",
        "for k, v in round_reports_d1_knn.items():\n",
        "    print(f\"{k}: \\n\\n\")\n",
        "    print(v)\n",
        "    print(\"------\")\n",
        "\n",
        "print(\"\\n---\\n\")\n",
        "\n",
        "print(\"DATA 3\\n\")\n",
        "for k, v in round_reports_d3_knn.items():\n",
        "    print(f\"{k}: \\n\\n\")\n",
        "    print(v)\n",
        "    print(\"------\")"
      ],
      "metadata": {
        "colab": {
          "base_uri": "https://localhost:8080/"
        },
        "id": "417INTY2Gqgv",
        "outputId": "461a5362-566d-4d7f-d758-1ec6cc47c27f"
      },
      "id": "417INTY2Gqgv",
      "execution_count": null,
      "outputs": [
        {
          "output_type": "stream",
          "name": "stdout",
          "text": [
            "DATA 1\n",
            "\n",
            "KNN1: \n",
            "\n",
            "\n",
            "                   precision    recall  f1-score   support\n",
            "\n",
            "       Brown frog       0.50      0.43      0.46        21\n",
            "      Common toad       0.00      0.00      0.00         2\n",
            "Fire-bellied toad       0.00      0.00      0.00         1\n",
            "       Green frog       0.63      0.66      0.64        29\n",
            "        Tree frog       0.00      0.00      0.00         1\n",
            "\n",
            "         accuracy                           0.52        54\n",
            "        macro avg       0.23      0.22      0.22        54\n",
            "     weighted avg       0.53      0.52      0.53        54\n",
            "\n",
            "------\n",
            "KNN5: \n",
            "\n",
            "\n",
            "                   precision    recall  f1-score   support\n",
            "\n",
            "       Brown frog       0.53      0.48      0.50        21\n",
            "      Common toad       0.00      0.00      0.00         2\n",
            "Fire-bellied toad       0.00      0.00      0.00         1\n",
            "       Green frog       0.60      0.72      0.66        29\n",
            "        Tree frog       0.00      0.00      0.00         1\n",
            "\n",
            "         accuracy                           0.57        54\n",
            "        macro avg       0.23      0.24      0.23        54\n",
            "     weighted avg       0.53      0.57      0.55        54\n",
            "\n",
            "------\n",
            "KNN20: \n",
            "\n",
            "\n",
            "                   precision    recall  f1-score   support\n",
            "\n",
            "       Brown frog       0.60      0.43      0.50        21\n",
            "      Common toad       0.00      0.00      0.00         2\n",
            "Fire-bellied toad       0.00      0.00      0.00         1\n",
            "       Green frog       0.62      0.83      0.71        29\n",
            "        Tree frog       0.00      0.00      0.00         1\n",
            "\n",
            "         accuracy                           0.61        54\n",
            "        macro avg       0.24      0.25      0.24        54\n",
            "     weighted avg       0.56      0.61      0.57        54\n",
            "\n",
            "------\n",
            "\n",
            "---\n",
            "\n",
            "DATA 3\n",
            "\n",
            "KNN1: \n",
            "\n",
            "\n",
            "                   precision    recall  f1-score   support\n",
            "\n",
            "       Brown frog       0.27      0.30      0.29        10\n",
            "      Common toad       0.83      1.00      0.91        10\n",
            "Fire-bellied toad       0.82      1.00      0.90         9\n",
            "       Green frog       0.50      0.23      0.32        13\n",
            "        Tree frog       0.86      1.00      0.92        12\n",
            "\n",
            "         accuracy                           0.69        54\n",
            "        macro avg       0.66      0.71      0.67        54\n",
            "     weighted avg       0.65      0.69      0.65        54\n",
            "\n",
            "------\n",
            "KNN5: \n",
            "\n",
            "\n",
            "                   precision    recall  f1-score   support\n",
            "\n",
            "       Brown frog       0.33      0.10      0.15        10\n",
            "      Common toad       0.62      1.00      0.77        10\n",
            "Fire-bellied toad       0.69      1.00      0.82         9\n",
            "       Green frog       0.25      0.08      0.12        13\n",
            "        Tree frog       0.67      1.00      0.80        12\n",
            "\n",
            "         accuracy                           0.61        54\n",
            "        macro avg       0.51      0.64      0.53        54\n",
            "     weighted avg       0.50      0.61      0.51        54\n",
            "\n",
            "------\n",
            "KNN20: \n",
            "\n",
            "\n",
            "                   precision    recall  f1-score   support\n",
            "\n",
            "       Brown frog       0.00      0.00      0.00        10\n",
            "      Common toad       0.33      0.20      0.25        10\n",
            "Fire-bellied toad       0.25      1.00      0.40         9\n",
            "       Green frog       0.00      0.00      0.00        13\n",
            "        Tree frog       0.50      0.42      0.45        12\n",
            "\n",
            "         accuracy                           0.30        54\n",
            "        macro avg       0.22      0.32      0.22        54\n",
            "     weighted avg       0.21      0.30      0.21        54\n",
            "\n",
            "------\n"
          ]
        }
      ]
    },
    {
      "cell_type": "markdown",
      "id": "c4249859",
      "metadata": {
        "id": "c4249859"
      },
      "source": [
        "**Q4.3** Discuss any differences you observe between the results of these KNN classifiers on data1 (Q2.2) and data3. **[2 marks]** </br>*NOTE:  You may need to compare other performance metrics of these models, such as precision and recall of each class label, to gain a better understanding of their performance. You can use the `classification_report` from `sklearn.metrics` for this matter and check the performance of the classifiers for one round.* "
      ]
    },
    {
      "cell_type": "markdown",
      "id": "7067969a",
      "metadata": {
        "id": "7067969a"
      },
      "source": [
        "by analyzing the results, we can see that ZeroR performs very poorly on data3. As pointed out before, ZeroR simply predicts the most common class in the dataset, which in the case of data3, is not at all representative of the true class distribution in the test set. for this dataset, ZeroR is getting the answer correct approximately 1/5 of the times (since we have 5 classes). We note that this number won't be exact since we are not stratifying on the train/test split, so ratio of class labels in the test set can vary. For data1, since the data itself mostly consists of the class \"Green Frog\" and \"Brown Frog\", using ZeroR will give much better results, as expected. \n",
        "\n",
        "\n",
        "On the other hand, the KNN models generally perform better on data3. This suggests that there might be some separations in the data that KNN models are able to learn and utilize to make accurate predictions. However, as the value of K increases, the performance of the KNN models for data3 starts to deteriorate. This could be due to the fact that data3 has a balanced class distribution, and as K increases, the model starts to consider more and more neighbors when making predictions, which can lead to the inclusion of data which is irrelevant/noisy to the class that is desired to be predicted. \n",
        "\n",
        "This occurrence can be further emphasized by looking at the classification_report for a specific round of data3. As an example, in KNN20 the precision and recall values for the Brown frog and Green frog classes are lower than that seen in KNN1 and KNN5. A point worth noting is that for these two classes, the higher that K is considered, the lower the scores for these classes is becoming (eventually reaching 0 for K=20, meaning the model has failed to correctly identify any instances of these particular classes).This can be due to there being very high distance between the different instances labelled with these two classes, meaning instances with other class labels will be coming between them. Thus, when K increases, other classes are predicted.\n",
        "\n",
        "<br>\n",
        "\n",
        "\n",
        "For data1, however, as K increases, the performance of the KNN model is improving. This could be due to the fact that data1 has a class imbalance, with some classes having very few instances (as opposed the data3, where all classes have the same distributuion). As K increases for data1, the classifier starts to consider instances that are further away from the query instance, which may include instances from the classes with fewer instances. This then helps to improve the classification performance for these mentioned classes.\n",
        "\n",
        "This occurrence can be further emphasized by looking at the classification_report for a specific round of data1. The precision and recall values are always 0 in all three KNN models for all classes except \"Brown Frog\" and \"Tree Frog\". As K increases, the score values for these two classes are improving, meaning that a higher number of Brown Frogs are being correctly predicted as Brown Frogs, and a higher number of Green Frogs are being correctly predicted as Green Frogs.\n",
        "\n",
        "<br>\n",
        "\n",
        "Having considered the effects of increasing K when using KNN for both data1, and data3, it is apparent that a high value for K will result in the classifier working better for data1, and working worse for data3. \n",
        "\n",
        "\n",
        "\n",
        "\n",
        "\n",
        "\n",
        "\n",
        "\n"
      ]
    },
    {
      "cell_type": "markdown",
      "id": "55940e72-3414-4dab-be69-96a579354617",
      "metadata": {
        "id": "55940e72-3414-4dab-be69-96a579354617"
      },
      "source": [
        "# Authorship Declaration:\n",
        "\n",
        "   (1) I certify that the program contained in this submission is completely\n",
        "   my own individual work, except where explicitly noted by comments that\n",
        "   provide details otherwise.  I understand that work that has been developed\n",
        "   by another student, or by me in collaboration with other students,\n",
        "   or by non-students as a result of request, solicitation, or payment,\n",
        "   may not be submitted for assessment in this subject.  I understand that\n",
        "   submitting for assessment work developed by or in collaboration with\n",
        "   other students or non-students constitutes Academic Misconduct, and\n",
        "   may be penalized by mark deductions, or by other penalties determined\n",
        "   via the University of Melbourne Academic Honesty Policy, as described\n",
        "   at https://academicintegrity.unimelb.edu.au.\n",
        "\n",
        "   (2) I also certify that I have not provided a copy of this work in either\n",
        "   softcopy or hardcopy or any other form to any other student, and nor will\n",
        "   I do so until after the marks are released. I understand that providing\n",
        "   my work to other students, regardless of my intention or any undertakings\n",
        "   made to me by that other student, is also Academic Misconduct.\n",
        "\n",
        "   (3) I further understand that providing a copy of the assignment\n",
        "   specification to any form of code authoring or assignment tutoring\n",
        "   service, or drawing the attention of others to such services and code\n",
        "   that may have been made available via such a service, may be regarded\n",
        "   as Student General Misconduct (interfering with the teaching activities\n",
        "   of the University and/or inciting others to commit Academic Misconduct).\n",
        "   I understand that an allegation of Student General Misconduct may arise\n",
        "   regardless of whether or not I personally make use of such solutions\n",
        "   or sought benefit from such actions.\n",
        "\n",
        "   <b>Signed by</b>: Arya Araban\n",
        "   \n",
        "   <b>Dated</b>: 4/10/2023"
      ]
    }
  ],
  "metadata": {
    "kernelspec": {
      "display_name": "Python 3 (ipykernel)",
      "language": "python",
      "name": "python3"
    },
    "language_info": {
      "codemirror_mode": {
        "name": "ipython",
        "version": 3
      },
      "file_extension": ".py",
      "mimetype": "text/x-python",
      "name": "python",
      "nbconvert_exporter": "python",
      "pygments_lexer": "ipython3",
      "version": "3.9.13"
    },
    "colab": {
      "provenance": []
    }
  },
  "nbformat": 4,
  "nbformat_minor": 5
}